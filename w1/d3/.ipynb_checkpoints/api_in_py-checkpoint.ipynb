{
 "cells": [
  {
   "cell_type": "markdown",
   "id": "e81cbb25-2542-4f88-95ac-845be3103f00",
   "metadata": {},
   "source": [
    "## APIs in Python\n",
    "using the *requests* library"
   ]
  },
  {
   "cell_type": "code",
   "execution_count": 1,
   "id": "8d9cef63-d76f-4c5a-b86c-00845cc7b1c8",
   "metadata": {},
   "outputs": [],
   "source": [
    "import requests as re\n",
    "import os"
   ]
  },
  {
   "cell_type": "code",
   "execution_count": null,
   "id": "8041e74c-d154-4e36-b2bb-5c8e93de0457",
   "metadata": {},
   "outputs": [],
   "source": [
    "endpoint_url = "
   ]
  }
 ],
 "metadata": {
  "kernelspec": {
   "display_name": "ds_env",
   "language": "python",
   "name": "ds_env"
  },
  "language_info": {
   "codemirror_mode": {
    "name": "ipython",
    "version": 3
   },
   "file_extension": ".py",
   "mimetype": "text/x-python",
   "name": "python",
   "nbconvert_exporter": "python",
   "pygments_lexer": "ipython3",
   "version": "3.8.12"
  }
 },
 "nbformat": 4,
 "nbformat_minor": 5
}
