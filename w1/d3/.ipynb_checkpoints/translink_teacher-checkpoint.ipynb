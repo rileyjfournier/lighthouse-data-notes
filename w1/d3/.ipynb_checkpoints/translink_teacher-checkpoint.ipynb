{
 "cells": [
  {
   "cell_type": "code",
   "execution_count": 10,
   "metadata": {},
   "outputs": [
    {
     "name": "stdout",
     "output_type": "stream",
     "text": [
      "Dnmlzo7VEguzBUIE5W37\n"
     ]
    }
   ],
   "source": [
    "import requests as r    # To get HTTP request\n",
    "from IPython.display import JSON # To nicely print out JSON and make it more readable (can only use in Jupyter Lab)\n",
    "import pprint\n",
    "pp = pprint.PrettyPrinter(indent=4)\n",
    "#show pprint\n",
    "\n",
    "\n",
    "apikey = \"Dnmlzo7VEguzBUIE5W37\"\n",
    "print(apikey)      # To check that environmental variable has been loaded"
   ]
  },
  {
   "cell_type": "code",
   "execution_count": 8,
   "metadata": {},
   "outputs": [],
   "source": [
    "from api_keys import translink_api_key"
   ]
  },
  {
   "cell_type": "code",
   "execution_count": 9,
   "metadata": {},
   "outputs": [
    {
     "data": {
      "text/plain": [
       "'Dnmlzo7VEguzBUIE5W37'"
      ]
     },
     "execution_count": 9,
     "metadata": {},
     "output_type": "execute_result"
    }
   ],
   "source": [
    "translink_api_key"
   ]
  },
  {
   "cell_type": "markdown",
   "metadata": {},
   "source": [
    "## Lets look at some basic examples where we just format the url with our parameters"
   ]
  },
  {
   "cell_type": "code",
   "execution_count": 13,
   "metadata": {
    "tags": []
   },
   "outputs": [
    {
     "name": "stdout",
     "output_type": "stream",
     "text": [
      "<Response [200]>\n"
     ]
    }
   ],
   "source": [
    "# Example 1: get information about a specific bus stop\n",
    "endpoint_url = f\"http://api.translink.ca/rttiapi/v1/stops/61935?apikey={translink_api_key}\"\n",
    "\n",
    "\n",
    "response = r.get(endpoint_url, headers={'accept': 'application/JSON'})\n",
    "\n",
    "print(response)\n",
    "\n",
    "#pp.pprint(response)    # Nicer output than 'print(response)'"
   ]
  },
  {
   "cell_type": "code",
   "execution_count": 16,
   "metadata": {},
   "outputs": [
    {
     "data": {
      "text/plain": [
       "200"
      ]
     },
     "execution_count": 16,
     "metadata": {},
     "output_type": "execute_result"
    }
   ],
   "source": [
    "response.status_code"
   ]
  },
  {
   "cell_type": "code",
   "execution_count": null,
   "metadata": {},
   "outputs": [],
   "source": []
  },
  {
   "cell_type": "code",
   "execution_count": 17,
   "metadata": {},
   "outputs": [
    {
     "data": {
      "text/plain": [
       "{'StopNo': 61935,\n",
       " 'Name': 'UBC EXCHANGE BAY 7 ',\n",
       " 'BayNo': '4',\n",
       " 'City': 'VANCOUVER',\n",
       " 'OnStreet': 'UBC EXCHANGE',\n",
       " 'AtStreet': 'BAY 7',\n",
       " 'Latitude': 49.267419,\n",
       " 'Longitude': -123.246831,\n",
       " 'WheelchairAccess': 1,\n",
       " 'Distance': -1,\n",
       " 'Routes': '099'}"
      ]
     },
     "execution_count": 17,
     "metadata": {},
     "output_type": "execute_result"
    }
   ],
   "source": [
    "response.json()"
   ]
  },
  {
   "cell_type": "code",
   "execution_count": 21,
   "metadata": {
    "tags": []
   },
   "outputs": [
    {
     "data": {
      "application/json": [
       {
        "Direction": "EAST",
        "RouteMap": {
         "Href": "https://nb.translink.ca/geodata/099.kmz"
        },
        "RouteName": "COMMERCIAL-BROADWAY/UBC (B-LINE)",
        "RouteNo": "099",
        "Schedules": [
         {
          "AddedStop": false,
          "AddedTrip": false,
          "CancelledStop": false,
          "CancelledTrip": false,
          "Destination": "COMM'L-BDWAY STN",
          "ExpectedCountdown": 3,
          "ExpectedLeaveTime": "12:01pm",
          "LastUpdate": "11:01:19 am",
          "Pattern": "E1",
          "ScheduleStatus": "*"
         },
         {
          "AddedStop": false,
          "AddedTrip": false,
          "CancelledStop": false,
          "CancelledTrip": false,
          "Destination": "COMM'L-BDWAY STN",
          "ExpectedCountdown": 7,
          "ExpectedLeaveTime": "12:05pm",
          "LastUpdate": "11:05:23 am",
          "Pattern": "E1",
          "ScheduleStatus": "*"
         },
         {
          "AddedStop": false,
          "AddedTrip": false,
          "CancelledStop": false,
          "CancelledTrip": false,
          "Destination": "COMM'L-BDWAY STN",
          "ExpectedCountdown": 12,
          "ExpectedLeaveTime": "12:10pm",
          "LastUpdate": "11:10:13 am",
          "Pattern": "E1",
          "ScheduleStatus": "*"
         },
         {
          "AddedStop": false,
          "AddedTrip": false,
          "CancelledStop": false,
          "CancelledTrip": false,
          "Destination": "COMM'L-BDWAY STN",
          "ExpectedCountdown": 16,
          "ExpectedLeaveTime": "12:14pm",
          "LastUpdate": "11:14:00 am",
          "Pattern": "E1",
          "ScheduleStatus": "*"
         },
         {
          "AddedStop": false,
          "AddedTrip": false,
          "CancelledStop": false,
          "CancelledTrip": false,
          "Destination": "COMM'L-BDWAY STN",
          "ExpectedCountdown": 21,
          "ExpectedLeaveTime": "12:19pm",
          "LastUpdate": "11:19:00 am",
          "Pattern": "E1",
          "ScheduleStatus": "*"
         },
         {
          "AddedStop": false,
          "AddedTrip": false,
          "CancelledStop": false,
          "CancelledTrip": false,
          "Destination": "COMM'L-BDWAY STN",
          "ExpectedCountdown": 25,
          "ExpectedLeaveTime": "12:23pm",
          "LastUpdate": "11:23:12 am",
          "Pattern": "E1",
          "ScheduleStatus": "*"
         }
        ]
       }
      ],
      "text/plain": [
       "<IPython.core.display.JSON object>"
      ]
     },
     "execution_count": 21,
     "metadata": {
      "application/json": {
       "expanded": false,
       "root": "root"
      }
     },
     "output_type": "execute_result"
    }
   ],
   "source": [
    "# Example 2: get estimates of bus schedules at a specific stop\n",
    "request_url = 'http://api.translink.ca/rttiapi/v1/stops/61935/estimates?apikey={}'.format(apikey)\n",
    "response = requests.get(request_url, headers={'accept': 'application/JSON'}).json()\n",
    "#pp.pprint(response)\n",
    "\n",
    "JSON(response)"
   ]
  },
  {
   "cell_type": "code",
   "execution_count": 22,
   "metadata": {},
   "outputs": [
    {
     "name": "stdout",
     "output_type": "stream",
     "text": [
      "[   {   'AtStreet': '98 AVE',\n",
      "        'BayNo': 'N',\n",
      "        'City': 'SURREY',\n",
      "        'Distance': 307,\n",
      "        'Latitude': 49.179601,\n",
      "        'Longitude': -122.845814,\n",
      "        'Name': 'SB KING GEORGE BLVD FS 98 AVE',\n",
      "        'OnStreet': 'KING GEORGE BLVD',\n",
      "        'Routes': '314, 321, 329',\n",
      "        'StopNo': 54997,\n",
      "        'WheelchairAccess': 1},\n",
      "    {   'AtStreet': '134 ST',\n",
      "        'BayNo': 'N',\n",
      "        'City': 'SURREY',\n",
      "        'Distance': 338,\n",
      "        'Latitude': 49.176992,\n",
      "        'Longitude': -122.850709,\n",
      "        'Name': 'EB 96 AVE FS 134 ST',\n",
      "        'OnStreet': '96 AVE',\n",
      "        'Routes': '314, 329',\n",
      "        'StopNo': 54986,\n",
      "        'WheelchairAccess': 0},\n",
      "    {   'AtStreet': '134 ST',\n",
      "        'BayNo': 'N',\n",
      "        'City': 'SURREY',\n",
      "        'Distance': 342,\n",
      "        'Latitude': 49.177159,\n",
      "        'Longitude': -122.851794,\n",
      "        'Name': 'WB 96 AVE FS 134 ST',\n",
      "        'OnStreet': '96 AVE',\n",
      "        'Routes': '314, 329',\n",
      "        'StopNo': 54999,\n",
      "        'WheelchairAccess': 0},\n",
      "    {   'AtStreet': 'FRASER HWY',\n",
      "        'BayNo': 'N',\n",
      "        'City': 'SURREY',\n",
      "        'Distance': 367,\n",
      "        'Latitude': 49.181116,\n",
      "        'Longitude': -122.845247,\n",
      "        'Name': 'NB KING GEORGE BLVD FS FRASER HWY',\n",
      "        'OnStreet': 'KING GEORGE BLVD',\n",
      "        'Routes': '',\n",
      "        'StopNo': 54989,\n",
      "        'WheelchairAccess': 1},\n",
      "    {   'AtStreet': 'KING GEORGE BLVD',\n",
      "        'BayNo': 'N',\n",
      "        'City': 'SURREY',\n",
      "        'Distance': 386,\n",
      "        'Latitude': 49.177135,\n",
      "        'Longitude': -122.847002,\n",
      "        'Name': 'WB 96 AVE FS KING GEORGE BLVD',\n",
      "        'OnStreet': '96 AVE',\n",
      "        'Routes': '314, 329',\n",
      "        'StopNo': 54998,\n",
      "        'WheelchairAccess': 1},\n",
      "    {   'AtStreet': '96 AVE',\n",
      "        'BayNo': 'N',\n",
      "        'City': 'SURREY',\n",
      "        'Distance': 425,\n",
      "        'Latitude': 49.177621,\n",
      "        'Longitude': -122.845422,\n",
      "        'Name': 'NB KING GEORGE BLVD FS 96 AVE',\n",
      "        'OnStreet': 'KING GEORGE BLVD',\n",
      "        'Routes': '314, 321, 326, 329, 394, R1',\n",
      "        'StopNo': 54988,\n",
      "        'WheelchairAccess': 1},\n",
      "    {   'AtStreet': 'BAY 4',\n",
      "        'BayNo': '4',\n",
      "        'City': 'SURREY',\n",
      "        'Distance': 460,\n",
      "        'Latitude': 49.182677,\n",
      "        'Longitude': -122.845166,\n",
      "        'Name': 'KING GEORGE STN BAY 4',\n",
      "        'OnStreet': 'KING GEORGE STN',\n",
      "        'Routes': '314, 321, 326, 329, 502, 503, R1',\n",
      "        'StopNo': 59339,\n",
      "        'WheelchairAccess': 1},\n",
      "    {   'AtStreet': 'BAY 1',\n",
      "        'BayNo': '1',\n",
      "        'City': 'SURREY',\n",
      "        'Distance': 473,\n",
      "        'Latitude': 49.183201,\n",
      "        'Longitude': -122.845706,\n",
      "        'Name': 'KING GEORGE STN BAY 1',\n",
      "        'OnStreet': 'KING GEORGE STN',\n",
      "        'Routes': '314, 321, 326, 329, R1',\n",
      "        'StopNo': 54996,\n",
      "        'WheelchairAccess': 1},\n",
      "    {   'AtStreet': 'PLATFORM 2',\n",
      "        'BayNo': 'N',\n",
      "        'City': 'SURREY',\n",
      "        'Distance': 490,\n",
      "        'Latitude': 49.182755,\n",
      "        'Longitude': -122.844744,\n",
      "        'Name': 'KING GEORGE STATION PLATFORM 2',\n",
      "        'OnStreet': 'KING GEORGE STATION',\n",
      "        'Routes': '',\n",
      "        'StopNo': 57983,\n",
      "        'WheelchairAccess': 0},\n",
      "    {   'AtStreet': '98 AVE',\n",
      "        'BayNo': 'N',\n",
      "        'City': 'SURREY',\n",
      "        'Distance': 491,\n",
      "        'Latitude': 49.181077,\n",
      "        'Longitude': -122.856552,\n",
      "        'Name': 'NB 132 ST NS 98 AVE',\n",
      "        'OnStreet': '132 ST',\n",
      "        'Routes': '324',\n",
      "        'StopNo': 55665,\n",
      "        'WheelchairAccess': 1},\n",
      "    {   'AtStreet': '98 AVE',\n",
      "        'BayNo': 'N',\n",
      "        'City': 'SURREY',\n",
      "        'Distance': 496,\n",
      "        'Latitude': 49.180401,\n",
      "        'Longitude': -122.856803,\n",
      "        'Name': 'SB 132 ST FS 98 AVE',\n",
      "        'OnStreet': '132 ST',\n",
      "        'Routes': '324',\n",
      "        'StopNo': 55669,\n",
      "        'WheelchairAccess': 0},\n",
      "    {   'AtStreet': 'BAY 2',\n",
      "        'BayNo': '2',\n",
      "        'City': 'SURREY',\n",
      "        'Distance': 496,\n",
      "        'Latitude': 49.183124,\n",
      "        'Longitude': -122.845136,\n",
      "        'Name': 'KING GEORGE STN BAY 2',\n",
      "        'OnStreet': 'KING GEORGE STN',\n",
      "        'Routes': '345, 394',\n",
      "        'StopNo': 54990,\n",
      "        'WheelchairAccess': 1},\n",
      "    {   'AtStreet': 'PLATFORM 1',\n",
      "        'BayNo': 'N',\n",
      "        'City': 'SURREY',\n",
      "        'Distance': 497,\n",
      "        'Latitude': 49.182812,\n",
      "        'Longitude': -122.844691,\n",
      "        'Name': 'KING GEORGE STATION PLATFORM 1',\n",
      "        'OnStreet': 'KING GEORGE STATION',\n",
      "        'Routes': '',\n",
      "        'StopNo': 57984,\n",
      "        'WheelchairAccess': 0}]\n"
     ]
    }
   ],
   "source": [
    "##Example 3: get all bus stops near a (latitude, longitude) coordinate (more parameters)\n",
    "\n",
    "request_url = 'https://api.translink.ca/rttiapi/v1/stops?apikey={}&lat={}&long={}'.format(apikey, 49.18, -122.85)\n",
    "response = requests.get(request_url, headers={'accept': 'application/JSON'}).json()\n",
    "pp.pprint(response)"
   ]
  },
  {
   "cell_type": "code",
   "execution_count": 31,
   "metadata": {},
   "outputs": [
    {
     "data": {
      "text/plain": [
       "list"
      ]
     },
     "execution_count": 31,
     "metadata": {},
     "output_type": "execute_result"
    }
   ],
   "source": [
    "# We're getting the response as JSON data. What does this look like in Python?\n",
    "# It can either be a list of dictionaries, or a dictionary\n",
    "type(response)"
   ]
  },
  {
   "cell_type": "code",
   "execution_count": 32,
   "metadata": {},
   "outputs": [
    {
     "data": {
      "text/plain": [
       "54989"
      ]
     },
     "execution_count": 32,
     "metadata": {},
     "output_type": "execute_result"
    }
   ],
   "source": [
    "# It's a list of dictionaries, so if we want to access specific entires, we can do so just like\n",
    "# we would any other list/dictionary\n",
    "response[3]['StopNo']  # Get the stop number of the first bus stop in the list"
   ]
  },
  {
   "cell_type": "code",
   "execution_count": 35,
   "metadata": {},
   "outputs": [
    {
     "name": "stdout",
     "output_type": "stream",
     "text": [
      "[54997, 54986, 54999, 54989, 54998, 54988, 59339, 54996, 57983, 55665, 55669, 54990, 57984]\n"
     ]
    }
   ],
   "source": [
    "stop_no_list = []\n",
    "\n",
    "for stop in range(len(response)): \n",
    "    stop_no_list.append(response[stop]['StopNo'])\n",
    "    \n",
    "print(stop_no_list)"
   ]
  },
  {
   "cell_type": "code",
   "execution_count": null,
   "metadata": {},
   "outputs": [],
   "source": []
  },
  {
   "cell_type": "markdown",
   "metadata": {},
   "source": [
    "## The requests.get function allows us to specify our parameters in a more organized way, using the \"params\" argument"
   ]
  },
  {
   "cell_type": "code",
   "execution_count": 37,
   "metadata": {},
   "outputs": [
    {
     "data": {
      "text/plain": [
       "[{'StopNo': 54997,\n",
       "  'Name': 'SB KING GEORGE BLVD FS 98 AVE',\n",
       "  'BayNo': 'N',\n",
       "  'City': 'SURREY',\n",
       "  'OnStreet': 'KING GEORGE BLVD',\n",
       "  'AtStreet': '98 AVE',\n",
       "  'Latitude': 49.179601,\n",
       "  'Longitude': -122.845814,\n",
       "  'WheelchairAccess': 1,\n",
       "  'Distance': 307,\n",
       "  'Routes': '314, 321, 329'},\n",
       " {'StopNo': 54986,\n",
       "  'Name': 'EB 96 AVE FS 134 ST',\n",
       "  'BayNo': 'N',\n",
       "  'City': 'SURREY',\n",
       "  'OnStreet': '96 AVE',\n",
       "  'AtStreet': '134 ST',\n",
       "  'Latitude': 49.176992,\n",
       "  'Longitude': -122.850709,\n",
       "  'WheelchairAccess': 0,\n",
       "  'Distance': 338,\n",
       "  'Routes': '314, 329'},\n",
       " {'StopNo': 54999,\n",
       "  'Name': 'WB 96 AVE FS 134 ST',\n",
       "  'BayNo': 'N',\n",
       "  'City': 'SURREY',\n",
       "  'OnStreet': '96 AVE',\n",
       "  'AtStreet': '134 ST',\n",
       "  'Latitude': 49.177159,\n",
       "  'Longitude': -122.851794,\n",
       "  'WheelchairAccess': 0,\n",
       "  'Distance': 342,\n",
       "  'Routes': '314, 329'},\n",
       " {'StopNo': 54989,\n",
       "  'Name': 'NB KING GEORGE BLVD FS FRASER HWY',\n",
       "  'BayNo': 'N',\n",
       "  'City': 'SURREY',\n",
       "  'OnStreet': 'KING GEORGE BLVD',\n",
       "  'AtStreet': 'FRASER HWY',\n",
       "  'Latitude': 49.181116,\n",
       "  'Longitude': -122.845247,\n",
       "  'WheelchairAccess': 1,\n",
       "  'Distance': 367,\n",
       "  'Routes': ''},\n",
       " {'StopNo': 54998,\n",
       "  'Name': 'WB 96 AVE FS KING GEORGE BLVD',\n",
       "  'BayNo': 'N',\n",
       "  'City': 'SURREY',\n",
       "  'OnStreet': '96 AVE',\n",
       "  'AtStreet': 'KING GEORGE BLVD',\n",
       "  'Latitude': 49.177135,\n",
       "  'Longitude': -122.847002,\n",
       "  'WheelchairAccess': 1,\n",
       "  'Distance': 386,\n",
       "  'Routes': '314, 329'},\n",
       " {'StopNo': 54988,\n",
       "  'Name': 'NB KING GEORGE BLVD FS 96 AVE',\n",
       "  'BayNo': 'N',\n",
       "  'City': 'SURREY',\n",
       "  'OnStreet': 'KING GEORGE BLVD',\n",
       "  'AtStreet': '96 AVE',\n",
       "  'Latitude': 49.177621,\n",
       "  'Longitude': -122.845422,\n",
       "  'WheelchairAccess': 1,\n",
       "  'Distance': 425,\n",
       "  'Routes': '314, 321, 326, 329, 394, R1'},\n",
       " {'StopNo': 59339,\n",
       "  'Name': 'KING GEORGE STN BAY 4',\n",
       "  'BayNo': '4',\n",
       "  'City': 'SURREY',\n",
       "  'OnStreet': 'KING GEORGE STN',\n",
       "  'AtStreet': 'BAY 4',\n",
       "  'Latitude': 49.182677,\n",
       "  'Longitude': -122.845166,\n",
       "  'WheelchairAccess': 1,\n",
       "  'Distance': 460,\n",
       "  'Routes': '314, 321, 326, 329, 502, 503, R1'},\n",
       " {'StopNo': 54996,\n",
       "  'Name': 'KING GEORGE STN BAY 1',\n",
       "  'BayNo': '1',\n",
       "  'City': 'SURREY',\n",
       "  'OnStreet': 'KING GEORGE STN',\n",
       "  'AtStreet': 'BAY 1',\n",
       "  'Latitude': 49.183201,\n",
       "  'Longitude': -122.845706,\n",
       "  'WheelchairAccess': 1,\n",
       "  'Distance': 473,\n",
       "  'Routes': '314, 321, 326, 329, R1'},\n",
       " {'StopNo': 57983,\n",
       "  'Name': 'KING GEORGE STATION PLATFORM 2',\n",
       "  'BayNo': 'N',\n",
       "  'City': 'SURREY',\n",
       "  'OnStreet': 'KING GEORGE STATION',\n",
       "  'AtStreet': 'PLATFORM 2',\n",
       "  'Latitude': 49.182755,\n",
       "  'Longitude': -122.844744,\n",
       "  'WheelchairAccess': 0,\n",
       "  'Distance': 490,\n",
       "  'Routes': ''},\n",
       " {'StopNo': 55665,\n",
       "  'Name': 'NB 132 ST NS 98 AVE',\n",
       "  'BayNo': 'N',\n",
       "  'City': 'SURREY',\n",
       "  'OnStreet': '132 ST',\n",
       "  'AtStreet': '98 AVE',\n",
       "  'Latitude': 49.181077,\n",
       "  'Longitude': -122.856552,\n",
       "  'WheelchairAccess': 1,\n",
       "  'Distance': 491,\n",
       "  'Routes': '324'},\n",
       " {'StopNo': 55669,\n",
       "  'Name': 'SB 132 ST FS 98 AVE',\n",
       "  'BayNo': 'N',\n",
       "  'City': 'SURREY',\n",
       "  'OnStreet': '132 ST',\n",
       "  'AtStreet': '98 AVE',\n",
       "  'Latitude': 49.180401,\n",
       "  'Longitude': -122.856803,\n",
       "  'WheelchairAccess': 0,\n",
       "  'Distance': 496,\n",
       "  'Routes': '324'},\n",
       " {'StopNo': 54990,\n",
       "  'Name': 'KING GEORGE STN BAY 2',\n",
       "  'BayNo': '2',\n",
       "  'City': 'SURREY',\n",
       "  'OnStreet': 'KING GEORGE STN',\n",
       "  'AtStreet': 'BAY 2',\n",
       "  'Latitude': 49.183124,\n",
       "  'Longitude': -122.845136,\n",
       "  'WheelchairAccess': 1,\n",
       "  'Distance': 496,\n",
       "  'Routes': '345, 394'},\n",
       " {'StopNo': 57984,\n",
       "  'Name': 'KING GEORGE STATION PLATFORM 1',\n",
       "  'BayNo': 'N',\n",
       "  'City': 'SURREY',\n",
       "  'OnStreet': 'KING GEORGE STATION',\n",
       "  'AtStreet': 'PLATFORM 1',\n",
       "  'Latitude': 49.182812,\n",
       "  'Longitude': -122.844691,\n",
       "  'WheelchairAccess': 0,\n",
       "  'Distance': 497,\n",
       "  'Routes': ''}]"
      ]
     },
     "execution_count": 37,
     "metadata": {},
     "output_type": "execute_result"
    }
   ],
   "source": [
    "# Example 4, but using the 'params' argument to specify the parameters\n",
    "api_endpoint = 'https://api.translink.ca/rttiapi/v1/stops'\n",
    "\n",
    "params_dictionary = {'apikey': apikey, \n",
    "                                'lat': 49.18, \n",
    "                                'long': -122.85}\n",
    "\n",
    "response = requests.get(api_endpoint, \n",
    "                        params=  params_dictionary,\n",
    "                        \n",
    "                        headers={'accept': 'application/JSON'}).json()\n",
    "\n",
    "\n",
    "response"
   ]
  },
  {
   "cell_type": "code",
   "execution_count": 4,
   "metadata": {},
   "outputs": [],
   "source": [
    "weather_api_key = \"11efc9721970d2040ec97a5ef5d0f381\"\n",
    "\n",
    "\n",
    "#api.openweathermap.org/data/2.5/weather?q={city name}&appid={API key}\n",
    "\n",
    "url_endpoint = \"https://api.openweathermap.org/data/2.5/weather?\"\n",
    "\n",
    "any_variable = requests.get(url_endpoint,\n",
    "                           params = {\n",
    "                               \"appid\" : \"11efc9721970d2040ec97a5ef5d0f381\",\n",
    "                               \"q\" : \"Toronto\"\n",
    "                           }\n",
    "                           )\n",
    "\n"
   ]
  },
  {
   "cell_type": "code",
   "execution_count": 5,
   "metadata": {},
   "outputs": [
    {
     "data": {
      "text/plain": [
       "<Response [200]>"
      ]
     },
     "execution_count": 5,
     "metadata": {},
     "output_type": "execute_result"
    }
   ],
   "source": [
    "any_variable"
   ]
  },
  {
   "cell_type": "code",
   "execution_count": 6,
   "metadata": {},
   "outputs": [
    {
     "data": {
      "text/plain": [
       "{'coord': {'lon': -79.4163, 'lat': 43.7001},\n",
       " 'weather': [{'id': 804,\n",
       "   'main': 'Clouds',\n",
       "   'description': 'overcast clouds',\n",
       "   'icon': '04d'}],\n",
       " 'base': 'stations',\n",
       " 'main': {'temp': 274.64,\n",
       "  'feels_like': 272.69,\n",
       "  'temp_min': 273.07,\n",
       "  'temp_max': 275.97,\n",
       "  'pressure': 1012,\n",
       "  'humidity': 75},\n",
       " 'visibility': 10000,\n",
       " 'wind': {'speed': 1.79, 'deg': 290, 'gust': 4.92},\n",
       " 'clouds': {'all': 100},\n",
       " 'dt': 1642007765,\n",
       " 'sys': {'type': 1,\n",
       "  'id': 718,\n",
       "  'country': 'CA',\n",
       "  'sunrise': 1641991768,\n",
       "  'sunset': 1642024926},\n",
       " 'timezone': -18000,\n",
       " 'id': 6167865,\n",
       " 'name': 'Toronto',\n",
       " 'cod': 200}"
      ]
     },
     "execution_count": 6,
     "metadata": {},
     "output_type": "execute_result"
    }
   ],
   "source": [
    "any_variable.json()"
   ]
  },
  {
   "cell_type": "code",
   "execution_count": null,
   "metadata": {},
   "outputs": [],
   "source": []
  },
  {
   "cell_type": "code",
   "execution_count": null,
   "metadata": {},
   "outputs": [],
   "source": []
  }
 ],
 "metadata": {
  "kernelspec": {
   "display_name": "Python 3 (ipykernel)",
   "language": "python",
   "name": "python3"
  },
  "language_info": {
   "codemirror_mode": {
    "name": "ipython",
    "version": 3
   },
   "file_extension": ".py",
   "mimetype": "text/x-python",
   "name": "python",
   "nbconvert_exporter": "python",
   "pygments_lexer": "ipython3",
   "version": "3.8.12"
  }
 },
 "nbformat": 4,
 "nbformat_minor": 4
}
