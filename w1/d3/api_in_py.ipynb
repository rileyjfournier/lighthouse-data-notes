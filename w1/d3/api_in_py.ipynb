{
 "cells": [
  {
   "cell_type": "markdown",
   "id": "e81cbb25-2542-4f88-95ac-845be3103f00",
   "metadata": {},
   "source": [
    "## APIs in Python\n",
    "using the *requests* library"
   ]
  },
  {
   "cell_type": "code",
   "execution_count": 1,
   "id": "8d9cef63-d76f-4c5a-b86c-00845cc7b1c8",
   "metadata": {},
   "outputs": [],
   "source": [
    "import requests as re\n",
    "import os"
   ]
  },
  {
   "cell_type": "code",
   "execution_count": 2,
   "id": "8041e74c-d154-4e36-b2bb-5c8e93de0457",
   "metadata": {},
   "outputs": [],
   "source": [
    "api_key = os.environ[\"FOURSQUARE_API_KEY\"]"
   ]
  },
  {
   "cell_type": "code",
   "execution_count": 4,
   "id": "b0bb0194-bfc1-46b2-ad9a-7c3c5d1abd99",
   "metadata": {},
   "outputs": [],
   "source": [
    "location = \"Toronto,Canada\""
   ]
  },
  {
   "cell_type": "code",
   "execution_count": 5,
   "id": "1916b359-b4c2-4fa7-9c38-c113d35b3067",
   "metadata": {},
   "outputs": [],
   "source": [
    "url = \"https://api.foursquare.com/v3/places/search?near=\"+location"
   ]
  },
  {
   "cell_type": "code",
   "execution_count": 7,
   "id": "40a1fb04-1696-4353-ac64-78c24553b48b",
   "metadata": {},
   "outputs": [],
   "source": [
    "# Create a dictionary for headers\n",
    "headers = {\"Accept\": \"application/json\"}\n",
    "\n",
    "# Add key with our API KEY\n",
    "headers['Authorization'] = api_key"
   ]
  },
  {
   "cell_type": "code",
   "execution_count": 8,
   "id": "04a320f1-ea82-4f39-bfaf-4491788e1b5a",
   "metadata": {},
   "outputs": [],
   "source": [
    "# Send request to Foursquare\n",
    "res = re.get(url, headers=headers)"
   ]
  },
  {
   "cell_type": "code",
   "execution_count": 9,
   "id": "f644094a-3a6b-480d-8911-aa1e5997b611",
   "metadata": {},
   "outputs": [
    {
     "name": "stdout",
     "output_type": "stream",
     "text": [
      "<Response [200]>\n"
     ]
    }
   ],
   "source": [
    "# What does the res look like?\n",
    "print(res)"
   ]
  },
  {
   "cell_type": "code",
   "execution_count": 10,
   "id": "db1b529c-7516-4760-83a6-c12348024a3d",
   "metadata": {},
   "outputs": [
    {
     "name": "stdout",
     "output_type": "stream",
     "text": [
      "{'results': [{'fsq_id': '4b0afc19f964a520212b23e3', 'categories': [{'id': 16000, 'name': 'Landmarks and Outdoors', 'icon': {'prefix': 'https://ss3.4sqi.net/img/categories_v2/parks_outdoors/field_', 'suffix': '.png'}}, {'id': 16033, 'name': 'Dog Park', 'icon': {'prefix': 'https://ss3.4sqi.net/img/categories_v2/parks_outdoors/dogrun_', 'suffix': '.png'}}], 'chains': [], 'distance': 1304, 'geocodes': {'main': {'latitude': 43.692534923091934, 'longitude': -79.42870527613704}}, 'location': {'address': '100 Glen Rd', 'country': 'CA', 'cross_street': 'Strathearn', 'locality': 'Toronto', 'postcode': 'M4W 2V7', 'region': 'ON'}, 'name': 'Cedarvale Park', 'related_places': {'children': [{'fsq_id': '5050f634e4b092c65b899303', 'name': 'Cedarvale Dog Park'}, {'fsq_id': '61c4f0b4e565fe05c7572a44', 'name': 'Toboggan Hill'}]}, 'timezone': 'America/Toronto'}, {'fsq_id': '52418b0b7e48222eea81d2d2', 'categories': [{'id': 13199, 'name': 'Indian Restaurant', 'icon': {'prefix': 'https://ss3.4sqi.net/img/categories_v2/food/indian_', 'suffix': '.png'}}], 'chains': [], 'distance': 2357, 'geocodes': {'main': {'latitude': 43.68105502412986, 'longitude': -79.4291869567722}}, 'location': {'address': '778 Saint Clair Ave W', 'country': 'CA', 'cross_street': 'St Clair West & Arlington Ave', 'locality': 'Toronto', 'neighborhood': ['York'], 'postcode': 'M6C 1B6', 'region': 'ON'}, 'name': 'Pukka', 'related_places': {}, 'timezone': 'America/Toronto'}, {'fsq_id': '4aea405ef964a52082ba21e3', 'categories': [{'id': 17058, 'name': 'Beer Store', 'icon': {'prefix': 'https://ss3.4sqi.net/img/categories_v2/nightlife/beergarden_', 'suffix': '.png'}}, {'id': 17069, 'name': 'Grocery Store / Supermarket', 'icon': {'prefix': 'https://ss3.4sqi.net/img/categories_v2/shops/food_grocery_', 'suffix': '.png'}}, {'id': 17076, 'name': 'Liquor Store', 'icon': {'prefix': 'https://ss3.4sqi.net/img/categories_v2/shops/food_liquor_', 'suffix': '.png'}}], 'chains': [], 'distance': 2885, 'geocodes': {'main': {'latitude': 43.68149682937831, 'longitude': -79.39126079276781}}, 'location': {'address': '10 Scrivener Sq', 'country': 'CA', 'cross_street': 'at Yonge St.', 'locality': 'Toronto', 'neighborhood': ['Rathnelly'], 'postcode': 'M4W 3Y9', 'region': 'ON'}, 'name': 'Lcbo', 'related_places': {}, 'timezone': 'America/Toronto'}, {'fsq_id': '5282572111d2f33612220715', 'categories': [{'id': 13034, 'name': 'Café', 'icon': {'prefix': 'https://ss3.4sqi.net/img/categories_v2/food/cafe_', 'suffix': '.png'}}, {'id': 13035, 'name': 'Coffee Shop', 'icon': {'prefix': 'https://ss3.4sqi.net/img/categories_v2/food/coffeeshop_', 'suffix': '.png'}}, {'id': 13065, 'name': 'Restaurant', 'icon': {'prefix': 'https://ss3.4sqi.net/img/categories_v2/food/default_', 'suffix': '.png'}}], 'chains': [], 'distance': 2854, 'geocodes': {'main': {'latitude': 43.681749741301466, 'longitude': -79.39144664398965}}, 'location': {'address': '1208 Yonge St', 'country': 'CA', 'cross_street': 'Summerhill', 'locality': 'Toronto', 'neighborhood': ['Midtown Toronto'], 'postcode': 'M4T 1W1', 'region': 'ON'}, 'name': 'Boxcar Social', 'related_places': {}, 'timezone': 'America/Toronto'}, {'fsq_id': '52ced2c9498e67e1059cf3b2', 'categories': [{'id': 13000, 'name': 'Dining and Drinking', 'icon': {'prefix': 'https://ss3.4sqi.net/img/categories_v2/food/default_', 'suffix': '.png'}}], 'chains': [], 'distance': 3112, 'geocodes': {'main': {'latitude': 43.67910117808306, 'longitude': -79.39068555107286}}, 'location': {'address': '5 MacPherson Ave', 'country': 'CA', 'cross_street': 'Yonge St.', 'locality': 'Toronto', 'neighborhood': ['Downtown Toronto'], 'postcode': 'M5R 1W7', 'region': 'ON'}, 'name': 'Greenhouse Juice Co', 'related_places': {}, 'timezone': 'America/Toronto'}, {'fsq_id': '4ad4c060f964a52063f720e3', 'categories': [{'id': 13064, 'name': 'Pizzeria', 'icon': {'prefix': 'https://ss3.4sqi.net/img/categories_v2/food/pizza_', 'suffix': '.png'}}, {'id': 13236, 'name': 'Italian Restaurant', 'icon': {'prefix': 'https://ss3.4sqi.net/img/categories_v2/food/italian_', 'suffix': '.png'}}], 'chains': [], 'distance': 3245, 'geocodes': {'main': {'latitude': 43.678017280681544, 'longitude': -79.44272454257002}}, 'location': {'address': '1163 Saint Clair Ave W', 'country': 'CA', 'locality': 'Toronto', 'neighborhood': ['York'], 'postcode': 'M6E 1B2', 'region': 'ON'}, 'name': \"Marcello's Pizzeria\", 'related_places': {}, 'timezone': 'America/Toronto'}, {'fsq_id': '4ad88fa9f964a520511221e3', 'categories': [{'id': 13026, 'name': 'BBQ Joint', 'icon': {'prefix': 'https://ss3.4sqi.net/img/categories_v2/food/bbqalt_', 'suffix': '.png'}}, {'id': 13035, 'name': 'Coffee Shop', 'icon': {'prefix': 'https://ss3.4sqi.net/img/categories_v2/food/coffeeshop_', 'suffix': '.png'}}, {'id': 13099, 'name': 'Chinese Restaurant', 'icon': {'prefix': 'https://ss3.4sqi.net/img/categories_v2/food/asian_', 'suffix': '.png'}}], 'chains': [], 'distance': 3357, 'geocodes': {'main': {'latitude': 43.67701587839681, 'longitude': -79.38936661984528}}, 'location': {'address': '4 Crescent Rd', 'country': 'CA', 'cross_street': 'Yonge', 'locality': 'Toronto', 'neighborhood': ['Rosedale'], 'postcode': 'M4W 1S9', 'region': 'ON'}, 'name': 'Black Camel', 'related_places': {}, 'timezone': 'America/Toronto'}, {'fsq_id': '4adcfd7cf964a5203e6321e3', 'categories': [{'id': 17069, 'name': 'Grocery Store / Supermarket', 'icon': {'prefix': 'https://ss3.4sqi.net/img/categories_v2/shops/food_grocery_', 'suffix': '.png'}}], 'chains': [], 'distance': 3531, 'geocodes': {'main': {'latitude': 43.66847077052224, 'longitude': -79.42048512748114}}, 'location': {'address': '200 Christie St', 'country': 'CA', 'cross_street': 'at Essex St', 'locality': 'Toronto', 'neighborhood': ['Christie Pitts'], 'postcode': 'M6G 3B6', 'region': 'ON'}, 'name': 'Fiesta Farms', 'related_places': {}, 'timezone': 'America/Toronto'}, {'fsq_id': '540c8301498e51456f71ae7e', 'categories': [{'id': 13034, 'name': 'Café', 'icon': {'prefix': 'https://ss3.4sqi.net/img/categories_v2/food/cafe_', 'suffix': '.png'}}], 'chains': [], 'distance': 3534, 'geocodes': {'main': {'latitude': 43.669107144072974, 'longitude': -79.42610471852032}}, 'location': {'address': '1028 Shaw St', 'country': 'CA', 'cross_street': 'Yarmouth', 'locality': 'Toronto', 'neighborhood': ['Downtown Toronto'], 'postcode': 'M6G 3N1', 'region': 'ON'}, 'name': 'Contra Cafe', 'related_places': {}, 'timezone': 'America/Toronto'}, {'fsq_id': '568333d5498e400ae0f1a732', 'categories': [{'id': 13003, 'name': 'Bar', 'icon': {'prefix': 'https://ss3.4sqi.net/img/categories_v2/nightlife/pub_', 'suffix': '.png'}}, {'id': 13029, 'name': 'Brewery', 'icon': {'prefix': 'https://ss3.4sqi.net/img/categories_v2/food/brewery_', 'suffix': '.png'}}], 'chains': [], 'distance': 3725, 'geocodes': {'main': {'latitude': 43.66994369492681, 'longitude': -79.43653285503387}}, 'location': {'address': '165 Geary Ave', 'country': 'CA', 'cross_street': 'at Barlett Ave N', 'locality': 'Toronto', 'neighborhood': ['West Toronto'], 'postcode': 'M6H 2B8', 'region': 'ON'}, 'name': 'Blood Brothers Brewing', 'related_places': {}, 'timezone': 'America/Toronto'}], 'context': {'geo_bounds': {'circle': {'center': {'latitude': 43.70011, 'longitude': -79.4163}, 'radius': 16290}}}}\n"
     ]
    }
   ],
   "source": [
    "# If we want to see actual data, we need to use .json()\n",
    "print(res.json())"
   ]
  },
  {
   "cell_type": "code",
   "execution_count": null,
   "id": "2ca3bd63-e500-4303-b53d-4df27c7c1ca9",
   "metadata": {},
   "outputs": [],
   "source": []
  }
 ],
 "metadata": {
  "kernelspec": {
   "display_name": "ds_env",
   "language": "python",
   "name": "ds_env"
  },
  "language_info": {
   "codemirror_mode": {
    "name": "ipython",
    "version": 3
   },
   "file_extension": ".py",
   "mimetype": "text/x-python",
   "name": "python",
   "nbconvert_exporter": "python",
   "pygments_lexer": "ipython3",
   "version": "3.8.12"
  }
 },
 "nbformat": 4,
 "nbformat_minor": 5
}
