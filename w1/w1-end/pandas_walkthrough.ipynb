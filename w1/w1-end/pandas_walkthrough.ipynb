{
 "cells": [
  {
   "cell_type": "code",
   "execution_count": 1,
   "id": "76a4287c-df4f-49cc-b1c7-7f3f8643fc1f",
   "metadata": {},
   "outputs": [],
   "source": [
    "import numpy as np\n",
    "import pandas as pd"
   ]
  },
  {
   "cell_type": "markdown",
   "id": "2d14aea4-502a-4f72-9909-2f87f00abdb8",
   "metadata": {},
   "source": [
    "*Series* is a one-dimensional labeled array capable of holding any data type. The axis labels are collectively referred to as the index. The basic method to create *Series* is to call:"
   ]
  },
  {
   "cell_type": "code",
   "execution_count": null,
   "id": "af5035f9-e56e-41ab-a3f3-f061058d8cd9",
   "metadata": {},
   "outputs": [],
   "source": [
    "s = pd.Series(data, index=index)"
   ]
  },
  {
   "cell_type": "markdown",
   "id": "e10fe5f9-7eb4-4583-98de-6c7844e97cc7",
   "metadata": {},
   "source": [
    "*data* can be many different things:\n",
    "- a Python dict\n",
    "- an ndarray\n",
    "- a scalar value"
   ]
  },
  {
   "cell_type": "markdown",
   "id": "13bbfe25-e233-48d6-bba7-e4751b47cb3b",
   "metadata": {},
   "source": [
    "## From ndarray"
   ]
  },
  {
   "cell_type": "code",
   "execution_count": 22,
   "id": "95acb2bc-f4c0-4259-9d75-3dad80ff13db",
   "metadata": {},
   "outputs": [
    {
     "data": {
      "text/plain": [
       "a   -0.387112\n",
       "b   -0.340261\n",
       "c    1.989447\n",
       "d   -0.381424\n",
       "e   -0.344201\n",
       "dtype: float64"
      ]
     },
     "execution_count": 22,
     "metadata": {},
     "output_type": "execute_result"
    }
   ],
   "source": [
    "# Here, we specify the index\n",
    "s = pd.Series(np.random.randn(5), index=['a', 'b', 'c', 'd', 'e'])\n",
    "s"
   ]
  },
  {
   "cell_type": "code",
   "execution_count": 23,
   "id": "9c1f3369-20a2-4c3a-9691-15636d0eeff5",
   "metadata": {},
   "outputs": [
    {
     "data": {
      "text/plain": [
       "Index(['a', 'b', 'c', 'd', 'e'], dtype='object')"
      ]
     },
     "execution_count": 23,
     "metadata": {},
     "output_type": "execute_result"
    }
   ],
   "source": [
    "s.index"
   ]
  },
  {
   "cell_type": "code",
   "execution_count": 24,
   "id": "e620ddf0-374d-474c-bcc7-70eff3e8ff1d",
   "metadata": {},
   "outputs": [
    {
     "data": {
      "text/plain": [
       "0   -0.485756\n",
       "1   -0.439825\n",
       "2   -0.132159\n",
       "3    2.006349\n",
       "4    0.343410\n",
       "dtype: float64"
      ]
     },
     "execution_count": 24,
     "metadata": {},
     "output_type": "execute_result"
    }
   ],
   "source": [
    "# Here, we let Pandas create a default index\n",
    "pd.Series(np.random.randn(5))"
   ]
  },
  {
   "cell_type": "markdown",
   "id": "da3b395e-64a9-4f0c-84cd-474c7d9b09e6",
   "metadata": {},
   "source": [
    "***"
   ]
  },
  {
   "cell_type": "markdown",
   "id": "b3ea59b1-da0e-423f-af71-74e540cc0ece",
   "metadata": {},
   "source": [
    "## From dict\n",
    "*Series* can be created from dicts:"
   ]
  },
  {
   "cell_type": "code",
   "execution_count": 25,
   "id": "bb0ef767-83d0-4dec-ad3c-b2690a635dcc",
   "metadata": {},
   "outputs": [
    {
     "data": {
      "text/plain": [
       "b    1\n",
       "a    0\n",
       "c    2\n",
       "dtype: int64"
      ]
     },
     "execution_count": 25,
     "metadata": {},
     "output_type": "execute_result"
    }
   ],
   "source": [
    "d = {'b': 1, 'a': 0, 'c': 2}\n",
    "\n",
    "pd.Series(d)"
   ]
  },
  {
   "cell_type": "markdown",
   "id": "37adf42b-c236-499e-aeb6-9df20c3d36ef",
   "metadata": {},
   "source": [
    "***"
   ]
  },
  {
   "cell_type": "markdown",
   "id": "a533afa2-dd55-4a6a-b49b-af057d938a39",
   "metadata": {},
   "source": [
    "## From scalar value\n",
    "If *data* is a scalar value, an index must be provided. The value will be repeated to match the length of the index"
   ]
  },
  {
   "cell_type": "code",
   "execution_count": 26,
   "id": "0e674856-ed1a-4b9b-ae2f-ef55031d1dca",
   "metadata": {},
   "outputs": [
    {
     "data": {
      "text/plain": [
       "a    5.0\n",
       "b    5.0\n",
       "c    5.0\n",
       "d    5.0\n",
       "e    5.0\n",
       "dtype: float64"
      ]
     },
     "execution_count": 26,
     "metadata": {},
     "output_type": "execute_result"
    }
   ],
   "source": [
    "pd.Series(5., index=['a', 'b', 'c', 'd', 'e'])"
   ]
  },
  {
   "cell_type": "markdown",
   "id": "3818d329-32da-492e-8220-f8a3fb698424",
   "metadata": {},
   "source": [
    "***"
   ]
  },
  {
   "cell_type": "markdown",
   "id": "6fce3f76-f0e1-40fd-b288-77dba86d710f",
   "metadata": {},
   "source": [
    "## Series is *ndarray*-like\n",
    "Series act similarly to a *ndarray* from *NumPy* and is a valid argument to most NumPy functions. Operations such as slicing will also slice the index"
   ]
  },
  {
   "cell_type": "code",
   "execution_count": 27,
   "id": "8b1404ce-066e-42f2-b0e3-9477f676818b",
   "metadata": {},
   "outputs": [
    {
     "data": {
      "text/plain": [
       "-0.38711206338345133"
      ]
     },
     "execution_count": 27,
     "metadata": {},
     "output_type": "execute_result"
    }
   ],
   "source": [
    "s[0]"
   ]
  },
  {
   "cell_type": "code",
   "execution_count": 28,
   "id": "b029aa8c-fe89-463d-9d8d-974ded07bb47",
   "metadata": {},
   "outputs": [
    {
     "data": {
      "text/plain": [
       "a   -0.387112\n",
       "b   -0.340261\n",
       "c    1.989447\n",
       "dtype: float64"
      ]
     },
     "execution_count": 28,
     "metadata": {},
     "output_type": "execute_result"
    }
   ],
   "source": [
    "s[:3]"
   ]
  },
  {
   "cell_type": "code",
   "execution_count": 29,
   "id": "a2af36f4-853b-442d-aac0-46843c3a0608",
   "metadata": {},
   "outputs": [
    {
     "data": {
      "text/plain": [
       "b   -0.340261\n",
       "c    1.989447\n",
       "dtype: float64"
      ]
     },
     "execution_count": 29,
     "metadata": {},
     "output_type": "execute_result"
    }
   ],
   "source": [
    "s[s > s.median()]"
   ]
  },
  {
   "cell_type": "code",
   "execution_count": 30,
   "id": "87e0ddfd-b8b4-4541-9620-5c581836a4ad",
   "metadata": {},
   "outputs": [
    {
     "data": {
      "text/plain": [
       "e   -0.344201\n",
       "d   -0.381424\n",
       "b   -0.340261\n",
       "dtype: float64"
      ]
     },
     "execution_count": 30,
     "metadata": {},
     "output_type": "execute_result"
    }
   ],
   "source": [
    "s[[4, 3, 1]]"
   ]
  },
  {
   "cell_type": "code",
   "execution_count": 32,
   "id": "06e21449-78a9-4091-85c0-8459590943dd",
   "metadata": {},
   "outputs": [
    {
     "data": {
      "text/plain": [
       "a    0.679015\n",
       "b    0.711585\n",
       "c    7.311493\n",
       "d    0.682888\n",
       "e    0.708787\n",
       "dtype: float64"
      ]
     },
     "execution_count": 32,
     "metadata": {},
     "output_type": "execute_result"
    }
   ],
   "source": [
    "np.exp(s)"
   ]
  },
  {
   "cell_type": "code",
   "execution_count": 33,
   "id": "0a794314-f3e1-419f-a81b-9eacf70d074d",
   "metadata": {},
   "outputs": [
    {
     "data": {
      "text/plain": [
       "dtype('float64')"
      ]
     },
     "execution_count": 33,
     "metadata": {},
     "output_type": "execute_result"
    }
   ],
   "source": [
    "s.dtype"
   ]
  },
  {
   "cell_type": "code",
   "execution_count": 34,
   "id": "18a403a7-d0f7-4a56-a507-53ebfc7fcabf",
   "metadata": {},
   "outputs": [
    {
     "data": {
      "text/plain": [
       "array([-0.38711206, -0.34026066,  1.98944748, -0.38142445, -0.34420066])"
      ]
     },
     "execution_count": 34,
     "metadata": {},
     "output_type": "execute_result"
    }
   ],
   "source": [
    "# While Series is ndarray-like, if you need an\n",
    "# actual ndarray, then use Series.to_numpy()\n",
    "s.to_numpy()"
   ]
  },
  {
   "cell_type": "markdown",
   "id": "e3ff19ae-96c2-4c76-bed2-ff01bc76c0b7",
   "metadata": {},
   "source": [
    "***"
   ]
  },
  {
   "cell_type": "markdown",
   "id": "af992368-4dda-42ee-964c-971049740c49",
   "metadata": {},
   "source": [
    "## Series is *dict*-like\n",
    "A *Series* is like a fixed-size dict in which you can get and set values by an index label"
   ]
  },
  {
   "cell_type": "code",
   "execution_count": 35,
   "id": "43c12122-2ada-4dbd-b40a-9eb47eccf77e",
   "metadata": {},
   "outputs": [
    {
     "data": {
      "text/plain": [
       "-0.38711206338345133"
      ]
     },
     "execution_count": 35,
     "metadata": {},
     "output_type": "execute_result"
    }
   ],
   "source": [
    "s['a']"
   ]
  },
  {
   "cell_type": "code",
   "execution_count": 36,
   "id": "56c91cba-5a22-4ac0-952f-8cd8d2115cd6",
   "metadata": {},
   "outputs": [
    {
     "data": {
      "text/plain": [
       "a    -0.387112\n",
       "b    -0.340261\n",
       "c     1.989447\n",
       "d    -0.381424\n",
       "e    12.000000\n",
       "dtype: float64"
      ]
     },
     "execution_count": 36,
     "metadata": {},
     "output_type": "execute_result"
    }
   ],
   "source": [
    "s['e'] = 12.\n",
    "s"
   ]
  },
  {
   "cell_type": "code",
   "execution_count": 37,
   "id": "4687b575-068b-4fb7-86e0-cd466c8d3b51",
   "metadata": {},
   "outputs": [
    {
     "data": {
      "text/plain": [
       "True"
      ]
     },
     "execution_count": 37,
     "metadata": {},
     "output_type": "execute_result"
    }
   ],
   "source": [
    "'e' in s"
   ]
  },
  {
   "cell_type": "code",
   "execution_count": 38,
   "id": "2849f9b4-fb38-4d79-80f5-36460f9f90dc",
   "metadata": {},
   "outputs": [
    {
     "data": {
      "text/plain": [
       "False"
      ]
     },
     "execution_count": 38,
     "metadata": {},
     "output_type": "execute_result"
    }
   ],
   "source": [
    "'f' in s"
   ]
  },
  {
   "cell_type": "code",
   "execution_count": 49,
   "id": "6e287da3-1a4c-4277-942f-acf3caf3434d",
   "metadata": {},
   "outputs": [
    {
     "name": "stdout",
     "output_type": "stream",
     "text": [
      "Error occurred with: 'f'\n"
     ]
    }
   ],
   "source": [
    "# If a label is not contained, an exception is raised:\n",
    "try:\n",
    "    s['f']\n",
    "except Exception as e:\n",
    "    print('Error occurred with:', e)"
   ]
  },
  {
   "cell_type": "markdown",
   "id": "98303afb-a4e2-467a-b8ce-5f6993cfb93c",
   "metadata": {},
   "source": [
    "***"
   ]
  },
  {
   "cell_type": "markdown",
   "id": "195a66a3-baf8-44fb-a459-7dc978944a57",
   "metadata": {},
   "source": [
    "## Vectorized Operations\n",
    "A key difference between *Series* and *ndarray* is that operations between *Series* automatically align data based on the label. Thus, you can write computations without considering whether the *Series* involved have the same labels"
   ]
  },
  {
   "cell_type": "code",
   "execution_count": 50,
   "id": "aee1e4d5-9c82-4d8d-9a4c-d5a87bed610f",
   "metadata": {},
   "outputs": [
    {
     "data": {
      "text/plain": [
       "a    -0.774224\n",
       "b    -0.680521\n",
       "c     3.978895\n",
       "d    -0.762849\n",
       "e    24.000000\n",
       "dtype: float64"
      ]
     },
     "execution_count": 50,
     "metadata": {},
     "output_type": "execute_result"
    }
   ],
   "source": [
    "s + s"
   ]
  },
  {
   "cell_type": "code",
   "execution_count": 51,
   "id": "ad06dea5-00b7-46e1-969d-636be78d5505",
   "metadata": {},
   "outputs": [
    {
     "data": {
      "text/plain": [
       "a    -0.774224\n",
       "b    -0.680521\n",
       "c     3.978895\n",
       "d    -0.762849\n",
       "e    24.000000\n",
       "dtype: float64"
      ]
     },
     "execution_count": 51,
     "metadata": {},
     "output_type": "execute_result"
    }
   ],
   "source": [
    "s * 2"
   ]
  },
  {
   "cell_type": "code",
   "execution_count": 52,
   "id": "9b1a7bfe-d5f1-40e0-a633-3a2db71a89ee",
   "metadata": {},
   "outputs": [
    {
     "data": {
      "text/plain": [
       "a         0.679015\n",
       "b         0.711585\n",
       "c         7.311493\n",
       "d         0.682888\n",
       "e    162754.791419\n",
       "dtype: float64"
      ]
     },
     "execution_count": 52,
     "metadata": {},
     "output_type": "execute_result"
    }
   ],
   "source": [
    "np.exp(s)"
   ]
  },
  {
   "cell_type": "code",
   "execution_count": 53,
   "id": "4cb7f457-0cbd-4a70-8bc1-d5d7aec2af83",
   "metadata": {},
   "outputs": [
    {
     "data": {
      "text/plain": [
       "a         NaN\n",
       "b   -0.680521\n",
       "c    3.978895\n",
       "d   -0.762849\n",
       "e         NaN\n",
       "dtype: float64"
      ]
     },
     "execution_count": 53,
     "metadata": {},
     "output_type": "execute_result"
    }
   ],
   "source": [
    "s1 = s[1:]\n",
    "s2 = s[:-1]\n",
    "s1 + s2"
   ]
  },
  {
   "cell_type": "markdown",
   "id": "f307e796-b6bc-4d3a-8915-c3eb952980e9",
   "metadata": {},
   "source": [
    "***"
   ]
  },
  {
   "cell_type": "markdown",
   "id": "40d45321-2bc5-43f2-b59d-1968992c024d",
   "metadata": {},
   "source": [
    "## Name Attribute\n",
    "*Series* can also have a *name* attribute"
   ]
  },
  {
   "cell_type": "code",
   "execution_count": 54,
   "id": "31671df7-a12c-4d94-aa5d-85c0f59b7e24",
   "metadata": {},
   "outputs": [
    {
     "data": {
      "text/plain": [
       "0    0.884453\n",
       "1   -1.274602\n",
       "2   -0.140365\n",
       "3   -0.495843\n",
       "4    1.705437\n",
       "Name: something, dtype: float64"
      ]
     },
     "execution_count": 54,
     "metadata": {},
     "output_type": "execute_result"
    }
   ],
   "source": [
    "s = pd.Series(np.random.randn(5), name='something')\n",
    "s"
   ]
  },
  {
   "cell_type": "code",
   "execution_count": 55,
   "id": "9d79668e-9349-44fd-8738-f577462d3ca3",
   "metadata": {},
   "outputs": [
    {
     "data": {
      "text/plain": [
       "'something'"
      ]
     },
     "execution_count": 55,
     "metadata": {},
     "output_type": "execute_result"
    }
   ],
   "source": [
    "s.name"
   ]
  },
  {
   "cell_type": "code",
   "execution_count": null,
   "id": "8ca34e80-083a-42a7-a64b-0487f4cf11db",
   "metadata": {},
   "outputs": [],
   "source": []
  }
 ],
 "metadata": {
  "kernelspec": {
   "display_name": "ds_env",
   "language": "python",
   "name": "ds_env"
  },
  "language_info": {
   "codemirror_mode": {
    "name": "ipython",
    "version": 3
   },
   "file_extension": ".py",
   "mimetype": "text/x-python",
   "name": "python",
   "nbconvert_exporter": "python",
   "pygments_lexer": "ipython3",
   "version": "3.8.12"
  }
 },
 "nbformat": 4,
 "nbformat_minor": 5
}
