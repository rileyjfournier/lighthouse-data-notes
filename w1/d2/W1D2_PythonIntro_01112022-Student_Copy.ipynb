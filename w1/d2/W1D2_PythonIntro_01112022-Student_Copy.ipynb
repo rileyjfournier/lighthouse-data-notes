{
 "cells": [
  {
   "cell_type": "markdown",
   "id": "721e8e09",
   "metadata": {},
   "source": [
    "## Lighthouse Labs\n",
    "### W01D2 Intro to Python\n",
    "Instructor: Andrew Berry  \n",
    "January 11, 2022"
   ]
  },
  {
   "cell_type": "markdown",
   "id": "f3b9ef84",
   "metadata": {},
   "source": [
    "### Python Basics\n",
    "\n",
    "In this notebook we will cover some of the basics of python. The topics we will cover listed below. \n",
    "- Python Syntax\n",
    "- Python Data Types\n",
    "- For Loops\n",
    "- While Loops\n",
    "- Control Flow (If and Else Statements)\n",
    "- FUnctions\n",
    "- Errors and Exceptional Handling\n",
    "- Datetime \n",
    "\n",
    "We're mainly going to focus on the core operations, the ones that you will use most often. There is much, much more that you can do with all of the different data types in Python.\n",
    "\n",
    "There's a lot here so it may seem pretty dry, but it will be useful for you going forward as a quick Python cheatsheet.\n",
    "\n",
    "Python programs are usually organized with one statement per line. Each statement occupies one line. \n",
    "- a line is a python expression\n"
   ]
  },
  {
   "cell_type": "markdown",
   "id": "c30a22ad",
   "metadata": {},
   "source": [
    "### Built in Data Types - Values and Objects\n",
    "\n",
    "We will been working with values, which are pieces of data that a computer program works with, such as a number or text.\n",
    "We will assign a lot of these values to objects (variables) with the assignment operator `=`.\n",
    "These values will always belong to a data type\n",
    "\n",
    "\n",
    "Here are some data types built-in to the Python language:\n",
    "\n",
    "* Integers - `int`\n",
    "* Floating-point numbers - `float` - NaN belongs to this group 4.5\n",
    "* Strings - `str`\n",
    "* Booleans - `bool` - two values: True and False.\n",
    "* Lists - `list`\n",
    "* Tuples - `tuple`\n",
    "* Sets - `set`\n",
    "* Dictionaries - `dict`\n",
    "\n",
    "\n",
    "\n",
    "### Integers & Floats"
   ]
  },
  {
   "cell_type": "code",
   "execution_count": 1,
   "id": "56fe21d7",
   "metadata": {},
   "outputs": [
    {
     "data": {
      "text/plain": [
       "1"
      ]
     },
     "execution_count": 1,
     "metadata": {},
     "output_type": "execute_result"
    }
   ],
   "source": [
    "1"
   ]
  },
  {
   "cell_type": "code",
   "execution_count": 2,
   "id": "df3da681-8aee-469b-b90c-94a504fc58c0",
   "metadata": {},
   "outputs": [
    {
     "data": {
      "text/plain": [
       "2.5"
      ]
     },
     "execution_count": 2,
     "metadata": {},
     "output_type": "execute_result"
    }
   ],
   "source": [
    "2.5 "
   ]
  },
  {
   "cell_type": "code",
   "execution_count": 3,
   "id": "b3c89d8a",
   "metadata": {},
   "outputs": [
    {
     "data": {
      "text/plain": [
       "int"
      ]
     },
     "execution_count": 3,
     "metadata": {},
     "output_type": "execute_result"
    }
   ],
   "source": [
    "type(1)"
   ]
  },
  {
   "cell_type": "code",
   "execution_count": 4,
   "id": "46a3089f",
   "metadata": {},
   "outputs": [
    {
     "data": {
      "text/plain": [
       "float"
      ]
     },
     "execution_count": 4,
     "metadata": {},
     "output_type": "execute_result"
    }
   ],
   "source": [
    "type(2.5)"
   ]
  },
  {
   "cell_type": "markdown",
   "id": "dae03dfb",
   "metadata": {},
   "source": [
    "#### Variables\n",
    "\n",
    "- Varibales are names that we give to data. We use variables, in a sense, in English\n",
    "\n",
    "**Why use Variables?**\n",
    "- Helps organize our code\n",
    "- Store Data\n",
    "- Reuse data again and again"
   ]
  },
  {
   "cell_type": "code",
   "execution_count": 5,
   "id": "1df03ef8",
   "metadata": {},
   "outputs": [
    {
     "name": "stdout",
     "output_type": "stream",
     "text": [
      "variables are things that hold data, you can assign them, \n",
      "and change them. In order to assign them use an = sign\n"
     ]
    }
   ],
   "source": [
    "variables = '''variables are things that hold data, you can assign them, \n",
    "and change them. In order to assign them use an = sign'''\n",
    "\n",
    "print(variables)"
   ]
  },
  {
   "cell_type": "code",
   "execution_count": 13,
   "id": "0f7087ff",
   "metadata": {},
   "outputs": [
    {
     "data": {
      "text/plain": [
       "8.19"
      ]
     },
     "execution_count": 13,
     "metadata": {},
     "output_type": "execute_result"
    }
   ],
   "source": [
    "# Integers and floats (i.e. decimal numbers)\n",
    "a = -2\n",
    "b = 12.5\n",
    "\n",
    "# # Arithmetic\n",
    "c = a + 1    # Arithmetic with literals and variables\n",
    "c = a + b    # Arithmetic with just variables\n",
    "c = c + a    # c becomes its old value + a\n",
    "c = a - b    # Subtraction\n",
    "c = a * b    # Multiplication\n",
    "c = b / a    # Division\n",
    "c = (a + b) * 2 - a    # Compound calculations\n",
    "\n",
    "# # Functions on numbers\n",
    "c = round(8.187, 2)    # Round up to the second decimal point\n",
    "\n",
    "# # Conversions between integers and floats\n",
    "# c = float(a)\n",
    "# d = int(b)    # Rounds it down\n",
    "\n",
    "c"
   ]
  },
  {
   "cell_type": "code",
   "execution_count": 16,
   "id": "0f3bc830-61b0-4a61-a517-25964483a8a7",
   "metadata": {},
   "outputs": [
    {
     "name": "stdout",
     "output_type": "stream",
     "text": [
      "<class 'int'>\n",
      "<class 'float'>\n"
     ]
    },
    {
     "data": {
      "text/plain": [
       "3.0"
      ]
     },
     "execution_count": 16,
     "metadata": {},
     "output_type": "execute_result"
    }
   ],
   "source": [
    "a = 3\n",
    "print(type(a))\n",
    "\n",
    "c = float(a)\n",
    "print(type(c))\n",
    "c"
   ]
  },
  {
   "cell_type": "markdown",
   "id": "8867cd12",
   "metadata": {},
   "source": [
    "### Exercise: Let's build a tax collector \n",
    "\n",
    "Stretch: Build a tip calculator"
   ]
  },
  {
   "cell_type": "code",
   "execution_count": 18,
   "id": "b2b42dc1",
   "metadata": {},
   "outputs": [
    {
     "data": {
      "text/plain": [
       "113.0"
      ]
     },
     "execution_count": 18,
     "metadata": {},
     "output_type": "execute_result"
    }
   ],
   "source": [
    "tax_rate = 0.13\n",
    "price = 100\n",
    "\n",
    "tax = price * tax_rate\n",
    "\n",
    "total_price = price + tax\n",
    "total_price"
   ]
  },
  {
   "cell_type": "markdown",
   "id": "8085d0da",
   "metadata": {},
   "source": [
    "### Strings"
   ]
  },
  {
   "cell_type": "code",
   "execution_count": 23,
   "id": "3f5d27bb",
   "metadata": {},
   "outputs": [
    {
     "data": {
      "text/plain": [
       "'imagination is less important than knowledge'"
      ]
     },
     "execution_count": 23,
     "metadata": {},
     "output_type": "execute_result"
    }
   ],
   "source": [
    "# Strings are a sequence of symbols in quotes\n",
    "# Without the quotes, Python tries to interpret text as variable names!\n",
    "a = 'imagination is more important than knowledge'\n",
    "\n",
    "# Strings can contain any symbols, not just letters\n",
    "b = 'The meaning of life is 42.'\n",
    "\n",
    "# Concatenation (i.e. combining)\n",
    "b = a + ', but not as important as learning to code'\n",
    "\n",
    "# Functions on strings \n",
    "# Note: these functions don't change the original variables. \n",
    "# They spit out copies with the function applied\n",
    "b = a.upper()\n",
    "b = a.lower()\n",
    "b = a.replace('more', 'less') # replaces all instances of more with less\n",
    "b"
   ]
  },
  {
   "cell_type": "code",
   "execution_count": 24,
   "id": "8a791998-9887-430c-a245-4149d8461049",
   "metadata": {},
   "outputs": [
    {
     "name": "stdout",
     "output_type": "stream",
     "text": [
      "imagination is more important than knowledge\n"
     ]
    },
    {
     "name": "stdin",
     "output_type": "stream",
     "text": [
      "Enter a number between (0, 10) 4\n"
     ]
    },
    {
     "name": "stdout",
     "output_type": "stream",
     "text": [
      "imagination is more important than knowledge 4\n"
     ]
    }
   ],
   "source": [
    "# Input/output|\n",
    "print(a)                                           # Display a value on the screen\n",
    "b = input('Enter a number between (0, 10)')        # Get a value from the user\n",
    "print(a + ' ' + b)"
   ]
  },
  {
   "cell_type": "code",
   "execution_count": 27,
   "id": "d88d0075",
   "metadata": {},
   "outputs": [
    {
     "name": "stdout",
     "output_type": "stream",
     "text": [
      "<class 'str'>\n",
      "42\n"
     ]
    }
   ],
   "source": [
    "# Conversion between strings and numbers\n",
    "d = 42\n",
    "e = str(d)\n",
    "print(type(e))\n",
    "print(e)"
   ]
  },
  {
   "cell_type": "code",
   "execution_count": 30,
   "id": "7c2a779b",
   "metadata": {},
   "outputs": [
    {
     "name": "stdout",
     "output_type": "stream",
     "text": [
      "<class 'int'>\n"
     ]
    },
    {
     "data": {
      "text/plain": [
       "42"
      ]
     },
     "execution_count": 30,
     "metadata": {},
     "output_type": "execute_result"
    }
   ],
   "source": [
    "# Converting a string into an integer\n",
    "d = '42'\n",
    "e = int(d)\n",
    "print(type(e))\n",
    "e"
   ]
  },
  {
   "cell_type": "markdown",
   "id": "5bb9ec4f",
   "metadata": {},
   "source": [
    "## Advaned Data Types\n",
    "\n",
    "#### Lists\n",
    "\n",
    "- Mutable and ordered sequence of items\n",
    "- Can be indexed, sliced, and changed\n",
    "- Lists can be used for any type of object, from numbers and strings to more lists.\n",
    "- Sliced like strings"
   ]
  },
  {
   "cell_type": "code",
   "execution_count": 31,
   "id": "8cf4cf8b",
   "metadata": {},
   "outputs": [],
   "source": [
    "# Without lists, individual and unrelated variables\n",
    "# (imagine if you had hundreds of names)\n",
    "first_person = 'Mal'\n",
    "second_person = 'Zoe'\n",
    "third_person = 'Wash'\n",
    "fourth_person = 'Jayne'\n",
    "fifth_person = 'Kaylee'\n",
    "\n",
    "# Using lists, a data structure that contains many values\n",
    "people = ['Mal', 'Zoe', 'Wash', 'Jayne', 'Kaylee']\n",
    "\n",
    "# List creation\n",
    "empty_list = []            # Square brackets\n",
    "small_list = [2.3, 1.0]    # List elements separated by commas\n",
    "large_animals = ['African Elephant', 'Asian Elephant', 'White Rhinoceros',\n",
    "                 'Hippopotamus', 'Gaur', 'Giraffe', 'Walrus', 'Black Rhinoceros', \n",
    "                 'Saltwater Crocodile', 'Water Buffalo']\n"
   ]
  },
  {
   "cell_type": "code",
   "execution_count": 32,
   "id": "deea9bec-e77b-417a-af1b-45d7ac011bda",
   "metadata": {},
   "outputs": [
    {
     "data": {
      "text/plain": [
       "'African Elephant'"
      ]
     },
     "execution_count": 32,
     "metadata": {},
     "output_type": "execute_result"
    }
   ],
   "source": [
    "# Access different elements in list\n",
    "large_animals[0]"
   ]
  },
  {
   "cell_type": "code",
   "execution_count": 33,
   "id": "7c575910-d655-4ec1-b827-cc7f29e33247",
   "metadata": {},
   "outputs": [
    {
     "data": {
      "text/plain": [
       "5"
      ]
     },
     "execution_count": 33,
     "metadata": {},
     "output_type": "execute_result"
    }
   ],
   "source": [
    "large_animals.index('Giraffe')"
   ]
  },
  {
   "cell_type": "code",
   "execution_count": 35,
   "id": "d75e31ac-81e3-4e92-a995-18e0a129ded5",
   "metadata": {
    "tags": []
   },
   "outputs": [
    {
     "data": {
      "text/plain": [
       "['African Elephant',\n",
       " 'Asian Elephant',\n",
       " 'White Rhinoceros',\n",
       " 'Hippopotamus',\n",
       " 'Gaur',\n",
       " 'Giraffe',\n",
       " 'Walrus',\n",
       " 'Black Rhinoceros',\n",
       " 'Saltwater Crocodile']"
      ]
     },
     "execution_count": 35,
     "metadata": {},
     "output_type": "execute_result"
    }
   ],
   "source": [
    "# Slicing\n",
    "large_animals[:-1]"
   ]
  },
  {
   "cell_type": "code",
   "execution_count": 36,
   "id": "bb3c063c-4af3-4eb2-a0e3-daa6db23d370",
   "metadata": {},
   "outputs": [
    {
     "data": {
      "text/plain": [
       "['African Elephant',\n",
       " 'Asian Elephant',\n",
       " 'White Rhinoceros',\n",
       " 'Hippopotamus',\n",
       " 'Lion',\n",
       " 'Giraffe',\n",
       " 'Walrus',\n",
       " 'Black Rhinoceros',\n",
       " 'Saltwater Crocodile',\n",
       " 'Water Buffalo']"
      ]
     },
     "execution_count": 36,
     "metadata": {},
     "output_type": "execute_result"
    }
   ],
   "source": [
    "# Changing Values in a List\n",
    "large_animals[4] = 'Lion'\n",
    "large_animals"
   ]
  },
  {
   "cell_type": "code",
   "execution_count": 37,
   "id": "b013a9f0-17a4-43a0-9088-0427cbbf42ba",
   "metadata": {},
   "outputs": [
    {
     "data": {
      "text/plain": [
       "['African Elephant',\n",
       " 'Asian Elephant',\n",
       " 'White Rhinoceros',\n",
       " 'Hippopotamus',\n",
       " 'Lion',\n",
       " 'Giraffe',\n",
       " 'Walrus',\n",
       " 'Black Rhinoceros',\n",
       " 'Saltwater Crocodile',\n",
       " 'Water Buffalo',\n",
       " 'Blue Whale']"
      ]
     },
     "execution_count": 37,
     "metadata": {},
     "output_type": "execute_result"
    }
   ],
   "source": [
    "# Extend List\n",
    "large_animals.append('Blue Whale')\n",
    "large_animals"
   ]
  },
  {
   "cell_type": "code",
   "execution_count": 38,
   "id": "3a9dd677-68b9-47f1-9a27-fed9cb31b862",
   "metadata": {},
   "outputs": [
    {
     "data": {
      "text/plain": [
       "['African Elephant',\n",
       " 'Asian Elephant',\n",
       " 'White Rhinoceros',\n",
       " 'Hippopotamus',\n",
       " 'Lion',\n",
       " 'Giraffe',\n",
       " 'Walrus',\n",
       " 'Black Rhinoceros',\n",
       " 'Saltwater Crocodile',\n",
       " 'Water Buffalo',\n",
       " 'Blue Whale',\n",
       " 'Bison',\n",
       " 'Wolf']"
      ]
     },
     "execution_count": 38,
     "metadata": {},
     "output_type": "execute_result"
    }
   ],
   "source": [
    "# Concatenation \n",
    "large_animals = large_animals + ['Bison','Wolf']\n",
    "large_animals"
   ]
  },
  {
   "cell_type": "code",
   "execution_count": null,
   "id": "780a9cb8",
   "metadata": {},
   "outputs": [],
   "source": [
    "# Lists within lists\n",
    "animal_kingdom = [\n",
    "  ['Elephant', 'Tiger', 'Dog'], \n",
    "  ['Whale', 'Dolphin', 'Shark', 'Eel'],\n",
    "  ['Eagle', 'Robin']\n",
    "]\n",
    "water_animals = animal_kingdom[1]    # 1st list\n",
    "biggest_bird = animal_kingdom[-1][0] # Last list, first element"
   ]
  },
  {
   "cell_type": "code",
   "execution_count": 43,
   "id": "0d6000e9",
   "metadata": {},
   "outputs": [
    {
     "name": "stdout",
     "output_type": "stream",
     "text": [
      "['this is really just a list of ', ' called characters']\n"
     ]
    }
   ],
   "source": [
    "# Treating strings like lists\n",
    "a = 'this is really just a list of symbols called characters'\n",
    "# b = a[5:7]\n",
    "\n",
    "# Splitting strings into lists\n",
    "# b = a.split(' ')       # A list of words (splitting the string by ' ')\n",
    "b = a.split('symbols') # Splitting by a substring\n",
    "print(b)"
   ]
  },
  {
   "cell_type": "markdown",
   "id": "cb2a2ca0",
   "metadata": {},
   "source": [
    "## Tuple\n",
    "- immutable objects\n",
    "- Similar to a list, but without the funcitonalities.\n",
    "- indexing and splitting similar to lists\n",
    "- More efficient"
   ]
  },
  {
   "cell_type": "code",
   "execution_count": 46,
   "id": "f8939ab8",
   "metadata": {},
   "outputs": [
    {
     "name": "stdout",
     "output_type": "stream",
     "text": [
      "False\n"
     ]
    }
   ],
   "source": [
    "# Definition\n",
    "x = ('Andrew', 'python', 'canada')\n",
    "\n",
    "# Getting the size of the tuple\n",
    "y = len(x)      # 2\n",
    "\n",
    "# Indexing one entry\n",
    "y = x[0]        # 'Andrew'\n",
    "y = x[1]        # 'python'\n",
    "\n",
    "# Indexing a sequence of entries\n",
    "y = x[1:3]      # ('python', 'canada')\n",
    "\n",
    "# \"Unpacking\" tuples\n",
    "name, language, country = x    # name = 'Andrew', language = 'python', and country = 'canada'\n",
    "\n",
    "# Combining tuples\n",
    "y = (8, 2) + x  # (8, 2, 'Andrew', 'python', 'canada')\n",
    "\n",
    "# Checking membership\n",
    "y = 12 in x    # False (x does not contain the value 12)\n",
    "print(y)\n",
    "\n",
    "# You cannot modify tuple elements! They are \"immutable\" (this is the essential difference with lists)\n",
    "# Executing the code below would cause errors\n",
    "#x.append(1)    # AttributeError: 'tuple' object has no attribute 'append'\n",
    "#x[3] = 20      # TypeError: 'tuple' object does not support item assignment"
   ]
  },
  {
   "cell_type": "code",
   "execution_count": null,
   "id": "5438d311-9cac-4d7a-ab6e-bc26ccd96bae",
   "metadata": {},
   "outputs": [],
   "source": []
  },
  {
   "cell_type": "markdown",
   "id": "997d7a83",
   "metadata": {},
   "source": [
    "\n",
    "\n",
    "It might seem weird that tuples are essentially just lists that can't be modified. What are they good for?  Essentially, the difference is that they're used for different purposes:\n",
    "\n",
    "When you use a tuple, you're telling the people who read your code \"this variable will not change\". In practice, people use lists for \"homogenous\" data (i.e. a collection of the same sort of stuff), whereas the entires in tuples are often \"heterogeneous\" and might represent very different things. In the example above, the first entry represents my name, the second entry represents the coding language I'm using, and the third entry represents the country I live in. It would be strange to define these different concepts in the same list. Tuples are often even composed of different data types. Tuples can be used as \"keys\" in dictionary data structures (which we'll see below), whereas lists cannot.\n",
    "\n",
    "These differences communicate the variable's function, and helps make your code more understandable.\n"
   ]
  },
  {
   "cell_type": "markdown",
   "id": "140ee287",
   "metadata": {},
   "source": [
    "## Dictionary (dict)\n",
    "\n",
    "- Similar to lists, but can be indexed using \"keys\" rather than their position. \n",
    "- \"keys\" can take on numerous data types (str, int, floats, tuples, lists) \n",
    "    - as long as the data type is \"hashable\""
   ]
  },
  {
   "cell_type": "code",
   "execution_count": 55,
   "id": "25c88531",
   "metadata": {},
   "outputs": [
    {
     "data": {
      "text/plain": [
       "'Computer Science'"
      ]
     },
     "execution_count": 55,
     "metadata": {},
     "output_type": "execute_result"
    }
   ],
   "source": [
    "# Defining a new dict\n",
    "x = {'Student_ID': [0,1,2,3,4,5],\n",
    "    'Student_Name': ['Linda', 'Andrew', 'Python'],\n",
    "     'Degree': ['Marketing', 'Computer Science', 'Snake Studies']}\n",
    "x['Degree'][1]"
   ]
  },
  {
   "cell_type": "code",
   "execution_count": 56,
   "id": "0537aba9",
   "metadata": {},
   "outputs": [
    {
     "data": {
      "text/plain": [
       "[10, 20, 30, 40, 50]"
      ]
     },
     "execution_count": 56,
     "metadata": {},
     "output_type": "execute_result"
    }
   ],
   "source": [
    "x['Student_ID'] = [10,20,30,40,50]\n",
    "x['Student_ID']"
   ]
  },
  {
   "cell_type": "code",
   "execution_count": 57,
   "id": "88f2e74e-460b-46a2-9add-315742d15b7b",
   "metadata": {},
   "outputs": [
    {
     "data": {
      "text/plain": [
       "dict_keys(['Student_ID', 'Student_Name', 'Degree'])"
      ]
     },
     "execution_count": 57,
     "metadata": {},
     "output_type": "execute_result"
    }
   ],
   "source": [
    "x.keys()"
   ]
  },
  {
   "cell_type": "code",
   "execution_count": 58,
   "id": "1071de3c-b581-444e-a7ca-bafcd877b30e",
   "metadata": {},
   "outputs": [
    {
     "data": {
      "text/plain": [
       "dict_values([[10, 20, 30, 40, 50], ['Linda', 'Andrew', 'Python'], ['Marketing', 'Computer Science', 'Snake Studies']])"
      ]
     },
     "execution_count": 58,
     "metadata": {},
     "output_type": "execute_result"
    }
   ],
   "source": [
    "x.values()"
   ]
  },
  {
   "cell_type": "code",
   "execution_count": 59,
   "id": "7f68ae0e-c6c1-4a18-929f-ba354cc55a59",
   "metadata": {},
   "outputs": [
    {
     "data": {
      "text/plain": [
       "dict_items([('Student_ID', [10, 20, 30, 40, 50]), ('Student_Name', ['Linda', 'Andrew', 'Python']), ('Degree', ['Marketing', 'Computer Science', 'Snake Studies'])])"
      ]
     },
     "execution_count": 59,
     "metadata": {},
     "output_type": "execute_result"
    }
   ],
   "source": [
    "x.items()"
   ]
  },
  {
   "cell_type": "markdown",
   "id": "d8ca1111",
   "metadata": {},
   "source": [
    "Note: Dictionaries are not \"ordered\" data types, and it is dangerous to write your code in a way that assumes they are. It makes no sense to say that the 'bonnie'th entry comes before the 'eric'th entry, even though this is how we have written it above."
   ]
  },
  {
   "cell_type": "markdown",
   "id": "882f5149",
   "metadata": {},
   "source": [
    "### Sets\n",
    "\n",
    "Data structure that:\n",
    "- are unordered, meaning there is no element 0 and element 1, and\n",
    "- The values contained are unique - meaning there are no duplicate entries.\n",
    "- Sets are made with curly brackets."
   ]
  },
  {
   "cell_type": "code",
   "execution_count": 61,
   "id": "91fd81ce",
   "metadata": {},
   "outputs": [
    {
     "data": {
      "text/plain": [
       "{1.0, 2, 'apPle', 'apple'}"
      ]
     },
     "execution_count": 61,
     "metadata": {},
     "output_type": "execute_result"
    }
   ],
   "source": [
    "my_set = {2, 1.0, 'apple', 1.0, 'apPle'}\n",
    "my_set"
   ]
  },
  {
   "cell_type": "markdown",
   "id": "8e27bec4",
   "metadata": {},
   "source": [
    "### Summary\n",
    "\n",
    "|Data Structure\t| Preserves order | Mutable | Symbol| Can contain duplicates | Can be sliced |\n",
    "|---------|------|------|------|------|------|\n",
    "|str\t|✓\t|☓\t|''  , \"\"|\t✓|✓|\n",
    "|list\t|✓\t|✓\t|[] |\t✓|✓|\n",
    "|tuple\t|✓\t|☓\t|() |\t✓|✓|\n",
    "|set\t|☓\t|✓\t|{} |\t☓|☓|\n",
    "|dict  |✓\t|✓\t|{ key : value} | \t☓| ☓|\n",
    "\n",
    "\n",
    "#### Booleans"
   ]
  },
  {
   "cell_type": "code",
   "execution_count": 74,
   "id": "85f2d40f",
   "metadata": {},
   "outputs": [
    {
     "data": {
      "text/plain": [
       "True"
      ]
     },
     "execution_count": 74,
     "metadata": {},
     "output_type": "execute_result"
    }
   ],
   "source": [
    "a = True\n",
    "b = False\n",
    "\n",
    "# #---------------------------------\n",
    "# # Comparison Operators\n",
    "a = 14\n",
    "b = 5\n",
    "\n",
    "# # Equals\n",
    "# a == b\n",
    "\n",
    "# # Doesn't equal\n",
    "# a != b\n",
    "\n",
    "# # Greater than\n",
    "# a > b\n",
    "\n",
    "# # Greater than or equal to\n",
    "# a >= b\n",
    "\n",
    "# # Less than\n",
    "# a < b\n",
    "\n",
    "# # Less than or equal to\n",
    "# a <= b\n",
    "\n",
    "# # Equality with strings\n",
    "# a = '1 2 3'\n",
    "# b = 'one two 3'\n",
    "# a == b\n",
    "# a != b\n",
    "\n",
    "# #---------------------------------\n",
    "# # Logic operators (compound boolean expressions)\n",
    "\n",
    "# # `and`\n",
    "# temperature = 28\n",
    "# sunny = True\n",
    "# temperature > 25 and sunny\n",
    "# sunny = False\n",
    "# temperature > 25 and sunny\n",
    "\n",
    "# # `or`\n",
    "# has_coffee = True\n",
    "has_beer = True\n",
    "# has_coffee or has_beer\n",
    "has_coffee = False\n",
    "has_coffee or has_beer\n"
   ]
  },
  {
   "cell_type": "markdown",
   "id": "63c2dd62",
   "metadata": {},
   "source": [
    "### Control structure (also refered to **control flow**): 'if\" statements\n",
    "\n",
    "if\" statements are one of the most essential concepts in any programming language because they allow the code to make decisions. Without \"if\" statements, programs would pretty much be like large, complex calculators. The format of an if statement is as follows:\n",
    "\n",
    "- Essential Programming Concept, in any langauge. Allows the code to make decisions.\n",
    "- Executes code only if a certain condition is met\n",
    "\n",
    "```python\n",
    "if [boolean expression]: #starts with if keyword then test condition\n",
    "    [what to do when the boolean expression evaluates to True]\n",
    "else:   # optional\n",
    "    [what to do when the boolean expression evaluates to False]\n",
    "```"
   ]
  },
  {
   "cell_type": "code",
   "execution_count": 76,
   "id": "d328d9c2",
   "metadata": {},
   "outputs": [
    {
     "name": "stdout",
     "output_type": "stream",
     "text": [
      "Linda has passed their course\n"
     ]
    }
   ],
   "source": [
    "# Using the data structure above, let's output something different depending on \n",
    "# whether or not someone passed the course\n",
    "course_marks = {'Linda': 82, 'Andrew': 100, 'Jasmine': 12}\n",
    "pass_mark = 60\n",
    "\n",
    "if course_marks['Linda'] > pass_mark:\n",
    "    print('Linda has passed their course')\n",
    "else:\n",
    "    print('Linda has not passed')"
   ]
  },
  {
   "cell_type": "markdown",
   "id": "b26415b9",
   "metadata": {},
   "source": [
    "#### IFs and ELIFS\n",
    "```python\n",
    "if [boolean expression]: #starts with if keyword then test condition\n",
    "    [what to do when the boolean expression evaluates to True]\n",
    "elif: [boolean expression]\n",
    "    [what to do when the boolean expression evaluates to True]\n",
    "else:   # optional\n",
    "    [what to do when the boolean expression evaluates to False]\n",
    "```\n",
    "\n"
   ]
  },
  {
   "cell_type": "code",
   "execution_count": 77,
   "id": "13725f32",
   "metadata": {},
   "outputs": [
    {
     "name": "stdout",
     "output_type": "stream",
     "text": [
      "B\n"
     ]
    }
   ],
   "source": [
    "if course_marks['Linda'] >= 90:\n",
    "    print('A')\n",
    "\n",
    "elif course_marks['Linda'] >= 80:\n",
    "    print('B')\n",
    "    \n",
    "elif course_marks['Linda'] >= 70:\n",
    "    print('C')\n",
    "    \n",
    "else: # Optional\n",
    "    print('F')"
   ]
  },
  {
   "cell_type": "markdown",
   "id": "2977b6a1",
   "metadata": {},
   "source": [
    "### Nested Ifs"
   ]
  },
  {
   "cell_type": "code",
   "execution_count": 78,
   "id": "27237130",
   "metadata": {},
   "outputs": [
    {
     "name": "stdout",
     "output_type": "stream",
     "text": [
      "Positive Number\n"
     ]
    }
   ],
   "source": [
    "a = 24\n",
    "\n",
    "if a >= 0:\n",
    "    if a == 0:\n",
    "        print('Zero')\n",
    "    else:\n",
    "        print('Positive Number')\n",
    "else:\n",
    "    print('Negative Number')"
   ]
  },
  {
   "cell_type": "markdown",
   "id": "cd0bb7c5",
   "metadata": {},
   "source": [
    "## Control Flow: For Loops (aka. definite iterations)\n",
    "\n",
    "If all we were able to do with lists, tuples, and dictionaries was store data in them, they would essentially\n",
    "just be useful for organizing our code. Luckily, we can iterate through them using \"for\" loops. The \"for\" loop\n",
    "has the following format:\n",
    "```python\n",
    "for [variable] in [iterable data structure (like a list): #starts with for statement followed by membership expression\n",
    "    [what you want to do using the current value each iteration]\n",
    "```"
   ]
  },
  {
   "cell_type": "code",
   "execution_count": 79,
   "id": "56b0d31c",
   "metadata": {},
   "outputs": [
    {
     "name": "stdout",
     "output_type": "stream",
     "text": [
      "A\n",
      "n\n",
      "d\n",
      "r\n",
      "e\n",
      "w\n"
     ]
    }
   ],
   "source": [
    "# Simple For Loop\n",
    "my_name = 'Andrew'\n",
    "\n",
    "for letter in my_name:\n",
    "    print(letter)"
   ]
  },
  {
   "cell_type": "code",
   "execution_count": 81,
   "id": "8dada10b",
   "metadata": {},
   "outputs": [
    {
     "name": "stdout",
     "output_type": "stream",
     "text": [
      "435\n"
     ]
    }
   ],
   "source": [
    "#For Loops\n",
    "course_marks = [100, 90, 95, 80, 70]\n",
    "marks_sum = 0\n",
    "\n",
    "for mark in course_marks:\n",
    "    marks_sum += mark\n",
    "    \n",
    "print(marks_sum)"
   ]
  },
  {
   "cell_type": "code",
   "execution_count": 82,
   "id": "12593187",
   "metadata": {},
   "outputs": [
    {
     "name": "stdout",
     "output_type": "stream",
     "text": [
      "[72, 90, 2]\n"
     ]
    }
   ],
   "source": [
    "# Iterating through lists (or tuples) by their index (this is sometimes useful, \n",
    "# for instance if you want to change the values in the list)\n",
    "course_marks = [82, 100, 12]\n",
    "\n",
    "# using range in a for loop makes 'i' the index!\n",
    "for i in range(len(course_marks)):\n",
    "    course_marks[i] -= 10\n",
    "    \n",
    "print(course_marks)"
   ]
  },
  {
   "cell_type": "code",
   "execution_count": 89,
   "id": "126a3a0d",
   "metadata": {},
   "outputs": [
    {
     "name": "stdout",
     "output_type": "stream",
     "text": [
      "Linda\n",
      "Andrew\n",
      "Jasmine\n",
      "82\n",
      "100\n",
      "12\n",
      "82\n",
      "100\n",
      "12\n"
     ]
    }
   ],
   "source": [
    "course_marks = {'Linda': 82, 'Andrew': 100, 'Jasmine': 12}\n",
    "\n",
    "#iterating through dictionary\n",
    "for student in course_marks:\n",
    "    print(student)\n",
    "    \n",
    "#iterating through dictionary values\n",
    "for grade in course_marks.values():\n",
    "    print(grade)\n",
    "    \n",
    "# ORRRRRR\n",
    "for student in course_marks:\n",
    "    print(course_marks[student])"
   ]
  },
  {
   "cell_type": "markdown",
   "id": "fbbce831",
   "metadata": {},
   "source": [
    "### Using Break and continue statements\n",
    "\n",
    "- **Break** statement immediately terminates a loop.\n",
    "- **continue** immediately terminates current loop iteration"
   ]
  },
  {
   "cell_type": "code",
   "execution_count": 90,
   "id": "28b61ecb",
   "metadata": {},
   "outputs": [
    {
     "name": "stdout",
     "output_type": "stream",
     "text": [
      "Linda\n"
     ]
    }
   ],
   "source": [
    "for student in course_marks:\n",
    "    if student == 'Andrew':\n",
    "        break\n",
    "    print(student)"
   ]
  },
  {
   "cell_type": "code",
   "execution_count": 91,
   "id": "d91d22b1",
   "metadata": {},
   "outputs": [
    {
     "name": "stdout",
     "output_type": "stream",
     "text": [
      "Linda\n",
      "Jasmine\n"
     ]
    }
   ],
   "source": [
    "for student in course_marks:\n",
    "    if student == 'Andrew':\n",
    "        continue\n",
    "    print(student)"
   ]
  },
  {
   "cell_type": "markdown",
   "id": "3b6d075b",
   "metadata": {},
   "source": [
    "## Control Flow: While Loops (aka. indefinite iterations)\n",
    "\n",
    "Sometimes, we don't want our loop to iteratate through the values of some data structure, but\n",
    "instead want it to execute until some condition is no longer met. For this, we use a \"while\" loop, which has the\n",
    "following format:\n",
    "\n",
    "```python\n",
    "while [boolean expression]: #starts with a while keyword, followed by a test condition, ends with a colon :\n",
    "    [what you want to do each iteration] #loop body contains code that gets repeated. Must be indented 4 spaces.\n",
    "```"
   ]
  },
  {
   "cell_type": "code",
   "execution_count": 92,
   "id": "2d8e76d0",
   "metadata": {},
   "outputs": [
    {
     "name": "stdout",
     "output_type": "stream",
     "text": [
      "0\n",
      "1\n",
      "2\n",
      "3\n",
      "4\n"
     ]
    }
   ],
   "source": [
    "# Simple\n",
    "n = 0\n",
    "\n",
    "while n < 5:\n",
    "    print(n)\n",
    "    n += 1"
   ]
  },
  {
   "cell_type": "code",
   "execution_count": null,
   "id": "4a10355d",
   "metadata": {},
   "outputs": [],
   "source": [
    "## BE CAREFUL with INFINITE LOOPS, you'll break the matrix\n",
    "# Can be useful, for example with code that interacts with hardware may use an infinite loop to constantly check \n",
    "# whether a button or switch has been activated\n",
    "\n",
    "# CTRL + C forces python to quit"
   ]
  },
  {
   "cell_type": "code",
   "execution_count": 94,
   "id": "2b243ac5",
   "metadata": {},
   "outputs": [
    {
     "data": {
      "text/plain": [
       "64.66666666666667"
      ]
     },
     "execution_count": 94,
     "metadata": {},
     "output_type": "execute_result"
    }
   ],
   "source": [
    "# Let's keep bumping up everyone's grade until we have an average of 80 or above\n",
    "course_marks = {'Linda': 82, 'Andrew': 100, 'Jasmine': 12}\n",
    "\n",
    "#Create a for loop that get's the mean\n",
    "marks_sum = 0\n",
    "for mark in course_marks.values():\n",
    "    marks_sum += mark\n",
    "mean = marks_sum / len(course_marks)\n",
    "mean"
   ]
  },
  {
   "cell_type": "code",
   "execution_count": null,
   "id": "a79d462e",
   "metadata": {},
   "outputs": [],
   "source": []
  },
  {
   "cell_type": "markdown",
   "id": "c3f5337d",
   "metadata": {},
   "source": [
    "## Functions\n",
    "Parts of code are bound to be reused. For instance, above, we keep rewriting the same exact code for computing the mean\n",
    "of a classes marks. Not only does this make our code longer, but it also makes it less readable. Every time we see\n",
    "the code for computing the mean, we have to read it a bit to know what it does.\n",
    "\n",
    "A **function** let's us define a chunk of code that takes some **inputs** and returns some **outputs**. Think of it as\n",
    "a mini-program that we can reuse as many times as we want in the rest of our code. This is one of the most powerful\n",
    "tools at your disposal as a programmer, and you should try to make a function out of any chunk of code that shares a\n",
    "concrete purpose. As a general rule, if you can give a simple name to what the chunk of code does, it should be a function.\n",
    "This is called **modular programming**, and it will make your code both easier to write and understand.\n",
    "\n",
    "The format of a function definition is as follows:\n",
    "```python\n",
    "def function_name(argument_1, argument_2, etc.):\n",
    "    [do something using the arguments]\n",
    "    return val_1, val_2, etc.\n",
    "```\n",
    "Note that a function need not take in any arguments at all, and need not return anything.\n",
    "\n",
    "Elsewhere in our program, we can \"call\" our function as follows, substituting any values we want\n",
    "for the arguments:\n",
    "```python\n",
    "output = function_name(value_1, value_2, etc.)\n",
    "```\n",
    "\n",
    "To illustrate the concept, let's rewrite the code above using functions."
   ]
  },
  {
   "cell_type": "code",
   "execution_count": 95,
   "id": "3f979bc4",
   "metadata": {},
   "outputs": [],
   "source": [
    "def simple_function():\n",
    "    return print(\"Hello, World!\")"
   ]
  },
  {
   "cell_type": "code",
   "execution_count": 96,
   "id": "727e0224-31c8-4db2-9835-bcfc36ab8f88",
   "metadata": {},
   "outputs": [
    {
     "name": "stdout",
     "output_type": "stream",
     "text": [
      "Hello, World!\n"
     ]
    }
   ],
   "source": [
    "simple_function()"
   ]
  },
  {
   "cell_type": "code",
   "execution_count": 103,
   "id": "80d03f9b-e016-4699-b63a-f45c1cfb6e61",
   "metadata": {},
   "outputs": [],
   "source": [
    "# Can assign a default variable if one is not used as an\n",
    "# arg when calling\n",
    "def what_is_my_name(name=\"nameless\"):\n",
    "    return print(\"Your name is \" + name)"
   ]
  },
  {
   "cell_type": "code",
   "execution_count": 104,
   "id": "a8bd5c87-4df0-4bb6-a4dd-afaf64e7284c",
   "metadata": {},
   "outputs": [
    {
     "name": "stdout",
     "output_type": "stream",
     "text": [
      "Your name is Andrew\n"
     ]
    }
   ],
   "source": [
    "what_is_my_name('Andrew')"
   ]
  },
  {
   "cell_type": "code",
   "execution_count": 105,
   "id": "66684712-ff51-4bd0-be50-241c25dd07f1",
   "metadata": {},
   "outputs": [
    {
     "name": "stdout",
     "output_type": "stream",
     "text": [
      "Your name is nameless\n"
     ]
    }
   ],
   "source": [
    "what_is_my_name()"
   ]
  },
  {
   "cell_type": "code",
   "execution_count": 107,
   "id": "14e35e05",
   "metadata": {},
   "outputs": [],
   "source": [
    "# Takes as input a list of numbers, and returns their mean\n",
    "def mean(numbers):\n",
    "    '''\n",
    "        input: list of numbers\n",
    "        output: mean of list of numbers\n",
    "    '''\n",
    "    numbers_sum = 0\n",
    "    for num in numbers:\n",
    "        numbers_sum += num\n",
    "    numbers_mean = numbers_sum / len(numbers)\n",
    "    return numbers_mean\n",
    "\n",
    "# Takes in a dictionary of string:number pairs and increments each number by \"increment\".\n",
    "# By default, we are setting \"increment\" to 1 (i.e. if this function is \"called\" without specifying\n",
    "# a value for \"increment\" it will just take on the value 1)\n",
    "def increment_marks(course_marks, increment=1):\n",
    "    for name, mark in course_marks.items():\n",
    "        if mark < 100:\n",
    "            course_marks[name] += 1\n",
    "    # This function doesn't return anything\n",
    "    \n"
   ]
  },
  {
   "cell_type": "code",
   "execution_count": 108,
   "id": "70887b43",
   "metadata": {},
   "outputs": [
    {
     "name": "stdout",
     "output_type": "stream",
     "text": [
      "{'bonnie': 100, 'eric': 100, 'lynxi': 40}\n"
     ]
    }
   ],
   "source": [
    "# Let's use our functions to bump up everyone's grade until we have an average of 80 or above.\n",
    "# Notice how much more readable it is than what we had in the previous code, because we've\n",
    "# split up the individual pieces of logic into their own functions\n",
    "course_marks = {'bonnie': 82, 'eric': 100, 'lynxi': 12}\n",
    "course_mean = mean(course_marks.values())\n",
    "\n",
    "while course_mean < 80:\n",
    "    increment_marks(course_marks)\n",
    "    course_mean = mean(course_marks.values())\n",
    "    \n",
    "print(course_marks)"
   ]
  },
  {
   "cell_type": "code",
   "execution_count": null,
   "id": "4f8affd6",
   "metadata": {},
   "outputs": [],
   "source": [
    "# Let's pass in a value for the \"increment\" argument in the \"increment_marks\" function instead of using the default\n",
    "course_marks = {'bonnie': 82, 'eric': 100, 'lynxi': 12}\n",
    "course_mean = mean(course_marks.values())\n",
    "\n",
    "while course_mean < 80:\n",
    "    increment_marks(course_marks, 5)    # Increment the marks by 5 at a time so that the loop runs faster (fewer iterations)\n",
    "    course_mean = mean(course_marks.values())"
   ]
  },
  {
   "cell_type": "code",
   "execution_count": null,
   "id": "e718b797",
   "metadata": {},
   "outputs": [],
   "source": [
    "# We can also call functions with their argument names. This makes it easier for people reading\n",
    "# the code to understand what the function does without having to go look at the argument names\n",
    "# in the function's definition. This is most useful when a function has many arguments\n",
    "course_marks = {'bonnie': 82, 'eric': 100, 'lynxi': 12}\n",
    "course_mean = mean(numbers=course_marks.values())\n",
    "\n",
    "while course_mean < 80:\n",
    "    increment_marks(course_marks, increment=5)    # We can specify the names of only some of the arguments if we want. Here, we only specify it for \"increment\"\n",
    "    course_mean = mean(numbers=course_marks.values())"
   ]
  },
  {
   "cell_type": "markdown",
   "id": "bc91bf57",
   "metadata": {},
   "source": [
    "## Errors and Exceptions Handling"
   ]
  },
  {
   "cell_type": "code",
   "execution_count": 109,
   "id": "0b18ae26",
   "metadata": {},
   "outputs": [],
   "source": [
    "def div_func(a,b):\n",
    "    '''Here write documentation'''\n",
    "    result = a/b\n",
    "    return result"
   ]
  },
  {
   "cell_type": "code",
   "execution_count": 110,
   "id": "ba575ef8",
   "metadata": {},
   "outputs": [
    {
     "data": {
      "text/plain": [
       "2.5"
      ]
     },
     "execution_count": 110,
     "metadata": {},
     "output_type": "execute_result"
    }
   ],
   "source": [
    "div_func(5,2.0)"
   ]
  },
  {
   "cell_type": "code",
   "execution_count": 111,
   "id": "11550279",
   "metadata": {},
   "outputs": [
    {
     "ename": "ZeroDivisionError",
     "evalue": "float division by zero",
     "output_type": "error",
     "traceback": [
      "\u001b[0;31m---------------------------------------------------------------------------\u001b[0m",
      "\u001b[0;31mZeroDivisionError\u001b[0m                         Traceback (most recent call last)",
      "\u001b[0;32m/var/folders/yl/ftfrcz0s4nd_pncmmknzn7440000gn/T/ipykernel_79766/111252507.py\u001b[0m in \u001b[0;36m<module>\u001b[0;34m\u001b[0m\n\u001b[0;32m----> 1\u001b[0;31m \u001b[0mdiv_func\u001b[0m\u001b[0;34m(\u001b[0m\u001b[0;36m5\u001b[0m\u001b[0;34m,\u001b[0m\u001b[0;36m0.0\u001b[0m\u001b[0;34m)\u001b[0m\u001b[0;34m\u001b[0m\u001b[0;34m\u001b[0m\u001b[0m\n\u001b[0m",
      "\u001b[0;32m/var/folders/yl/ftfrcz0s4nd_pncmmknzn7440000gn/T/ipykernel_79766/1724533307.py\u001b[0m in \u001b[0;36mdiv_func\u001b[0;34m(a, b)\u001b[0m\n\u001b[1;32m      1\u001b[0m \u001b[0;32mdef\u001b[0m \u001b[0mdiv_func\u001b[0m\u001b[0;34m(\u001b[0m\u001b[0ma\u001b[0m\u001b[0;34m,\u001b[0m\u001b[0mb\u001b[0m\u001b[0;34m)\u001b[0m\u001b[0;34m:\u001b[0m\u001b[0;34m\u001b[0m\u001b[0;34m\u001b[0m\u001b[0m\n\u001b[1;32m      2\u001b[0m     \u001b[0;34m'''Here write documentation'''\u001b[0m\u001b[0;34m\u001b[0m\u001b[0;34m\u001b[0m\u001b[0m\n\u001b[0;32m----> 3\u001b[0;31m     \u001b[0mresult\u001b[0m \u001b[0;34m=\u001b[0m \u001b[0ma\u001b[0m\u001b[0;34m/\u001b[0m\u001b[0mb\u001b[0m\u001b[0;34m\u001b[0m\u001b[0;34m\u001b[0m\u001b[0m\n\u001b[0m\u001b[1;32m      4\u001b[0m     \u001b[0;32mreturn\u001b[0m \u001b[0mresult\u001b[0m\u001b[0;34m\u001b[0m\u001b[0;34m\u001b[0m\u001b[0m\n",
      "\u001b[0;31mZeroDivisionError\u001b[0m: float division by zero"
     ]
    }
   ],
   "source": [
    "div_func(5,0.0)"
   ]
  },
  {
   "cell_type": "code",
   "execution_count": 112,
   "id": "90771cdb",
   "metadata": {},
   "outputs": [],
   "source": [
    "def div_func(a,b):\n",
    "    try:\n",
    "        result = a/b\n",
    "    except ZeroDivisionError:\n",
    "        print('b is zero and division is not possible')\n",
    "        return\n",
    "    return result"
   ]
  },
  {
   "cell_type": "code",
   "execution_count": 113,
   "id": "069e5724",
   "metadata": {},
   "outputs": [
    {
     "data": {
      "text/plain": [
       "-1.0"
      ]
     },
     "execution_count": 113,
     "metadata": {},
     "output_type": "execute_result"
    }
   ],
   "source": [
    "div_func(5,-5)"
   ]
  },
  {
   "cell_type": "code",
   "execution_count": 123,
   "id": "8585a96b",
   "metadata": {},
   "outputs": [
    {
     "name": "stdout",
     "output_type": "stream",
     "text": [
      "b is zero and division is not possible\n"
     ]
    }
   ],
   "source": [
    "div_func(10,0.0)"
   ]
  },
  {
   "cell_type": "code",
   "execution_count": 124,
   "id": "defcdb5d",
   "metadata": {},
   "outputs": [],
   "source": [
    "def count_letter_in_word(input_word='gulp'):\n",
    "    return len(input_word)"
   ]
  },
  {
   "cell_type": "code",
   "execution_count": 125,
   "id": "1fc32764",
   "metadata": {},
   "outputs": [
    {
     "ename": "TypeError",
     "evalue": "object of type 'int' has no len()",
     "output_type": "error",
     "traceback": [
      "\u001b[0;31m---------------------------------------------------------------------------\u001b[0m",
      "\u001b[0;31mTypeError\u001b[0m                                 Traceback (most recent call last)",
      "\u001b[0;32m/var/folders/yl/ftfrcz0s4nd_pncmmknzn7440000gn/T/ipykernel_79766/4180360781.py\u001b[0m in \u001b[0;36m<module>\u001b[0;34m\u001b[0m\n\u001b[0;32m----> 1\u001b[0;31m \u001b[0mcount_letter_in_word\u001b[0m\u001b[0;34m(\u001b[0m\u001b[0;36m10\u001b[0m\u001b[0;34m)\u001b[0m\u001b[0;34m\u001b[0m\u001b[0;34m\u001b[0m\u001b[0m\n\u001b[0m",
      "\u001b[0;32m/var/folders/yl/ftfrcz0s4nd_pncmmknzn7440000gn/T/ipykernel_79766/806925852.py\u001b[0m in \u001b[0;36mcount_letter_in_word\u001b[0;34m(input_word)\u001b[0m\n\u001b[1;32m      1\u001b[0m \u001b[0;32mdef\u001b[0m \u001b[0mcount_letter_in_word\u001b[0m\u001b[0;34m(\u001b[0m\u001b[0minput_word\u001b[0m\u001b[0;34m=\u001b[0m\u001b[0;34m'gulp'\u001b[0m\u001b[0;34m)\u001b[0m\u001b[0;34m:\u001b[0m\u001b[0;34m\u001b[0m\u001b[0;34m\u001b[0m\u001b[0m\n\u001b[0;32m----> 2\u001b[0;31m     \u001b[0;32mreturn\u001b[0m \u001b[0mlen\u001b[0m\u001b[0;34m(\u001b[0m\u001b[0minput_word\u001b[0m\u001b[0;34m)\u001b[0m\u001b[0;34m\u001b[0m\u001b[0;34m\u001b[0m\u001b[0m\n\u001b[0m",
      "\u001b[0;31mTypeError\u001b[0m: object of type 'int' has no len()"
     ]
    }
   ],
   "source": [
    "count_letter_in_word(10)"
   ]
  },
  {
   "cell_type": "code",
   "execution_count": 126,
   "id": "6ef77828",
   "metadata": {},
   "outputs": [],
   "source": [
    "def count_letter_in_word(input_word='gulp'):\n",
    "    if type(input_word)!=str:\n",
    "        raise TypeError('incorrect input type. Please provide a string input')\n",
    "    return len(input_word)\n"
   ]
  },
  {
   "cell_type": "code",
   "execution_count": 127,
   "id": "e54325d3",
   "metadata": {},
   "outputs": [
    {
     "ename": "TypeError",
     "evalue": "incorrect input type. Please provide a string input",
     "output_type": "error",
     "traceback": [
      "\u001b[0;31m---------------------------------------------------------------------------\u001b[0m",
      "\u001b[0;31mTypeError\u001b[0m                                 Traceback (most recent call last)",
      "\u001b[0;32m/var/folders/yl/ftfrcz0s4nd_pncmmknzn7440000gn/T/ipykernel_79766/4180360781.py\u001b[0m in \u001b[0;36m<module>\u001b[0;34m\u001b[0m\n\u001b[0;32m----> 1\u001b[0;31m \u001b[0mcount_letter_in_word\u001b[0m\u001b[0;34m(\u001b[0m\u001b[0;36m10\u001b[0m\u001b[0;34m)\u001b[0m\u001b[0;34m\u001b[0m\u001b[0;34m\u001b[0m\u001b[0m\n\u001b[0m",
      "\u001b[0;32m/var/folders/yl/ftfrcz0s4nd_pncmmknzn7440000gn/T/ipykernel_79766/3060205429.py\u001b[0m in \u001b[0;36mcount_letter_in_word\u001b[0;34m(input_word)\u001b[0m\n\u001b[1;32m      1\u001b[0m \u001b[0;32mdef\u001b[0m \u001b[0mcount_letter_in_word\u001b[0m\u001b[0;34m(\u001b[0m\u001b[0minput_word\u001b[0m\u001b[0;34m=\u001b[0m\u001b[0;34m'gulp'\u001b[0m\u001b[0;34m)\u001b[0m\u001b[0;34m:\u001b[0m\u001b[0;34m\u001b[0m\u001b[0;34m\u001b[0m\u001b[0m\n\u001b[1;32m      2\u001b[0m     \u001b[0;32mif\u001b[0m \u001b[0mtype\u001b[0m\u001b[0;34m(\u001b[0m\u001b[0minput_word\u001b[0m\u001b[0;34m)\u001b[0m\u001b[0;34m!=\u001b[0m\u001b[0mstr\u001b[0m\u001b[0;34m:\u001b[0m\u001b[0;34m\u001b[0m\u001b[0;34m\u001b[0m\u001b[0m\n\u001b[0;32m----> 3\u001b[0;31m         \u001b[0;32mraise\u001b[0m \u001b[0mTypeError\u001b[0m\u001b[0;34m(\u001b[0m\u001b[0;34m'incorrect input type. Please provide a string input'\u001b[0m\u001b[0;34m)\u001b[0m\u001b[0;34m\u001b[0m\u001b[0;34m\u001b[0m\u001b[0m\n\u001b[0m\u001b[1;32m      4\u001b[0m     \u001b[0;32mreturn\u001b[0m \u001b[0mlen\u001b[0m\u001b[0;34m(\u001b[0m\u001b[0minput_word\u001b[0m\u001b[0;34m)\u001b[0m\u001b[0;34m\u001b[0m\u001b[0;34m\u001b[0m\u001b[0m\n",
      "\u001b[0;31mTypeError\u001b[0m: incorrect input type. Please provide a string input"
     ]
    }
   ],
   "source": [
    "count_letter_in_word(10)"
   ]
  },
  {
   "cell_type": "code",
   "execution_count": 128,
   "id": "b2b37d0e",
   "metadata": {},
   "outputs": [
    {
     "ename": "TypeError",
     "evalue": "incorrect input type. Please provide a string input",
     "output_type": "error",
     "traceback": [
      "\u001b[0;31m---------------------------------------------------------------------------\u001b[0m",
      "\u001b[0;31mTypeError\u001b[0m                                 Traceback (most recent call last)",
      "\u001b[0;32m/var/folders/yl/ftfrcz0s4nd_pncmmknzn7440000gn/T/ipykernel_79766/1532968480.py\u001b[0m in \u001b[0;36m<module>\u001b[0;34m\u001b[0m\n\u001b[0;32m----> 1\u001b[0;31m \u001b[0mcount_letter_in_word\u001b[0m\u001b[0;34m(\u001b[0m\u001b[0;36m5\u001b[0m\u001b[0;34m)\u001b[0m\u001b[0;34m\u001b[0m\u001b[0;34m\u001b[0m\u001b[0m\n\u001b[0m",
      "\u001b[0;32m/var/folders/yl/ftfrcz0s4nd_pncmmknzn7440000gn/T/ipykernel_79766/3060205429.py\u001b[0m in \u001b[0;36mcount_letter_in_word\u001b[0;34m(input_word)\u001b[0m\n\u001b[1;32m      1\u001b[0m \u001b[0;32mdef\u001b[0m \u001b[0mcount_letter_in_word\u001b[0m\u001b[0;34m(\u001b[0m\u001b[0minput_word\u001b[0m\u001b[0;34m=\u001b[0m\u001b[0;34m'gulp'\u001b[0m\u001b[0;34m)\u001b[0m\u001b[0;34m:\u001b[0m\u001b[0;34m\u001b[0m\u001b[0;34m\u001b[0m\u001b[0m\n\u001b[1;32m      2\u001b[0m     \u001b[0;32mif\u001b[0m \u001b[0mtype\u001b[0m\u001b[0;34m(\u001b[0m\u001b[0minput_word\u001b[0m\u001b[0;34m)\u001b[0m\u001b[0;34m!=\u001b[0m\u001b[0mstr\u001b[0m\u001b[0;34m:\u001b[0m\u001b[0;34m\u001b[0m\u001b[0;34m\u001b[0m\u001b[0m\n\u001b[0;32m----> 3\u001b[0;31m         \u001b[0;32mraise\u001b[0m \u001b[0mTypeError\u001b[0m\u001b[0;34m(\u001b[0m\u001b[0;34m'incorrect input type. Please provide a string input'\u001b[0m\u001b[0;34m)\u001b[0m\u001b[0;34m\u001b[0m\u001b[0;34m\u001b[0m\u001b[0m\n\u001b[0m\u001b[1;32m      4\u001b[0m     \u001b[0;32mreturn\u001b[0m \u001b[0mlen\u001b[0m\u001b[0;34m(\u001b[0m\u001b[0minput_word\u001b[0m\u001b[0;34m)\u001b[0m\u001b[0;34m\u001b[0m\u001b[0;34m\u001b[0m\u001b[0m\n",
      "\u001b[0;31mTypeError\u001b[0m: incorrect input type. Please provide a string input"
     ]
    }
   ],
   "source": [
    "count_letter_in_word(5)"
   ]
  },
  {
   "cell_type": "code",
   "execution_count": 129,
   "id": "7ea6f33f",
   "metadata": {},
   "outputs": [],
   "source": [
    "def count_letter_in_word_new(input_word='gulp'):\n",
    "    result=0\n",
    "    try:\n",
    "        result=len(input_word)\n",
    "    except Exception as e:\n",
    "        print(e)\n",
    "    return result"
   ]
  },
  {
   "cell_type": "code",
   "execution_count": 130,
   "id": "af13714a",
   "metadata": {},
   "outputs": [
    {
     "name": "stdout",
     "output_type": "stream",
     "text": [
      "object of type 'int' has no len()\n"
     ]
    },
    {
     "data": {
      "text/plain": [
       "0"
      ]
     },
     "execution_count": 130,
     "metadata": {},
     "output_type": "execute_result"
    }
   ],
   "source": [
    "count_letter_in_word_new(103984)"
   ]
  },
  {
   "cell_type": "markdown",
   "id": "da21e2f2",
   "metadata": {},
   "source": [
    "## Copying\n",
    "Unfortunately, variable assignment in Python is not always consistent. Sometimes, variable assignment creates\n",
    "a **copy** of the expression on the right-hand side, while other times the variable becomes an **alias**\n",
    "(a different name for the same thing) of what is on the right-hand side. Consider the examples below."
   ]
  },
  {
   "cell_type": "code",
   "execution_count": 131,
   "id": "01df9b52",
   "metadata": {},
   "outputs": [
    {
     "name": "stdout",
     "output_type": "stream",
     "text": [
      "x = 5, y = 7\n"
     ]
    }
   ],
   "source": [
    "x = 5\n",
    "y = x\n",
    "y = 7\n",
    "\n",
    "print('x = {}, y = {}'.format(x, y))"
   ]
  },
  {
   "cell_type": "markdown",
   "id": "f988eccb",
   "metadata": {},
   "source": [
    "When we wrote `y = x`, a **copy** of `x` was created. Therefore, when we modified `y` afterwards, `x` did not change.\n",
    "Therefore, we say that `int` types are **assigned by value**."
   ]
  },
  {
   "cell_type": "code",
   "execution_count": 132,
   "id": "2f4553ad",
   "metadata": {},
   "outputs": [
    {
     "name": "stdout",
     "output_type": "stream",
     "text": [
      "x = [3, 12, 1], y = [3, 12, 1]\n"
     ]
    }
   ],
   "source": [
    "x = [3, 5, 1]\n",
    "y = x\n",
    "y[1] = 12\n",
    "print('x = {}, y = {}'.format(x, y))"
   ]
  },
  {
   "cell_type": "markdown",
   "id": "5dd59cc0",
   "metadata": {},
   "source": [
    "When we wrote `y = x`, an **alias** of `x` was created. `x` and `y` were essentially different variable names\n",
    "both referencing the same object. Therefore, we say that `list` types are **assigned by reference**.\n",
    "\n",
    "Typically, more complex data types are assigned by reference, while simple data types are assigned by value. Luckily, if we want to assign complex\n",
    "data types by value, there is an easy solution using the built-in `copy` module."
   ]
  },
  {
   "cell_type": "code",
   "execution_count": 133,
   "id": "71e61705",
   "metadata": {},
   "outputs": [
    {
     "name": "stdout",
     "output_type": "stream",
     "text": [
      "x = [3, 5, 1], y = [3, 12, 1]\n"
     ]
    }
   ],
   "source": [
    "from copy import copy # from the \"copy\" module (built-in python file), import the \"copy\" function for use in our program\n",
    "\n",
    "x = [3, 5, 1]\n",
    "y = copy(x)\n",
    "y[1] = 12\n",
    "print('x = {}, y = {}'.format(x, y))"
   ]
  },
  {
   "cell_type": "markdown",
   "id": "ad8bf0c3",
   "metadata": {},
   "source": [
    "Unfortunately, the copy function does not get applied recursively. Consider the following."
   ]
  },
  {
   "cell_type": "code",
   "execution_count": 134,
   "id": "f783ddf6",
   "metadata": {},
   "outputs": [
    {
     "name": "stdout",
     "output_type": "stream",
     "text": [
      "x = [[1, 2], [3, 4], [5, 6]], y = [[1, 2], [7, 8], [5, 6]]\n",
      "x = [[1, 2], [7, 4], [5, 6]], y = [[1, 2], [7, 4], [5, 6]]\n"
     ]
    }
   ],
   "source": [
    "from copy import copy\n",
    "\n",
    "# This works fine (x does not get modified)\n",
    "x = [[1, 2], [3, 4], [5, 6]]    # Lists within a list\n",
    "y = copy(x)\n",
    "y[1] = [7, 8]\n",
    "print('x = {}, y = {}'.format(x, y))\n",
    "\n",
    "# This does not work (x gets modified)\n",
    "x = [[1, 2], [3, 4], [5, 6]]    # Lists within a list\n",
    "y = copy(x)\n",
    "y[1][0] = 7\n",
    "print('x = {}, y = {}'.format(x, y))"
   ]
  },
  {
   "cell_type": "markdown",
   "id": "210fde9e",
   "metadata": {},
   "source": [
    "To get around this, we simply use the `deepcopy` function from the `copy` module."
   ]
  },
  {
   "cell_type": "code",
   "execution_count": 135,
   "id": "96a9daaf",
   "metadata": {},
   "outputs": [
    {
     "name": "stdout",
     "output_type": "stream",
     "text": [
      "x = [[1, 2], [3, 4], [5, 6]], y = [[1, 2], [7, 4], [5, 6]]\n"
     ]
    }
   ],
   "source": [
    "from copy import deepcopy\n",
    "\n",
    "x = [[1, 2], [3, 4], [5, 6]]    # Lists within a list\n",
    "y = deepcopy(x)\n",
    "y[1][0] = 7\n",
    "print('x = {}, y = {}'.format(x, y))"
   ]
  },
  {
   "cell_type": "markdown",
   "id": "f0b96613",
   "metadata": {},
   "source": [
    "## Cooking Challenge\n",
    "\n",
    "Alberto is making spaghetti tonight and he needs to make sure that if he doesn't have enough of the ingredients in his pantry, he adds them to his shopping list.\n",
    "\n",
    "- For each item in the recipe, check if the ingredient is in Alberto's pantry.\n",
    "\n",
    "- If the recipe ingredient is in the pantry, check if the recipe requires more of the ingredient than what Alberto has in storage. If so, add the name and the quantity he needs to purchase as key-value pairs in the dictionary shopping_list.\n",
    "\n",
    "- If the recipe item is not in the pantry, add the ingredient and the quantity as **key-value pairs in the dictionary** shopping_list."
   ]
  },
  {
   "cell_type": "code",
   "execution_count": 116,
   "id": "26551f64",
   "metadata": {},
   "outputs": [],
   "source": [
    "pantry = {'pasta': 3, 'garlic': 4,'sauce': 2,\n",
    "          'basil': 2, 'salt': 3, 'olive oil': 3,\n",
    "          'rice': 3, 'bread': 3, 'peanut butter': 1,\n",
    "          'flour': 1, 'eggs': 1, 'onions': 1, 'mushrooms': 3,\n",
    "          'broccoli': 2, 'butter': 2,'pickles': 6, 'milk': 2,\n",
    "          'chia seeds': 5}\n",
    "\n",
    "meal_recipe = {'pasta': 2, 'garlic': 2, 'sauce': 3,\n",
    "          'basil': 4, 'salt': 1, 'pepper': 2,\n",
    "          'olive oil': 2, 'onions': 2, 'mushrooms': 6}\n",
    "\n",
    "\n",
    "shopping_list = dict()"
   ]
  },
  {
   "cell_type": "markdown",
   "id": "f30f530f",
   "metadata": {},
   "source": [
    "```\n",
    "1. You have a meal recipe and you have a pantry.\n",
    "2. You read item by item in the meal recipe.\n",
    "3. FOR each item, you verify IF you have the item in your pantry.\n",
    "    3a. If you meet the previous condition, you verify IF you have enough of that item.\n",
    "4. ELSE you add the whole ingredient quantity to your shopping list.\n",
    "\n",
    "```"
   ]
  },
  {
   "cell_type": "code",
   "execution_count": 121,
   "id": "550469b1",
   "metadata": {},
   "outputs": [
    {
     "name": "stdout",
     "output_type": "stream",
     "text": [
      "have ingredient pasta\n",
      "have ingredient garlic\n",
      "not enough of ingredient sauce\n",
      "not enough of ingredient basil\n",
      "have ingredient salt\n",
      "pepper not in pantry\n",
      "have ingredient olive oil\n",
      "not enough of ingredient onions\n",
      "not enough of ingredient mushrooms\n"
     ]
    }
   ],
   "source": [
    "for key in meal_recipe:\n",
    "    \n",
    "    try:\n",
    "        if meal_recipe[key] <= pantry[key]:\n",
    "            print(f\"have ingredient {key}\")\n",
    "        else:\n",
    "            print(f\"not enough of ingredient {key}\")\n",
    "            difference = meal_recipe[key] - pantry[key]\n",
    "            shopping_list[key] = difference\n",
    "    except KeyError:\n",
    "        print(f'{key} not in pantry')\n",
    "        shopping_list[key] = meal_recipe[key]"
   ]
  },
  {
   "cell_type": "code",
   "execution_count": 122,
   "id": "40d16b14",
   "metadata": {},
   "outputs": [
    {
     "data": {
      "text/plain": [
       "{'sauce': 1, 'basil': 2, 'onions': 1, 'mushrooms': 3, 'pepper': 2}"
      ]
     },
     "execution_count": 122,
     "metadata": {},
     "output_type": "execute_result"
    }
   ],
   "source": [
    "shopping_list"
   ]
  },
  {
   "cell_type": "markdown",
   "id": "3b266838",
   "metadata": {},
   "source": [
    "## Bonus data types: date and time\n",
    "Python contains built-in data types for handling date and time. This is great, because as any programmer eventually learns, \n",
    "dates and times are one of the most annoying things to deal with due to all the various exceptions (think time zones, leap years, daylight savings, etc.).\n",
    "\n",
    "Here, we're just going to go over some **very** basic uses of the `datetime` module in Python, but see [this helpful tutorial](https://www.programiz.com/python-programming/datetime)."
   ]
  },
  {
   "cell_type": "code",
   "execution_count": null,
   "id": "89c6d958",
   "metadata": {},
   "outputs": [],
   "source": [
    "import datetime\n",
    "\n",
    "# Get the current time in your computer's timezone\n",
    "now = datetime.datetime.now()\n",
    "print(now)\n",
    "\n",
    "# Get parts of the datetime\n",
    "current_year = now.year\n",
    "print(current_year)\n",
    "\n",
    "# Get the current time in the standard UTC timezone\n",
    "utcnow = datetime.datetime.utcnow()\n",
    "print(utcnow)\n",
    "\n",
    "# Just get the current date\n",
    "today = datetime.date.today()\n",
    "print(today)\n",
    "\n",
    "# Create your own datetime object\n",
    "some_date = datetime.datetime(year=1994, month=11, day=23, hour=11)  # Can also specify minute, etc.\n",
    "print(some_date)\n",
    "\n",
    "# Compute the passage of time up to sub-millisecond precision\n",
    "start = datetime.datetime.now()\n",
    "x = 0\n",
    "for i in range(1000):\n",
    "    x += 1\n",
    "end = datetime.datetime.now()\n",
    "elapsed_time = end - start\n",
    "print(elapsed_time.total_seconds())"
   ]
  }
 ],
 "metadata": {
  "kernelspec": {
   "display_name": "Python 3 (ipykernel)",
   "language": "python",
   "name": "python3"
  },
  "language_info": {
   "codemirror_mode": {
    "name": "ipython",
    "version": 3
   },
   "file_extension": ".py",
   "mimetype": "text/x-python",
   "name": "python",
   "nbconvert_exporter": "python",
   "pygments_lexer": "ipython3",
   "version": "3.8.12"
  }
 },
 "nbformat": 4,
 "nbformat_minor": 5
}
