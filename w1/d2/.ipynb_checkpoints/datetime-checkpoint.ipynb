{
 "cells": [
  {
   "cell_type": "markdown",
   "id": "d892a10b-6154-4650-ab52-ea327c506fc0",
   "metadata": {},
   "source": [
    "# Datetime in Python"
   ]
  },
  {
   "cell_type": "markdown",
   "id": "cff5cce5-237e-42b1-aee1-2fd5236a1a99",
   "metadata": {},
   "source": [
    "The most commonly used classes are:\n",
    "- datetime - allows us to work with times and dates together\n",
    "- date - dates independent of time\n",
    "- time - time independent of date\n",
    "- timedelta - a duration of time (used for measuring and manipulation)"
   ]
  },
  {
   "cell_type": "code",
   "execution_count": 2,
   "id": "e4a9cbb7-1fae-49dd-874a-debc85d60a07",
   "metadata": {},
   "outputs": [
    {
     "name": "stdout",
     "output_type": "stream",
     "text": [
      "2022-01-11 21:35:31.873338\n"
     ]
    }
   ],
   "source": [
    "# Get current date and time\n",
    "import datetime\n",
    "\n",
    "datetime_object = datetime.datetime.now()\n",
    "print(datetime_object)"
   ]
  },
  {
   "cell_type": "code",
   "execution_count": 3,
   "id": "b4eb769e-7ace-4d46-92d1-494b472158e8",
   "metadata": {},
   "outputs": [
    {
     "name": "stdout",
     "output_type": "stream",
     "text": [
      "2022-01-11\n"
     ]
    }
   ],
   "source": [
    "# Get current date\n",
    "date_object = datetime.date.today()\n",
    "print(date_object)"
   ]
  },
  {
   "cell_type": "code",
   "execution_count": 4,
   "id": "0d25ac75-354b-41e9-8085-cc12ea30e9a3",
   "metadata": {},
   "outputs": [
    {
     "name": "stdout",
     "output_type": "stream",
     "text": [
      "['MAXYEAR', 'MINYEAR', '__builtins__', '__cached__', '__doc__', '__file__', '__loader__', '__name__', '__package__', '__spec__', 'date', 'datetime', 'datetime_CAPI', 'sys', 'time', 'timedelta', 'timezone', 'tzinfo']\n"
     ]
    }
   ],
   "source": [
    "print(dir(datetime))"
   ]
  },
  {
   "cell_type": "markdown",
   "id": "cd4b76a4-d45e-4d59-81d7-dea7d3564ef1",
   "metadata": {},
   "source": [
    "***"
   ]
  },
  {
   "cell_type": "markdown",
   "id": "05f375c2-9941-47a6-8835-18836cead2f6",
   "metadata": {
    "jp-MarkdownHeadingCollapsed": true,
    "tags": []
   },
   "source": [
    "## datetime.date Class\n",
    "instantiate *date* objects from the *date* class"
   ]
  },
  {
   "cell_type": "code",
   "execution_count": 5,
   "id": "5d059ccb-7eb7-44d0-a0aa-3e60eb446a9f",
   "metadata": {},
   "outputs": [
    {
     "name": "stdout",
     "output_type": "stream",
     "text": [
      "2019-04-13\n"
     ]
    }
   ],
   "source": [
    "d = datetime.date(2019, 4, 13)\n",
    "print(d)"
   ]
  },
  {
   "cell_type": "code",
   "execution_count": 6,
   "id": "89a68b9c-db8d-417a-9e9c-2b3e50c9776c",
   "metadata": {},
   "outputs": [],
   "source": [
    "from datetime import date"
   ]
  },
  {
   "cell_type": "code",
   "execution_count": 7,
   "id": "db280cd3-b2dc-410e-8b27-5f9fdce58c7b",
   "metadata": {},
   "outputs": [
    {
     "name": "stdout",
     "output_type": "stream",
     "text": [
      "2019-04-13\n"
     ]
    }
   ],
   "source": [
    "a = date(2019, 4, 13)\n",
    "print(a)"
   ]
  },
  {
   "cell_type": "markdown",
   "id": "b7dcce84-1290-4b71-b4a4-4b8c387047d0",
   "metadata": {},
   "source": [
    "***"
   ]
  },
  {
   "cell_type": "markdown",
   "id": "f561df20-e76a-41e6-bd90-5a38dddf6df1",
   "metadata": {},
   "source": [
    "### Get Current Date"
   ]
  },
  {
   "cell_type": "code",
   "execution_count": 11,
   "id": "f87b0f2a-86b6-4562-b361-37d5913339be",
   "metadata": {},
   "outputs": [
    {
     "name": "stdout",
     "output_type": "stream",
     "text": [
      "Current date = 2022-01-11\n"
     ]
    }
   ],
   "source": [
    "today = date.today()\n",
    "print('Current date =', today)"
   ]
  },
  {
   "cell_type": "markdown",
   "id": "d2aca47f-c88e-48e3-9a09-fcfea3134f83",
   "metadata": {},
   "source": [
    "***"
   ]
  },
  {
   "cell_type": "markdown",
   "id": "20751671-c5b4-441d-b84b-a5bfeb4e4c13",
   "metadata": {},
   "source": [
    "### Get date from a timestamp"
   ]
  },
  {
   "cell_type": "code",
   "execution_count": 12,
   "id": "5c3aab96-b438-46b9-83dd-d4b019a4975c",
   "metadata": {},
   "outputs": [
    {
     "name": "stdout",
     "output_type": "stream",
     "text": [
      "Date = 2012-01-10\n"
     ]
    }
   ],
   "source": [
    "timestamp = date.fromtimestamp(1326244364)\n",
    "print('Date =', timestamp)"
   ]
  },
  {
   "cell_type": "markdown",
   "id": "0abbef98-88fa-4c99-a011-e2e282fdb02b",
   "metadata": {},
   "source": [
    "***"
   ]
  },
  {
   "cell_type": "markdown",
   "id": "1340059a-65dd-4e05-8c2d-28ac9f124e78",
   "metadata": {},
   "source": [
    "### Print today's year, month, and day"
   ]
  },
  {
   "cell_type": "code",
   "execution_count": 13,
   "id": "ff502dd2-100d-4aa2-ae69-cb8645b722ca",
   "metadata": {},
   "outputs": [
    {
     "name": "stdout",
     "output_type": "stream",
     "text": [
      "Current year: 2022\n",
      "Current month: 1\n",
      "Current day: 11\n"
     ]
    }
   ],
   "source": [
    "# date object of today's date\n",
    "today = date.today()\n",
    "\n",
    "print(\"Current year:\", today.year)\n",
    "print(\"Current month:\", today.month)\n",
    "print(\"Current day:\", today.day)"
   ]
  },
  {
   "cell_type": "markdown",
   "id": "d05fb3a3-0ad4-4202-97c5-b25a207a3dc3",
   "metadata": {},
   "source": [
    "***"
   ]
  },
  {
   "cell_type": "markdown",
   "id": "4f0ec8c1-03f3-4d38-81b5-a30343fcca4c",
   "metadata": {
    "jp-MarkdownHeadingCollapsed": true,
    "tags": []
   },
   "source": [
    "## datetime.time Class\n",
    "A time object instantiated from the *time* class represents the local time"
   ]
  },
  {
   "cell_type": "code",
   "execution_count": 14,
   "id": "fe7249a5-f634-4b2e-9e51-b1b99a865298",
   "metadata": {},
   "outputs": [
    {
     "name": "stdout",
     "output_type": "stream",
     "text": [
      "a = 00:00:00\n",
      "b = 11:34:56\n",
      "c = 11:34:56\n",
      "d = 11:34:56.234566\n"
     ]
    }
   ],
   "source": [
    "from datetime import time\n",
    "\n",
    "# time(hour = 0, minute = 0, second = 0)\n",
    "a = time()\n",
    "print('a =', a)\n",
    "\n",
    "# time(hour, minute, and second)\n",
    "b = time(11, 34, 56)\n",
    "print('b =', b)\n",
    "\n",
    "# time(hour, minute, and second)\n",
    "c = time(hour = 11, minute = 34, second = 56)\n",
    "print('c =', c)\n",
    "\n",
    "# time(hour, minute, second, microsecond)\n",
    "d = time(11, 34, 56, 234566)\n",
    "print('d =', d)"
   ]
  },
  {
   "cell_type": "markdown",
   "id": "85e4f8dc-b4ba-42c1-aabc-5917d4eee5c4",
   "metadata": {},
   "source": [
    "***"
   ]
  },
  {
   "cell_type": "markdown",
   "id": "cfa1d698-836a-4959-ba9a-cb1f601fb43a",
   "metadata": {},
   "source": [
    "### Print hour, minute, second, and microsecond"
   ]
  },
  {
   "cell_type": "code",
   "execution_count": 15,
   "id": "f17fff3e-2a5e-4246-a211-ab37187da895",
   "metadata": {},
   "outputs": [
    {
     "name": "stdout",
     "output_type": "stream",
     "text": [
      "hour = 11\n",
      "minute = 34\n",
      "second = 56\n",
      "microsecond - 0\n"
     ]
    }
   ],
   "source": [
    "a = time(11, 34, 56)\n",
    "\n",
    "print('hour =', a.hour)\n",
    "print('minute =', a.minute)\n",
    "print('second =', a.second)\n",
    "print('microsecond -', a.microsecond)\n",
    "# The default value of microsecond is 0 \n",
    "# if no argument is passed"
   ]
  },
  {
   "cell_type": "markdown",
   "id": "011ccd82-f2d6-4101-af44-553e404438e2",
   "metadata": {},
   "source": [
    "***"
   ]
  },
  {
   "cell_type": "markdown",
   "id": "5615f806-f42e-4876-8246-1afefca3cc59",
   "metadata": {
    "jp-MarkdownHeadingCollapsed": true,
    "tags": []
   },
   "source": [
    "## datetime.datetime Class\n",
    "information from both *date* and *time* objects"
   ]
  },
  {
   "cell_type": "code",
   "execution_count": 18,
   "id": "81ffe8ee-e3e1-4fbf-a8d0-dbadb1762433",
   "metadata": {},
   "outputs": [
    {
     "name": "stdout",
     "output_type": "stream",
     "text": [
      "2018-11-28 00:00:00\n",
      "2017-11-28 23:55:59.342380\n"
     ]
    }
   ],
   "source": [
    "from datetime import datetime\n",
    "\n",
    "# datetime(year, month, day)\n",
    "# these first 3 arguments are mandatory when using this constructor\n",
    "a = datetime(2018, 11, 28)\n",
    "print(a)\n",
    "\n",
    "# datetime(year, month, day, hour, minute, second, microsecond)\n",
    "b = datetime(2017, 11, 28, 23, 55, 59, 342380)\n",
    "print(b)"
   ]
  },
  {
   "cell_type": "markdown",
   "id": "d0db58bf-7ab1-4696-a8a5-349c33cb3cde",
   "metadata": {},
   "source": [
    "***"
   ]
  },
  {
   "cell_type": "markdown",
   "id": "e8703f0d-14cd-4b7e-b05d-badc84aedeac",
   "metadata": {
    "jp-MarkdownHeadingCollapsed": true,
    "tags": []
   },
   "source": [
    "### Print year, month, hour, minute, and timestamp"
   ]
  },
  {
   "cell_type": "code",
   "execution_count": 20,
   "id": "6f95da2f-375d-431b-a911-3657adfdbbb8",
   "metadata": {},
   "outputs": [
    {
     "name": "stdout",
     "output_type": "stream",
     "text": [
      "year = 2017\n",
      "month = 11\n",
      "day = 28\n",
      "hour = 23\n",
      "minute = 55\n",
      "timestamp = 1511938559.34238\n"
     ]
    }
   ],
   "source": [
    "a = datetime(2017, 11, 28, 23, 55, 59, 342380)\n",
    "print('year =', a.year)\n",
    "print('month =', a.month)\n",
    "print('day =', a.day)\n",
    "print('hour =', a.hour)\n",
    "print('minute =', a.minute)\n",
    "print('timestamp =', a.timestamp())"
   ]
  },
  {
   "cell_type": "markdown",
   "id": "ece4c8d2-6ada-44c2-83eb-7d6c43992dda",
   "metadata": {},
   "source": [
    "***"
   ]
  },
  {
   "cell_type": "markdown",
   "id": "7ca2d49a-5d37-41b9-b7aa-5e7df24f627b",
   "metadata": {
    "jp-MarkdownHeadingCollapsed": true,
    "tags": []
   },
   "source": [
    "## datetime.timedelta\n",
    "- an object that represents the difference between two dates or times  \n",
    "- You can use the *+* operator to find the sum, and you can multiply and divide a *deltatime* object by integers and floats"
   ]
  },
  {
   "cell_type": "markdown",
   "id": "37cf77b3-c373-436d-bd39-55d1746fd964",
   "metadata": {
    "jp-MarkdownHeadingCollapsed": true,
    "tags": []
   },
   "source": [
    "### Difference between two dates and times"
   ]
  },
  {
   "cell_type": "code",
   "execution_count": 21,
   "id": "d2b78990-0b4c-49d8-ba47-b956f02cec38",
   "metadata": {},
   "outputs": [
    {
     "name": "stdout",
     "output_type": "stream",
     "text": [
      "t3 = 201 days, 0:00:00\n",
      "t6 = -333 days, 1:14:20\n",
      "type of t3 = <class 'datetime.timedelta'>\n",
      "type of t6 = <class 'datetime.timedelta'>\n"
     ]
    }
   ],
   "source": [
    "from datetime import datetime, date\n",
    "\n",
    "t1 = date(year = 2018, month = 7, day = 12)\n",
    "t2 = date(year = 2017, month = 12, day = 23)\n",
    "t3 = t1 - t2\n",
    "print('t3 =', t3)\n",
    "\n",
    "t4 = datetime(year = 2018, month = 7, day = 12, \n",
    "              hour = 7, minute = 9, second = 33)\n",
    "t5 = datetime(year = 2019, month = 6, day = 10, \n",
    "              hour = 5, minute = 55, second = 13)\n",
    "t6 = t4 - t5\n",
    "print('t6 =', t6)\n",
    "\n",
    "print('type of t3 =', type(t3))\n",
    "print('type of t6 =', type(t6))"
   ]
  },
  {
   "cell_type": "markdown",
   "id": "21a3fd24-ba53-42d5-a980-0fd247abffc4",
   "metadata": {},
   "source": [
    "***"
   ]
  },
  {
   "cell_type": "markdown",
   "id": "44b054b1-281c-4fe6-a39a-08bc7bb309ac",
   "metadata": {
    "jp-MarkdownHeadingCollapsed": true,
    "tags": []
   },
   "source": [
    "### Difference between two timedelta objects"
   ]
  },
  {
   "cell_type": "code",
   "execution_count": 22,
   "id": "6f0ca1ee-6a73-4bfb-83cf-38dba8fcf4bf",
   "metadata": {},
   "outputs": [
    {
     "name": "stdout",
     "output_type": "stream",
     "text": [
      "t3 = 14 days, 13:55:39\n"
     ]
    }
   ],
   "source": [
    "from datetime import timedelta\n",
    "\n",
    "t1 = timedelta(weeks = 2, days = 5, hours = 1, seconds = 33)\n",
    "t2 = timedelta(days = 4, hours = 11, minutes = 4, seconds = 54)\n",
    "t3 = t1 - t2\n",
    "\n",
    "print('t3 =', t3)"
   ]
  },
  {
   "cell_type": "markdown",
   "id": "eed930ae-024f-414e-b222-b6da3b4c0e9a",
   "metadata": {},
   "source": [
    "***"
   ]
  },
  {
   "cell_type": "markdown",
   "id": "20d66a26-4511-4cef-a32b-800e76193826",
   "metadata": {
    "jp-MarkdownHeadingCollapsed": true,
    "tags": []
   },
   "source": [
    "### Printing negative timedelta object"
   ]
  },
  {
   "cell_type": "code",
   "execution_count": 23,
   "id": "b52e5140-755f-4089-966f-47050e8012f5",
   "metadata": {},
   "outputs": [
    {
     "name": "stdout",
     "output_type": "stream",
     "text": [
      "t3 = -1 day, 23:59:39\n",
      "t3 = 0:00:21\n"
     ]
    }
   ],
   "source": [
    "from datetime import timedelta\n",
    "\n",
    "t1 = timedelta(seconds = 33)\n",
    "t2 = timedelta(seconds = 54)\n",
    "t3 = t1 - t2\n",
    "print('t3 =', t3)\n",
    "print('t3 =', abs(t3))"
   ]
  },
  {
   "cell_type": "markdown",
   "id": "e4d9f1b8-82eb-42b8-8b68-e8daa7cfa365",
   "metadata": {},
   "source": [
    "***"
   ]
  },
  {
   "cell_type": "markdown",
   "id": "44c603db-aea9-468f-8cd2-731a7a0f06ce",
   "metadata": {
    "jp-MarkdownHeadingCollapsed": true,
    "tags": []
   },
   "source": [
    "### Time duration in seconds\n",
    "using total_seconds() method"
   ]
  },
  {
   "cell_type": "code",
   "execution_count": 24,
   "id": "2006ba6e-914c-4809-96c7-dcde9dc111a7",
   "metadata": {},
   "outputs": [
    {
     "name": "stdout",
     "output_type": "stream",
     "text": [
      "total seconds = 435633.233423\n"
     ]
    }
   ],
   "source": [
    "from datetime import timedelta\n",
    "\n",
    "t = timedelta(days = 5, hours = 1, seconds = 33, \n",
    "              microseconds = 233423)\n",
    "print('total seconds =', t.total_seconds())"
   ]
  },
  {
   "cell_type": "markdown",
   "id": "24bbae91-bb42-4319-b2f4-94a3439f60ac",
   "metadata": {},
   "source": [
    "***"
   ]
  },
  {
   "cell_type": "markdown",
   "id": "65bf6011-903c-4309-a877-d388dbd67cd2",
   "metadata": {
    "tags": []
   },
   "source": [
    "## Python format datetime\n",
    "python has *strftime()* and *strptime()* methods"
   ]
  },
  {
   "cell_type": "markdown",
   "id": "159b0b5f-50eb-4637-ae48-630270f0a112",
   "metadata": {
    "jp-MarkdownHeadingCollapsed": true,
    "tags": []
   },
   "source": [
    "### strftime()\n",
    "datetime object to string\n",
    "- creates formatted string from a given date, datetime, or time object"
   ]
  },
  {
   "cell_type": "code",
   "execution_count": 26,
   "id": "d038b4a4-127b-4ffc-b576-411b483bdf9f",
   "metadata": {},
   "outputs": [
    {
     "name": "stdout",
     "output_type": "stream",
     "text": [
      "time: 22:18:57\n",
      "s1: 01/11/2022, 22:18:57\n",
      "s2: 11/01/2022, 22:18:57\n"
     ]
    }
   ],
   "source": [
    "from datetime import datetime\n",
    "\n",
    "# current date and time\n",
    "now = datetime.now()\n",
    "\n",
    "t = now.strftime(\"%H:%M:%S\")\n",
    "print('time:', t)\n",
    "\n",
    "# mm/dd/YY H:M:S format\n",
    "s1 = now.strftime(\"%m/%d/%Y, %H:%M:%S\")\n",
    "print('s1:', s1)\n",
    "\n",
    "# dd/mm/YY H:M:S format\n",
    "s2 = now.strftime(\"%d/%m/%Y, %H:%M:%S\")\n",
    "print('s2:', s2)"
   ]
  },
  {
   "cell_type": "markdown",
   "id": "4633e0b7-d59e-4b18-b6b7-e07c3371d5dd",
   "metadata": {},
   "source": [
    "***"
   ]
  },
  {
   "cell_type": "markdown",
   "id": "559c5fe4-379f-4376-ad93-d423e484047c",
   "metadata": {
    "jp-MarkdownHeadingCollapsed": true,
    "tags": []
   },
   "source": [
    "### strptime()\n",
    "string to datetime\n",
    "- the strptime() method creates a datetime object from a given string (representing date and time)"
   ]
  },
  {
   "cell_type": "code",
   "execution_count": 28,
   "id": "cb77c81e-a6e3-4507-aae0-ca557034711a",
   "metadata": {},
   "outputs": [
    {
     "name": "stdout",
     "output_type": "stream",
     "text": [
      "date_string = 21 June, 2018\n",
      "date_object = 2018-06-21 00:00:00\n"
     ]
    }
   ],
   "source": [
    "from datetime import datetime\n",
    "\n",
    "date_string = \"21 June, 2018\"\n",
    "print(\"date_string =\", date_string)\n",
    "\n",
    "date_object = datetime.strptime(date_string, \"%d %B, %Y\")\n",
    "print(\"date_object =\", date_object)"
   ]
  },
  {
   "cell_type": "markdown",
   "id": "a2428a96-126a-4825-a86c-b77fa1c3fb36",
   "metadata": {},
   "source": [
    "***"
   ]
  },
  {
   "cell_type": "markdown",
   "id": "1f50021e-7673-44aa-a35d-e5618dee683d",
   "metadata": {},
   "source": [
    "## Handling timezone in Python"
   ]
  },
  {
   "cell_type": "code",
   "execution_count": 29,
   "id": "06a8847a-1b58-477a-aa4e-9ab3d47c6f7b",
   "metadata": {},
   "outputs": [
    {
     "name": "stdout",
     "output_type": "stream",
     "text": [
      "Local: 01/11/2022, 22:23:51\n",
      "NY: 01/12/2022, 00:23:51\n",
      "London: 01/12/2022, 05:23:51\n"
     ]
    }
   ],
   "source": [
    "from datetime import datetime\n",
    "import pytz\n",
    "\n",
    "local = datetime.now()\n",
    "print(\"Local:\", local.strftime(\"%m/%d/%Y, %H:%M:%S\"))\n",
    "\n",
    "\n",
    "tz_NY = pytz.timezone('America/New_York') \n",
    "datetime_NY = datetime.now(tz_NY)\n",
    "print(\"NY:\", datetime_NY.strftime(\"%m/%d/%Y, %H:%M:%S\"))\n",
    "\n",
    "tz_London = pytz.timezone('Europe/London')\n",
    "datetime_London = datetime.now(tz_London)\n",
    "print(\"London:\", datetime_London.strftime(\"%m/%d/%Y, %H:%M:%S\"))"
   ]
  }
 ],
 "metadata": {
  "kernelspec": {
   "display_name": "ds_env",
   "language": "python",
   "name": "ds_env"
  },
  "language_info": {
   "codemirror_mode": {
    "name": "ipython",
    "version": 3
   },
   "file_extension": ".py",
   "mimetype": "text/x-python",
   "name": "python",
   "nbconvert_exporter": "python",
   "pygments_lexer": "ipython3",
   "version": "3.8.12"
  }
 },
 "nbformat": 4,
 "nbformat_minor": 5
}
