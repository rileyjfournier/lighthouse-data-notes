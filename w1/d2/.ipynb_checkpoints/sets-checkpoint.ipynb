{
 "cells": [
  {
   "cell_type": "markdown",
   "id": "1aff7b6d-4607-4942-b782-7aa23d2a246e",
   "metadata": {
    "jp-MarkdownHeadingCollapsed": true,
    "tags": []
   },
   "source": [
    "## Sets"
   ]
  },
  {
   "cell_type": "code",
   "execution_count": null,
   "id": "01406840-0ce6-4062-ab58-3227f70ec0a5",
   "metadata": {},
   "outputs": [],
   "source": [
    "x = set(<iter>)"
   ]
  },
  {
   "cell_type": "code",
   "execution_count": 3,
   "id": "31dff44c-901a-42a0-b42e-eb04f799024c",
   "metadata": {},
   "outputs": [
    {
     "data": {
      "text/plain": [
       "{'bar', 'baz', 'foo', 'qux'}"
      ]
     },
     "execution_count": 3,
     "metadata": {},
     "output_type": "execute_result"
    }
   ],
   "source": [
    "# With []\n",
    "x = set(['foo','bar','baz','foo','qux'])\n",
    "x"
   ]
  },
  {
   "cell_type": "code",
   "execution_count": 4,
   "id": "d3db6d9d-48ca-460d-b26a-2f3d5f64730f",
   "metadata": {},
   "outputs": [
    {
     "data": {
      "text/plain": [
       "{'bar', 'baz', 'foo', 'qux'}"
      ]
     },
     "execution_count": 4,
     "metadata": {},
     "output_type": "execute_result"
    }
   ],
   "source": [
    "# With ()\n",
    "x = set(('foo','bar','baz','foo','qux'))\n",
    "x"
   ]
  },
  {
   "cell_type": "code",
   "execution_count": 7,
   "id": "620db61b-b59c-450c-9eb6-c8f87fce9d94",
   "metadata": {},
   "outputs": [
    {
     "data": {
      "text/plain": [
       "{'bar', 'baz', 'foo', 'qux'}"
      ]
     },
     "execution_count": 7,
     "metadata": {},
     "output_type": "execute_result"
    }
   ],
   "source": [
    "# or {}\n",
    "x = {'foo','bar','baz','foo','qux'}\n",
    "x"
   ]
  },
  {
   "cell_type": "code",
   "execution_count": 8,
   "id": "33f5b28d-7354-404a-ad18-4e448fae98a7",
   "metadata": {},
   "outputs": [
    {
     "data": {
      "text/plain": [
       "{'q', 'u', 'x'}"
      ]
     },
     "execution_count": 8,
     "metadata": {},
     "output_type": "execute_result"
    }
   ],
   "source": [
    "x = {'q','u','u','x'}\n",
    "x"
   ]
  },
  {
   "cell_type": "code",
   "execution_count": 5,
   "id": "1956dc91-7697-4fb4-8743-4c9c38caa217",
   "metadata": {},
   "outputs": [
    {
     "data": {
      "text/plain": [
       "['q', 'u', 'u', 'x']"
      ]
     },
     "execution_count": 5,
     "metadata": {},
     "output_type": "execute_result"
    }
   ],
   "source": [
    "s = 'quux'\n",
    "\n",
    "list(s)"
   ]
  },
  {
   "cell_type": "code",
   "execution_count": 6,
   "id": "c02b3341-ffa6-4ffc-a8b9-f76f6f3e5eeb",
   "metadata": {},
   "outputs": [
    {
     "data": {
      "text/plain": [
       "{'q', 'u', 'x'}"
      ]
     },
     "execution_count": 6,
     "metadata": {},
     "output_type": "execute_result"
    }
   ],
   "source": [
    "set(s)"
   ]
  },
  {
   "cell_type": "code",
   "execution_count": 9,
   "id": "f9f29e2d-c701-4c38-b829-43f10d2d4d6e",
   "metadata": {},
   "outputs": [
    {
     "data": {
      "text/plain": [
       "{'foo'}"
      ]
     },
     "execution_count": 9,
     "metadata": {},
     "output_type": "execute_result"
    }
   ],
   "source": [
    "# Notice the difference:\n",
    "a = {'foo'}\n",
    "b = set('foo')\n",
    "a"
   ]
  },
  {
   "cell_type": "code",
   "execution_count": 10,
   "id": "87e981d4-0f2d-491e-96ac-f15d718a3792",
   "metadata": {},
   "outputs": [
    {
     "data": {
      "text/plain": [
       "{'f', 'o'}"
      ]
     },
     "execution_count": 10,
     "metadata": {},
     "output_type": "execute_result"
    }
   ],
   "source": [
    "b"
   ]
  },
  {
   "cell_type": "code",
   "execution_count": 11,
   "id": "2ffc4ad1-dfd9-4717-a279-da12c1694c0c",
   "metadata": {},
   "outputs": [
    {
     "data": {
      "text/plain": [
       "set"
      ]
     },
     "execution_count": 11,
     "metadata": {},
     "output_type": "execute_result"
    }
   ],
   "source": [
    "x = set()\n",
    "type(x)"
   ]
  },
  {
   "cell_type": "code",
   "execution_count": 12,
   "id": "389bd0da-a2ad-468d-91c7-66a943803a7b",
   "metadata": {},
   "outputs": [
    {
     "data": {
      "text/plain": [
       "set()"
      ]
     },
     "execution_count": 12,
     "metadata": {},
     "output_type": "execute_result"
    }
   ],
   "source": [
    "x"
   ]
  },
  {
   "cell_type": "code",
   "execution_count": 13,
   "id": "0838d7cf-d847-4707-b430-b3ca6ac77326",
   "metadata": {},
   "outputs": [
    {
     "data": {
      "text/plain": [
       "dict"
      ]
     },
     "execution_count": 13,
     "metadata": {},
     "output_type": "execute_result"
    }
   ],
   "source": [
    "x = {}\n",
    "type(x)"
   ]
  },
  {
   "cell_type": "code",
   "execution_count": 14,
   "id": "216ec08c-d4ae-469a-b450-4b7bc578091e",
   "metadata": {},
   "outputs": [
    {
     "data": {
      "text/plain": [
       "{}"
      ]
     },
     "execution_count": 14,
     "metadata": {},
     "output_type": "execute_result"
    }
   ],
   "source": [
    "x"
   ]
  },
  {
   "cell_type": "code",
   "execution_count": 15,
   "id": "b294b064-4b02-4060-9980-5d3329aa920d",
   "metadata": {},
   "outputs": [
    {
     "data": {
      "text/plain": [
       "{3.14159, 42, None, 'foo'}"
      ]
     },
     "execution_count": 15,
     "metadata": {},
     "output_type": "execute_result"
    }
   ],
   "source": [
    "x = {42, 'foo', 3.14159, None}\n",
    "x"
   ]
  },
  {
   "cell_type": "code",
   "execution_count": 16,
   "id": "0b351e63-976e-4bd8-b65e-d4bb6e33ba11",
   "metadata": {},
   "outputs": [
    {
     "data": {
      "text/plain": [
       "{(1, 2, 3), 3.14159, 42, 'foo'}"
      ]
     },
     "execution_count": 16,
     "metadata": {},
     "output_type": "execute_result"
    }
   ],
   "source": [
    "x = {42,'foo',(1,2,3),3.14159}\n",
    "x"
   ]
  },
  {
   "cell_type": "code",
   "execution_count": 18,
   "id": "7b1f8b3e-9edb-4681-9889-2a7c3fec9c6f",
   "metadata": {},
   "outputs": [
    {
     "ename": "TypeError",
     "evalue": "unhashable type: 'list'",
     "output_type": "error",
     "traceback": [
      "\u001b[0;31m---------------------------------------------------------------------------\u001b[0m",
      "\u001b[0;31mTypeError\u001b[0m                                 Traceback (most recent call last)",
      "\u001b[0;32m/var/folders/yl/ftfrcz0s4nd_pncmmknzn7440000gn/T/ipykernel_88213/2636901252.py\u001b[0m in \u001b[0;36m<module>\u001b[0;34m\u001b[0m\n\u001b[1;32m      1\u001b[0m \u001b[0;31m# Lists and dictionaries are mutable, so they can't be set elements:\u001b[0m\u001b[0;34m\u001b[0m\u001b[0;34m\u001b[0m\u001b[0;34m\u001b[0m\u001b[0m\n\u001b[1;32m      2\u001b[0m \u001b[0ma\u001b[0m \u001b[0;34m=\u001b[0m \u001b[0;34m[\u001b[0m\u001b[0;36m1\u001b[0m\u001b[0;34m,\u001b[0m\u001b[0;36m2\u001b[0m\u001b[0;34m,\u001b[0m\u001b[0;36m3\u001b[0m\u001b[0;34m]\u001b[0m\u001b[0;34m\u001b[0m\u001b[0;34m\u001b[0m\u001b[0m\n\u001b[0;32m----> 3\u001b[0;31m \u001b[0;34m{\u001b[0m\u001b[0ma\u001b[0m\u001b[0;34m}\u001b[0m\u001b[0;34m\u001b[0m\u001b[0;34m\u001b[0m\u001b[0m\n\u001b[0m",
      "\u001b[0;31mTypeError\u001b[0m: unhashable type: 'list'"
     ]
    }
   ],
   "source": [
    "# Lists and dictionaries are mutable, so they can't be set elements:\n",
    "a = [1,2,3]\n",
    "{a}"
   ]
  },
  {
   "cell_type": "markdown",
   "id": "8873f1d9-ae6d-408e-ac9d-c1a8434be682",
   "metadata": {},
   "source": [
    "***"
   ]
  },
  {
   "cell_type": "markdown",
   "id": "76573255-57f1-4ad3-8742-1a846e71f0f8",
   "metadata": {
    "jp-MarkdownHeadingCollapsed": true,
    "tags": []
   },
   "source": [
    "## Size and Membership\n",
    "the *in* and *not in* operators can be used to test for membership"
   ]
  },
  {
   "cell_type": "code",
   "execution_count": 19,
   "id": "5f20a57c-b630-4fcb-b089-d9c59173fa1c",
   "metadata": {},
   "outputs": [
    {
     "data": {
      "text/plain": [
       "3"
      ]
     },
     "execution_count": 19,
     "metadata": {},
     "output_type": "execute_result"
    }
   ],
   "source": [
    "x = {'foo', 'bar', 'baz'}\n",
    "\n",
    "len(x)"
   ]
  },
  {
   "cell_type": "code",
   "execution_count": 20,
   "id": "cf95324a-0a22-4a4c-a8dc-94d54cd87cf8",
   "metadata": {},
   "outputs": [
    {
     "data": {
      "text/plain": [
       "True"
      ]
     },
     "execution_count": 20,
     "metadata": {},
     "output_type": "execute_result"
    }
   ],
   "source": [
    "'bar' in x"
   ]
  },
  {
   "cell_type": "code",
   "execution_count": 21,
   "id": "1b39c5e0-e100-4e7d-a96b-651b6df88e4d",
   "metadata": {},
   "outputs": [
    {
     "data": {
      "text/plain": [
       "False"
      ]
     },
     "execution_count": 21,
     "metadata": {},
     "output_type": "execute_result"
    }
   ],
   "source": [
    "'qux' in x"
   ]
  },
  {
   "cell_type": "markdown",
   "id": "1a4fd8d2-ade7-4bac-aba0-3fab8c4ebb01",
   "metadata": {},
   "source": [
    "***"
   ]
  },
  {
   "cell_type": "markdown",
   "id": "1dbf66b3-36bc-4984-be6c-d71af5e70fb8",
   "metadata": {
    "jp-MarkdownHeadingCollapsed": true,
    "tags": []
   },
   "source": [
    "## Operators & Methods"
   ]
  },
  {
   "cell_type": "code",
   "execution_count": 48,
   "id": "5911bd98-a057-4892-8ae1-bf155633ac45",
   "metadata": {},
   "outputs": [],
   "source": [
    "# Variables for examples\n",
    "x1 = {'foo', 'bar', 'baz'}\n",
    "x2 = {'baz', 'qux', 'quux'}"
   ]
  },
  {
   "cell_type": "markdown",
   "id": "83845e68-5586-43e1-aeb4-77617502165c",
   "metadata": {
    "jp-MarkdownHeadingCollapsed": true,
    "tags": []
   },
   "source": [
    "### Union"
   ]
  },
  {
   "cell_type": "code",
   "execution_count": 22,
   "id": "b7ee33d0-aa80-4bf0-9fd4-d354a98fc0f7",
   "metadata": {},
   "outputs": [
    {
     "data": {
      "text/plain": [
       "{'bar', 'baz', 'foo', 'quux', 'qux'}"
      ]
     },
     "execution_count": 22,
     "metadata": {},
     "output_type": "execute_result"
    }
   ],
   "source": [
    "# set union\n",
    "x1 = {'foo','bar','baz'}\n",
    "x2 = {'baz','qux','quux'}\n",
    "x1 | x2\n",
    "# remember that sets never contain duplicate values"
   ]
  },
  {
   "cell_type": "code",
   "execution_count": 23,
   "id": "58e7eee6-65ff-4a7c-9579-54dcce4c88c4",
   "metadata": {},
   "outputs": [
    {
     "data": {
      "text/plain": [
       "{'bar', 'baz', 'foo', 'quux', 'qux'}"
      ]
     },
     "execution_count": 23,
     "metadata": {},
     "output_type": "execute_result"
    }
   ],
   "source": [
    "# set union can be obtained with the .union() method\n",
    "x1.union(x2)"
   ]
  },
  {
   "cell_type": "code",
   "execution_count": 27,
   "id": "297e01ef-ddcd-4600-9959-a5d43913baca",
   "metadata": {},
   "outputs": [
    {
     "ename": "TypeError",
     "evalue": "unsupported operand type(s) for |: 'set' and 'tuple'",
     "output_type": "error",
     "traceback": [
      "\u001b[0;31m---------------------------------------------------------------------------\u001b[0m",
      "\u001b[0;31mTypeError\u001b[0m                                 Traceback (most recent call last)",
      "\u001b[0;32m/var/folders/yl/ftfrcz0s4nd_pncmmknzn7440000gn/T/ipykernel_88213/787737262.py\u001b[0m in \u001b[0;36m<module>\u001b[0;34m\u001b[0m\n\u001b[1;32m      1\u001b[0m \u001b[0;31m# 1/2 notice the difference of applications\u001b[0m\u001b[0;34m\u001b[0m\u001b[0;34m\u001b[0m\u001b[0;34m\u001b[0m\u001b[0m\n\u001b[0;32m----> 2\u001b[0;31m \u001b[0mx1\u001b[0m \u001b[0;34m|\u001b[0m \u001b[0;34m(\u001b[0m\u001b[0;34m'baz'\u001b[0m\u001b[0;34m,\u001b[0m\u001b[0;34m'qux'\u001b[0m\u001b[0;34m,\u001b[0m\u001b[0;34m'quux'\u001b[0m\u001b[0;34m)\u001b[0m\u001b[0;34m\u001b[0m\u001b[0;34m\u001b[0m\u001b[0m\n\u001b[0m",
      "\u001b[0;31mTypeError\u001b[0m: unsupported operand type(s) for |: 'set' and 'tuple'"
     ]
    }
   ],
   "source": [
    "# 1/2 notice the difference of applications\n",
    "x1 | ('baz','qux','quux')"
   ]
  },
  {
   "cell_type": "code",
   "execution_count": 28,
   "id": "b6821572-3011-4996-9b99-9f74ae91db11",
   "metadata": {},
   "outputs": [
    {
     "data": {
      "text/plain": [
       "{'bar', 'baz', 'foo', 'quux', 'qux'}"
      ]
     },
     "execution_count": 28,
     "metadata": {},
     "output_type": "execute_result"
    }
   ],
   "source": [
    "# 2/2\n",
    "x1.union(('baz','qux','quux'))"
   ]
  },
  {
   "cell_type": "code",
   "execution_count": 29,
   "id": "c49734da-4442-4cdc-a290-e49476d87ce5",
   "metadata": {},
   "outputs": [
    {
     "data": {
      "text/plain": [
       "{1, 2, 3, 4, 5, 6, 7}"
      ]
     },
     "execution_count": 29,
     "metadata": {},
     "output_type": "execute_result"
    }
   ],
   "source": [
    "# More than two sets may be specified \n",
    "# with either the operator or the method\n",
    "a = {1,2,3,4}\n",
    "b = {2,3,4,5}\n",
    "c = {3,4,5,6}\n",
    "d = {4,5,6,7}\n",
    "\n",
    "a.union(b,c,d)"
   ]
  },
  {
   "cell_type": "code",
   "execution_count": 30,
   "id": "2f8737d3-715f-4631-a908-0b34cb99a46e",
   "metadata": {},
   "outputs": [
    {
     "data": {
      "text/plain": [
       "{1, 2, 3, 4, 5, 6, 7}"
      ]
     },
     "execution_count": 30,
     "metadata": {},
     "output_type": "execute_result"
    }
   ],
   "source": [
    "a | b | c | d"
   ]
  },
  {
   "cell_type": "markdown",
   "id": "febcb26f-de9e-4abc-9534-6507689e3735",
   "metadata": {},
   "source": [
    "***"
   ]
  },
  {
   "cell_type": "markdown",
   "id": "e78f7702-735d-4711-8eaf-175292d38973",
   "metadata": {
    "jp-MarkdownHeadingCollapsed": true,
    "tags": []
   },
   "source": [
    "### Intersections"
   ]
  },
  {
   "cell_type": "code",
   "execution_count": 33,
   "id": "56b48b6e-3686-4867-ac51-10fe7cb4e8b3",
   "metadata": {},
   "outputs": [
    {
     "data": {
      "text/plain": [
       "{'baz'}"
      ]
     },
     "execution_count": 33,
     "metadata": {},
     "output_type": "execute_result"
    }
   ],
   "source": [
    "# 1/2 Intersections!\n",
    "x1 = {'foo','bar','baz'}\n",
    "x2 = {'baz','qux','quux'}\n",
    "\n",
    "x1.intersection(x2)"
   ]
  },
  {
   "cell_type": "code",
   "execution_count": 34,
   "id": "629027bb-39d2-4114-a9e1-e3c4dbfd3da2",
   "metadata": {},
   "outputs": [
    {
     "data": {
      "text/plain": [
       "{'baz'}"
      ]
     },
     "execution_count": 34,
     "metadata": {},
     "output_type": "execute_result"
    }
   ],
   "source": [
    "# 2/2\n",
    "x1 & x2"
   ]
  },
  {
   "cell_type": "code",
   "execution_count": 35,
   "id": "e77cd595-7306-4b80-bab4-0e83fc928cff",
   "metadata": {},
   "outputs": [
    {
     "data": {
      "text/plain": [
       "{4}"
      ]
     },
     "execution_count": 35,
     "metadata": {},
     "output_type": "execute_result"
    }
   ],
   "source": [
    "a.intersection(b, c, d)"
   ]
  },
  {
   "cell_type": "code",
   "execution_count": 36,
   "id": "01effe9c-c0b7-4542-9b6b-1540b0458b3a",
   "metadata": {},
   "outputs": [
    {
     "data": {
      "text/plain": [
       "{4}"
      ]
     },
     "execution_count": 36,
     "metadata": {},
     "output_type": "execute_result"
    }
   ],
   "source": [
    "a & b & c & d"
   ]
  },
  {
   "cell_type": "markdown",
   "id": "5acdf96f-52b4-47c5-b2c4-0f7960bd04b5",
   "metadata": {},
   "source": [
    "***"
   ]
  },
  {
   "cell_type": "markdown",
   "id": "4cb4e24a-52ff-4aa0-8cab-f3c02d2ffa6b",
   "metadata": {
    "jp-MarkdownHeadingCollapsed": true,
    "tags": []
   },
   "source": [
    "### Difference"
   ]
  },
  {
   "cell_type": "code",
   "execution_count": 37,
   "id": "3ae1afea-51a6-4422-8de8-b652aeb07d01",
   "metadata": {},
   "outputs": [
    {
     "data": {
      "text/plain": [
       "{'bar', 'foo'}"
      ]
     },
     "execution_count": 37,
     "metadata": {},
     "output_type": "execute_result"
    }
   ],
   "source": [
    "# Difference!\n",
    "x1.difference(x2)"
   ]
  },
  {
   "cell_type": "code",
   "execution_count": 39,
   "id": "d7dc18d3-a269-4cff-a167-af5be222d510",
   "metadata": {},
   "outputs": [
    {
     "data": {
      "text/plain": [
       "{'bar', 'foo'}"
      ]
     },
     "execution_count": 39,
     "metadata": {},
     "output_type": "execute_result"
    }
   ],
   "source": [
    "x1 - x2"
   ]
  },
  {
   "cell_type": "code",
   "execution_count": 41,
   "id": "5e3c7c46-da58-405f-8daa-355fedc355ad",
   "metadata": {},
   "outputs": [
    {
     "data": {
      "text/plain": [
       "{1}"
      ]
     },
     "execution_count": 41,
     "metadata": {},
     "output_type": "execute_result"
    }
   ],
   "source": [
    "a.difference(b,c,d)"
   ]
  },
  {
   "cell_type": "code",
   "execution_count": 42,
   "id": "50580267-aefb-4474-be07-663f5b5f450f",
   "metadata": {},
   "outputs": [
    {
     "data": {
      "text/plain": [
       "{1}"
      ]
     },
     "execution_count": 42,
     "metadata": {},
     "output_type": "execute_result"
    }
   ],
   "source": [
    "a - b - c - d"
   ]
  },
  {
   "cell_type": "markdown",
   "id": "690f52a3-2734-4f20-a1b3-21dc3ec513fb",
   "metadata": {},
   "source": [
    "***"
   ]
  },
  {
   "cell_type": "markdown",
   "id": "9fd7d6f9-f8af-453d-8d76-ceab362e3199",
   "metadata": {
    "jp-MarkdownHeadingCollapsed": true,
    "tags": []
   },
   "source": [
    "### Symmetric Difference"
   ]
  },
  {
   "cell_type": "code",
   "execution_count": 43,
   "id": "4b977452-4e2d-40b0-963a-ee587a91b1f0",
   "metadata": {},
   "outputs": [
    {
     "data": {
      "text/plain": [
       "{'bar', 'foo', 'quux', 'qux'}"
      ]
     },
     "execution_count": 43,
     "metadata": {},
     "output_type": "execute_result"
    }
   ],
   "source": [
    "# symmetric difference\n",
    "x1 = {'foo', 'bar', 'baz'}\n",
    "x2 = {'baz', 'qux', 'quux'}\n",
    "\n",
    "x1.symmetric_difference(x2)"
   ]
  },
  {
   "cell_type": "code",
   "execution_count": 44,
   "id": "2c1f2cc9-8285-433e-86c1-ef04882d3ab4",
   "metadata": {},
   "outputs": [
    {
     "data": {
      "text/plain": [
       "{'bar', 'foo', 'quux', 'qux'}"
      ]
     },
     "execution_count": 44,
     "metadata": {},
     "output_type": "execute_result"
    }
   ],
   "source": [
    "x1 ^ x2"
   ]
  },
  {
   "cell_type": "code",
   "execution_count": 46,
   "id": "a74e98a6-2c2b-4d80-bc76-fb36c2a1fe0a",
   "metadata": {},
   "outputs": [
    {
     "data": {
      "text/plain": [
       "{5, 10, 100}"
      ]
     },
     "execution_count": 46,
     "metadata": {},
     "output_type": "execute_result"
    }
   ],
   "source": [
    "a = {1,2,3,4,5}\n",
    "b = {10,2,3,4,50}\n",
    "c = {1,50,100}\n",
    "\n",
    "a ^ b ^ c"
   ]
  },
  {
   "cell_type": "code",
   "execution_count": 47,
   "id": "44e33dd4-fcde-43cb-ba52-4f044fdfeace",
   "metadata": {},
   "outputs": [
    {
     "ename": "TypeError",
     "evalue": "symmetric_difference() takes exactly one argument (2 given)",
     "output_type": "error",
     "traceback": [
      "\u001b[0;31m---------------------------------------------------------------------------\u001b[0m",
      "\u001b[0;31mTypeError\u001b[0m                                 Traceback (most recent call last)",
      "\u001b[0;32m/var/folders/yl/ftfrcz0s4nd_pncmmknzn7440000gn/T/ipykernel_88213/2363397126.py\u001b[0m in \u001b[0;36m<module>\u001b[0;34m\u001b[0m\n\u001b[1;32m      1\u001b[0m \u001b[0;31m# BUTTTTTT\u001b[0m\u001b[0;34m\u001b[0m\u001b[0;34m\u001b[0m\u001b[0;34m\u001b[0m\u001b[0m\n\u001b[0;32m----> 2\u001b[0;31m \u001b[0ma\u001b[0m\u001b[0;34m.\u001b[0m\u001b[0msymmetric_difference\u001b[0m\u001b[0;34m(\u001b[0m\u001b[0mb\u001b[0m\u001b[0;34m,\u001b[0m\u001b[0mc\u001b[0m\u001b[0;34m)\u001b[0m\u001b[0;34m\u001b[0m\u001b[0;34m\u001b[0m\u001b[0m\n\u001b[0m",
      "\u001b[0;31mTypeError\u001b[0m: symmetric_difference() takes exactly one argument (2 given)"
     ]
    }
   ],
   "source": [
    "# BUTTTTTT\n",
    "a.symmetric_difference(b,c)"
   ]
  },
  {
   "cell_type": "markdown",
   "id": "ff59e062-081d-4448-9095-98707a14dcaf",
   "metadata": {},
   "source": [
    "***"
   ]
  },
  {
   "cell_type": "markdown",
   "id": "3ab1aa4f-188b-41a1-b566-f9bdb546e865",
   "metadata": {
    "jp-MarkdownHeadingCollapsed": true,
    "tags": []
   },
   "source": [
    "### x1.isdisjoint(x2)\n",
    "Determines whether or not two sets have any elements in common"
   ]
  },
  {
   "cell_type": "code",
   "execution_count": 49,
   "id": "ef9c42be-9165-4dd0-acf5-405290459695",
   "metadata": {},
   "outputs": [
    {
     "data": {
      "text/plain": [
       "False"
      ]
     },
     "execution_count": 49,
     "metadata": {},
     "output_type": "execute_result"
    }
   ],
   "source": [
    "x1.isdisjoint(x2)"
   ]
  },
  {
   "cell_type": "code",
   "execution_count": 50,
   "id": "f7c69aa2-865a-4829-92db-21b51d4e78c3",
   "metadata": {},
   "outputs": [
    {
     "data": {
      "text/plain": [
       "{'quux', 'qux'}"
      ]
     },
     "execution_count": 50,
     "metadata": {},
     "output_type": "execute_result"
    }
   ],
   "source": [
    "x2 - {'baz'}"
   ]
  },
  {
   "cell_type": "code",
   "execution_count": 51,
   "id": "c9b75ffd-0556-48f7-b3ac-93cbcdcf767b",
   "metadata": {},
   "outputs": [
    {
     "data": {
      "text/plain": [
       "True"
      ]
     },
     "execution_count": 51,
     "metadata": {},
     "output_type": "execute_result"
    }
   ],
   "source": [
    "x1.isdisjoint(x2 - {'baz'})"
   ]
  },
  {
   "cell_type": "code",
   "execution_count": 52,
   "id": "d11dc8f2-3375-41be-9698-fc206984c3cc",
   "metadata": {},
   "outputs": [
    {
     "data": {
      "text/plain": [
       "True"
      ]
     },
     "execution_count": 52,
     "metadata": {},
     "output_type": "execute_result"
    }
   ],
   "source": [
    "# If x1.isdisjoint(x2) is True, then x1 & x2 is the empty set:\n",
    "x1 = {1, 3, 5}\n",
    "x2 = {2, 4, 6}\n",
    "\n",
    "x1.isdisjoint(x2)"
   ]
  },
  {
   "cell_type": "code",
   "execution_count": 53,
   "id": "6b06af08-1e5c-4800-a4ac-e797f620e05c",
   "metadata": {},
   "outputs": [
    {
     "data": {
      "text/plain": [
       "set()"
      ]
     },
     "execution_count": 53,
     "metadata": {},
     "output_type": "execute_result"
    }
   ],
   "source": [
    "x1 & x2"
   ]
  },
  {
   "cell_type": "markdown",
   "id": "d3012674-1289-488c-a634-2b5878ccec13",
   "metadata": {},
   "source": [
    "***"
   ]
  },
  {
   "cell_type": "markdown",
   "id": "d2270880-a605-4014-80a8-f8f01f75db97",
   "metadata": {
    "jp-MarkdownHeadingCollapsed": true,
    "tags": []
   },
   "source": [
    "### x1.issubset(x2)\n",
    "x1 <= x2  \n",
    "Determine whether one set is a subset of the other"
   ]
  },
  {
   "cell_type": "code",
   "execution_count": 54,
   "id": "ac5cf6d5-bc74-47bb-81c2-1a66328e2aa6",
   "metadata": {},
   "outputs": [
    {
     "data": {
      "text/plain": [
       "True"
      ]
     },
     "execution_count": 54,
     "metadata": {},
     "output_type": "execute_result"
    }
   ],
   "source": [
    "x1 = {'foo', 'bar', 'baz'}\n",
    "x1.issubset({'foo', 'bar', 'baz', 'qux', 'quux'})"
   ]
  },
  {
   "cell_type": "code",
   "execution_count": 55,
   "id": "773f845f-8f91-4690-81d5-68e1a6fa5f30",
   "metadata": {},
   "outputs": [
    {
     "data": {
      "text/plain": [
       "False"
      ]
     },
     "execution_count": 55,
     "metadata": {},
     "output_type": "execute_result"
    }
   ],
   "source": [
    "x2 = {'baz', 'qux', 'quux'}\n",
    "x1 <= x2"
   ]
  },
  {
   "cell_type": "code",
   "execution_count": 56,
   "id": "abb579fb-83ec-40bb-aec1-a5730a2addd5",
   "metadata": {},
   "outputs": [
    {
     "data": {
      "text/plain": [
       "True"
      ]
     },
     "execution_count": 56,
     "metadata": {},
     "output_type": "execute_result"
    }
   ],
   "source": [
    "x = {1,2,3,4}\n",
    "x.issubset(x)"
   ]
  },
  {
   "cell_type": "code",
   "execution_count": 57,
   "id": "5d1ca7a1-edb6-45a7-9170-f6e395a6c34e",
   "metadata": {},
   "outputs": [
    {
     "data": {
      "text/plain": [
       "True"
      ]
     },
     "execution_count": 57,
     "metadata": {},
     "output_type": "execute_result"
    }
   ],
   "source": [
    "x <= x"
   ]
  },
  {
   "cell_type": "markdown",
   "id": "95b3bee1-3e2b-4cf7-b7fe-8f9cfe8d8784",
   "metadata": {},
   "source": [
    "***"
   ]
  },
  {
   "cell_type": "markdown",
   "id": "96aeadcc-4bd9-4947-9f46-362baa1ae62d",
   "metadata": {
    "jp-MarkdownHeadingCollapsed": true,
    "tags": []
   },
   "source": [
    "### x1 < x2 (proper subset)\n",
    "Determines whether one set is a proper subset of the other  \n",
    "(except sets cannot be identical)"
   ]
  },
  {
   "cell_type": "code",
   "execution_count": 59,
   "id": "3e025864-7446-44f4-9a3e-728ee57474f0",
   "metadata": {},
   "outputs": [
    {
     "data": {
      "text/plain": [
       "True"
      ]
     },
     "execution_count": 59,
     "metadata": {},
     "output_type": "execute_result"
    }
   ],
   "source": [
    "x1 = {'foo', 'bar'}\n",
    "x2 = {'foo', 'bar', 'baz'}\n",
    "x1 < x2"
   ]
  },
  {
   "cell_type": "code",
   "execution_count": 60,
   "id": "ff09bc08-6408-40fc-9690-53846b4c9847",
   "metadata": {},
   "outputs": [
    {
     "data": {
      "text/plain": [
       "False"
      ]
     },
     "execution_count": 60,
     "metadata": {},
     "output_type": "execute_result"
    }
   ],
   "source": [
    "x1 = {'foo', 'bar', 'baz'}\n",
    "x2 = {'foo', 'bar', 'baz'}\n",
    "\n",
    "x1 < x2"
   ]
  },
  {
   "cell_type": "code",
   "execution_count": 62,
   "id": "699bed58-cab5-4fae-84e1-2b200cc200b8",
   "metadata": {},
   "outputs": [
    {
     "data": {
      "text/plain": [
       "True"
      ]
     },
     "execution_count": 62,
     "metadata": {},
     "output_type": "execute_result"
    }
   ],
   "source": [
    "# notice the difference:\n",
    "x = {1, 2, 3, 4, 5}\n",
    "x <= x"
   ]
  },
  {
   "cell_type": "code",
   "execution_count": 63,
   "id": "dd985fd3-b86e-495b-91ca-257a4722c76c",
   "metadata": {},
   "outputs": [
    {
     "data": {
      "text/plain": [
       "False"
      ]
     },
     "execution_count": 63,
     "metadata": {},
     "output_type": "execute_result"
    }
   ],
   "source": [
    "x < x"
   ]
  },
  {
   "cell_type": "markdown",
   "id": "df37fc02-50fa-42d3-b6dd-71101f12b09d",
   "metadata": {},
   "source": [
    "***"
   ]
  },
  {
   "cell_type": "markdown",
   "id": "38ca08c1-9724-4ba3-9c78-98c8b6a103ff",
   "metadata": {
    "jp-MarkdownHeadingCollapsed": true,
    "tags": []
   },
   "source": [
    "### x1.issuperset(x2)\n",
    "x1 >= x2  \n",
    "Determine whether one set is a superset of the other"
   ]
  },
  {
   "cell_type": "code",
   "execution_count": 64,
   "id": "efccac42-e675-4daa-9257-609f6b2b4f1d",
   "metadata": {},
   "outputs": [
    {
     "data": {
      "text/plain": [
       "True"
      ]
     },
     "execution_count": 64,
     "metadata": {},
     "output_type": "execute_result"
    }
   ],
   "source": [
    "x1 = {'foo', 'bar', 'baz'}\n",
    "\n",
    "x1.issuperset({'foo', 'bar'})"
   ]
  },
  {
   "cell_type": "code",
   "execution_count": 65,
   "id": "d6470419-5cf3-4e27-8eda-93c64c86c9a6",
   "metadata": {},
   "outputs": [
    {
     "data": {
      "text/plain": [
       "False"
      ]
     },
     "execution_count": 65,
     "metadata": {},
     "output_type": "execute_result"
    }
   ],
   "source": [
    "x2 = {'baz', 'qux', 'quux'}\n",
    "x1 >= x2"
   ]
  },
  {
   "cell_type": "code",
   "execution_count": 66,
   "id": "caa7045e-e33e-4faf-b8bc-4e3dac4624de",
   "metadata": {},
   "outputs": [
    {
     "data": {
      "text/plain": [
       "True"
      ]
     },
     "execution_count": 66,
     "metadata": {},
     "output_type": "execute_result"
    }
   ],
   "source": [
    "x = {1,2,3,4,5}\n",
    "x.issuperset(x)"
   ]
  },
  {
   "cell_type": "code",
   "execution_count": 67,
   "id": "c0b96c6b-b595-4b9a-baf8-d95d1daf1fb0",
   "metadata": {},
   "outputs": [
    {
     "data": {
      "text/plain": [
       "True"
      ]
     },
     "execution_count": 67,
     "metadata": {},
     "output_type": "execute_result"
    }
   ],
   "source": [
    "x >= x"
   ]
  },
  {
   "cell_type": "markdown",
   "id": "4fcebff0-afb3-4656-ad82-0c2943cea53f",
   "metadata": {},
   "source": [
    "***"
   ]
  },
  {
   "cell_type": "markdown",
   "id": "c6071968-1590-4c69-a177-11fce1d582d0",
   "metadata": {
    "jp-MarkdownHeadingCollapsed": true,
    "tags": []
   },
   "source": [
    "### x1 > x2 (proper superset)\n",
    "Determines whether one set is a proper superset of the other"
   ]
  },
  {
   "cell_type": "code",
   "execution_count": 69,
   "id": "7f75f849-1f0f-4a94-8450-87c8a0f7cd0d",
   "metadata": {},
   "outputs": [
    {
     "data": {
      "text/plain": [
       "True"
      ]
     },
     "execution_count": 69,
     "metadata": {},
     "output_type": "execute_result"
    }
   ],
   "source": [
    "x1 = {'foo', 'bar', 'baz'}\n",
    "x2 = {'foo', 'bar'}\n",
    "x1 > x2"
   ]
  },
  {
   "cell_type": "code",
   "execution_count": 70,
   "id": "fa72726a-b56c-4dd1-baf2-71a4fdc1345a",
   "metadata": {},
   "outputs": [
    {
     "data": {
      "text/plain": [
       "False"
      ]
     },
     "execution_count": 70,
     "metadata": {},
     "output_type": "execute_result"
    }
   ],
   "source": [
    "x1 = {'foo', 'bar', 'baz'}\n",
    "x2 = {'foo', 'bar', 'baz'}\n",
    "x1 > x2"
   ]
  },
  {
   "cell_type": "code",
   "execution_count": 71,
   "id": "02b3d31a-3a96-4192-9fc6-3383451f144e",
   "metadata": {},
   "outputs": [
    {
     "data": {
      "text/plain": [
       "False"
      ]
     },
     "execution_count": 71,
     "metadata": {},
     "output_type": "execute_result"
    }
   ],
   "source": [
    "x = {1,2,3,4,5}\n",
    "x > x"
   ]
  },
  {
   "cell_type": "markdown",
   "id": "136c1212-0410-4b48-af0b-4e3d0f8aabf6",
   "metadata": {},
   "source": [
    "***"
   ]
  },
  {
   "cell_type": "markdown",
   "id": "b1229daf-55d4-453a-b47c-73366cef3956",
   "metadata": {
    "jp-MarkdownHeadingCollapsed": true,
    "tags": []
   },
   "source": [
    "## Modifying a Set"
   ]
  },
  {
   "cell_type": "markdown",
   "id": "a71d4ee8-b2fc-43f7-87f7-f5ac6e2a0e67",
   "metadata": {},
   "source": [
    "Augmented Assignment Operators and Methods"
   ]
  },
  {
   "cell_type": "markdown",
   "id": "3e8433cf-aede-4f1d-9cce-77afb490ecf1",
   "metadata": {
    "jp-MarkdownHeadingCollapsed": true,
    "tags": []
   },
   "source": [
    "### x1.update(x2[, x3 ...])\n",
    "or  \n",
    "x1 |= x2 [| x3 ...]  \n",
    "Modify a set by union"
   ]
  },
  {
   "cell_type": "code",
   "execution_count": 74,
   "id": "09f3d3bb-a0c3-408a-bac6-cfece7c0043f",
   "metadata": {},
   "outputs": [
    {
     "data": {
      "text/plain": [
       "{'bar', 'baz', 'foo', 'qux'}"
      ]
     },
     "execution_count": 74,
     "metadata": {},
     "output_type": "execute_result"
    }
   ],
   "source": [
    "# x1.update(x2) and x1|= x2\n",
    "# add to x1 any elements in x2 that x1 does not already have:\n",
    "\n",
    "x1 = {'foo', 'bar', 'baz'}\n",
    "x2 = {'foo', 'baz', 'qux'}\n",
    "\n",
    "x1 |= x2\n",
    "x1"
   ]
  },
  {
   "cell_type": "code",
   "execution_count": 75,
   "id": "712c22c3-6f19-4e93-b4cd-675652e92396",
   "metadata": {},
   "outputs": [
    {
     "data": {
      "text/plain": [
       "{'bar', 'baz', 'corge', 'foo', 'garply', 'qux'}"
      ]
     },
     "execution_count": 75,
     "metadata": {},
     "output_type": "execute_result"
    }
   ],
   "source": [
    "x1.update(['corge', 'garply'])\n",
    "x1"
   ]
  },
  {
   "cell_type": "markdown",
   "id": "4e0f03f3-960e-4a36-bd51-9586bf63c431",
   "metadata": {},
   "source": [
    "***"
   ]
  },
  {
   "cell_type": "markdown",
   "id": "fe678354-e65a-4574-899d-b865ca617d8a",
   "metadata": {
    "jp-MarkdownHeadingCollapsed": true,
    "tags": []
   },
   "source": [
    "### x1.intersection_update(x2[, x3 ...])\n",
    "or  \n",
    "x1 &= x2 [ & x3 ...]  \n",
    "Modify a set by intersection"
   ]
  },
  {
   "cell_type": "code",
   "execution_count": 76,
   "id": "155e2d82-6e9b-4905-b5f0-b12c92344044",
   "metadata": {},
   "outputs": [
    {
     "data": {
      "text/plain": [
       "{'baz', 'foo'}"
      ]
     },
     "execution_count": 76,
     "metadata": {},
     "output_type": "execute_result"
    }
   ],
   "source": [
    "x1 = {'foo', 'bar', 'baz'}\n",
    "x2 = {'foo', 'baz', 'qux'}\n",
    "\n",
    "x1 &= x2\n",
    "x1"
   ]
  },
  {
   "cell_type": "code",
   "execution_count": 77,
   "id": "468bc175-12ea-4e59-bdab-bb2ba4179d8d",
   "metadata": {},
   "outputs": [
    {
     "data": {
      "text/plain": [
       "{'baz'}"
      ]
     },
     "execution_count": 77,
     "metadata": {},
     "output_type": "execute_result"
    }
   ],
   "source": [
    "x1.intersection_update(['baz', 'qux'])\n",
    "x1"
   ]
  },
  {
   "cell_type": "markdown",
   "id": "433be8cd-4e48-4a36-968b-d38473d08466",
   "metadata": {},
   "source": [
    "***"
   ]
  },
  {
   "cell_type": "markdown",
   "id": "078a4ead-ef9b-4dde-80cd-ad44eb1641b9",
   "metadata": {
    "jp-MarkdownHeadingCollapsed": true,
    "tags": []
   },
   "source": [
    "### x1.difference_update(x2[, x3 ...])  \n",
    "or  \n",
    "x1 -= x2 [| x3 ...]  \n",
    "Modify a set by difference"
   ]
  },
  {
   "cell_type": "code",
   "execution_count": 78,
   "id": "1df4297f-67e8-45e1-b26f-66c09ac81c8e",
   "metadata": {},
   "outputs": [
    {
     "data": {
      "text/plain": [
       "{'bar'}"
      ]
     },
     "execution_count": 78,
     "metadata": {},
     "output_type": "execute_result"
    }
   ],
   "source": [
    "x1 = {'foo', 'bar', 'baz'}\n",
    "x2 = {'foo', 'baz', 'qux'}\n",
    "\n",
    "x1 -= x2\n",
    "x1"
   ]
  },
  {
   "cell_type": "code",
   "execution_count": 79,
   "id": "fc496a02-1d7c-4ea8-a128-281c1d5075d9",
   "metadata": {},
   "outputs": [
    {
     "data": {
      "text/plain": [
       "set()"
      ]
     },
     "execution_count": 79,
     "metadata": {},
     "output_type": "execute_result"
    }
   ],
   "source": [
    "x1.difference_update(['foo', 'bar', 'qux'])\n",
    "x1"
   ]
  },
  {
   "cell_type": "markdown",
   "id": "2559c634-a6de-49c8-8d1a-042d70ecbe4b",
   "metadata": {},
   "source": [
    "***"
   ]
  },
  {
   "cell_type": "markdown",
   "id": "0b2c944d-85b2-4617-9da6-97a4e74a222e",
   "metadata": {
    "jp-MarkdownHeadingCollapsed": true,
    "tags": []
   },
   "source": [
    "### x1.symmetric_difference_update(x2)\n",
    "or  \n",
    "x1 ^= x2  \n",
    "Modify a set by symmetric difference"
   ]
  },
  {
   "cell_type": "code",
   "execution_count": 80,
   "id": "78dae068-5e18-44e2-b8e3-2d453efd0d4a",
   "metadata": {},
   "outputs": [
    {
     "data": {
      "text/plain": [
       "{'bar', 'qux'}"
      ]
     },
     "execution_count": 80,
     "metadata": {},
     "output_type": "execute_result"
    }
   ],
   "source": [
    "x1 = {'foo', 'bar', 'baz'}\n",
    "x2 = {'foo', 'baz', 'qux'}\n",
    "\n",
    "x1 ^= x2\n",
    "x1"
   ]
  },
  {
   "cell_type": "code",
   "execution_count": 81,
   "id": "4e6ce651-ddb3-4fa1-8a67-40b538dd9340",
   "metadata": {},
   "outputs": [
    {
     "data": {
      "text/plain": [
       "{'bar', 'corge'}"
      ]
     },
     "execution_count": 81,
     "metadata": {},
     "output_type": "execute_result"
    }
   ],
   "source": [
    "x1.symmetric_difference_update(['qux', 'corge'])\n",
    "x1"
   ]
  },
  {
   "cell_type": "markdown",
   "id": "ddb89c1c-5e51-4799-9b36-d67a6e6358af",
   "metadata": {},
   "source": [
    "***"
   ]
  },
  {
   "cell_type": "markdown",
   "id": "140ff14e-200d-4b6a-9eea-446abaaebc73",
   "metadata": {
    "jp-MarkdownHeadingCollapsed": true,
    "tags": []
   },
   "source": [
    "## Other Methods for Modifying Sets"
   ]
  },
  {
   "cell_type": "markdown",
   "id": "f895dd65-f985-45b6-929e-f40b659c7cf7",
   "metadata": {
    "jp-MarkdownHeadingCollapsed": true,
    "tags": []
   },
   "source": [
    "### x.add(\\<elem>)\n",
    "Adds an element to a set"
   ]
  },
  {
   "cell_type": "code",
   "execution_count": 82,
   "id": "4343fdff-6d64-4ed3-af12-7ced5a7a56d5",
   "metadata": {},
   "outputs": [
    {
     "data": {
      "text/plain": [
       "{'bar', 'baz', 'foo', 'qux'}"
      ]
     },
     "execution_count": 82,
     "metadata": {},
     "output_type": "execute_result"
    }
   ],
   "source": [
    "x = {'foo', 'bar', 'baz'}\n",
    "\n",
    "x.add('qux')\n",
    "x"
   ]
  },
  {
   "cell_type": "markdown",
   "id": "61b82327-8518-499b-8eab-0332d0f9e2c5",
   "metadata": {},
   "source": [
    "***"
   ]
  },
  {
   "cell_type": "markdown",
   "id": "bc646796-b1eb-4759-93d3-da82a44c83e3",
   "metadata": {
    "jp-MarkdownHeadingCollapsed": true,
    "tags": []
   },
   "source": [
    "### x.remove(\\<elem>)\n",
    "Removes an element from a set"
   ]
  },
  {
   "cell_type": "code",
   "execution_count": 83,
   "id": "f6c59e6f-5617-4433-b55b-ba481a1f95c2",
   "metadata": {},
   "outputs": [
    {
     "data": {
      "text/plain": [
       "{'bar', 'foo'}"
      ]
     },
     "execution_count": 83,
     "metadata": {},
     "output_type": "execute_result"
    }
   ],
   "source": [
    "x = {'foo', 'bar', 'baz'}\n",
    "\n",
    "x.remove('baz')\n",
    "x"
   ]
  },
  {
   "cell_type": "code",
   "execution_count": 84,
   "id": "8c3fcafc-f188-4a93-b7b8-dcc6167e0463",
   "metadata": {},
   "outputs": [
    {
     "ename": "KeyError",
     "evalue": "'qux'",
     "output_type": "error",
     "traceback": [
      "\u001b[0;31m---------------------------------------------------------------------------\u001b[0m",
      "\u001b[0;31mKeyError\u001b[0m                                  Traceback (most recent call last)",
      "\u001b[0;32m/var/folders/yl/ftfrcz0s4nd_pncmmknzn7440000gn/T/ipykernel_88213/3746054529.py\u001b[0m in \u001b[0;36m<module>\u001b[0;34m\u001b[0m\n\u001b[0;32m----> 1\u001b[0;31m \u001b[0mx\u001b[0m\u001b[0;34m.\u001b[0m\u001b[0mremove\u001b[0m\u001b[0;34m(\u001b[0m\u001b[0;34m'qux'\u001b[0m\u001b[0;34m)\u001b[0m\u001b[0;34m\u001b[0m\u001b[0;34m\u001b[0m\u001b[0m\n\u001b[0m",
      "\u001b[0;31mKeyError\u001b[0m: 'qux'"
     ]
    }
   ],
   "source": [
    "x.remove('qux')"
   ]
  },
  {
   "cell_type": "markdown",
   "id": "0e985d07-007a-4560-98d4-fa2ebdab2c2e",
   "metadata": {},
   "source": [
    "***"
   ]
  },
  {
   "cell_type": "markdown",
   "id": "8bd6d7d6-4712-4fb2-87f6-499fbc475edb",
   "metadata": {
    "jp-MarkdownHeadingCollapsed": true,
    "tags": []
   },
   "source": [
    "### x.discard(\\<elem>)\n",
    "Same as .remove but does not raise an error if elem is not in x"
   ]
  },
  {
   "cell_type": "code",
   "execution_count": 87,
   "id": "4e44ed4e-e3fa-4651-b716-19a2b09a7c2b",
   "metadata": {},
   "outputs": [
    {
     "data": {
      "text/plain": [
       "{'bar', 'foo'}"
      ]
     },
     "execution_count": 87,
     "metadata": {},
     "output_type": "execute_result"
    }
   ],
   "source": [
    "x = {'foo', 'bar', 'baz'}\n",
    "\n",
    "x.discard('baz')\n",
    "x"
   ]
  },
  {
   "cell_type": "code",
   "execution_count": 89,
   "id": "533aaa9f-c0f2-42b0-bfec-d37d79c726d8",
   "metadata": {},
   "outputs": [
    {
     "data": {
      "text/plain": [
       "{'bar', 'foo'}"
      ]
     },
     "execution_count": 89,
     "metadata": {},
     "output_type": "execute_result"
    }
   ],
   "source": [
    "x.discard('qux')\n",
    "x"
   ]
  },
  {
   "cell_type": "markdown",
   "id": "0facd6e6-92ff-4f0c-b55c-c22acf5006ab",
   "metadata": {},
   "source": [
    "***"
   ]
  },
  {
   "cell_type": "markdown",
   "id": "75a5b676-e53d-493c-a60a-27b6f12ae5cd",
   "metadata": {
    "jp-MarkdownHeadingCollapsed": true,
    "tags": []
   },
   "source": [
    "### x.pop()\n",
    "Removes a random element from a set  \n",
    "(raises an exception if x is empty)"
   ]
  },
  {
   "cell_type": "code",
   "execution_count": 90,
   "id": "33032afb-4f7f-4d4b-b67c-a788f0b7eb62",
   "metadata": {},
   "outputs": [
    {
     "data": {
      "text/plain": [
       "'baz'"
      ]
     },
     "execution_count": 90,
     "metadata": {},
     "output_type": "execute_result"
    }
   ],
   "source": [
    "x = {'foo', 'bar', 'baz'}\n",
    "\n",
    "x.pop()"
   ]
  },
  {
   "cell_type": "code",
   "execution_count": 92,
   "id": "1254f60d-1ee0-4e68-8aa8-19a74a1eb812",
   "metadata": {},
   "outputs": [
    {
     "data": {
      "text/plain": [
       "{'bar', 'foo'}"
      ]
     },
     "execution_count": 92,
     "metadata": {},
     "output_type": "execute_result"
    }
   ],
   "source": [
    "x"
   ]
  },
  {
   "cell_type": "code",
   "execution_count": 93,
   "id": "30784b99-ea31-4201-bb18-3f62059be2bb",
   "metadata": {},
   "outputs": [
    {
     "data": {
      "text/plain": [
       "'foo'"
      ]
     },
     "execution_count": 93,
     "metadata": {},
     "output_type": "execute_result"
    }
   ],
   "source": [
    "x.pop()"
   ]
  },
  {
   "cell_type": "code",
   "execution_count": 94,
   "id": "8e29dd0a-d250-4585-b863-3d0063dce6be",
   "metadata": {},
   "outputs": [
    {
     "data": {
      "text/plain": [
       "{'bar'}"
      ]
     },
     "execution_count": 94,
     "metadata": {},
     "output_type": "execute_result"
    }
   ],
   "source": [
    "x"
   ]
  },
  {
   "cell_type": "code",
   "execution_count": 95,
   "id": "11978b67-a172-47d6-8fba-493931821045",
   "metadata": {},
   "outputs": [
    {
     "data": {
      "text/plain": [
       "'bar'"
      ]
     },
     "execution_count": 95,
     "metadata": {},
     "output_type": "execute_result"
    }
   ],
   "source": [
    "x.pop()"
   ]
  },
  {
   "cell_type": "code",
   "execution_count": 96,
   "id": "e08356d5-5088-4029-a64a-237da3e892ad",
   "metadata": {},
   "outputs": [
    {
     "data": {
      "text/plain": [
       "set()"
      ]
     },
     "execution_count": 96,
     "metadata": {},
     "output_type": "execute_result"
    }
   ],
   "source": [
    "x"
   ]
  },
  {
   "cell_type": "code",
   "execution_count": 97,
   "id": "6c2c930c-de7f-4bc7-bb9c-d59e41e1dece",
   "metadata": {},
   "outputs": [
    {
     "ename": "KeyError",
     "evalue": "'pop from an empty set'",
     "output_type": "error",
     "traceback": [
      "\u001b[0;31m---------------------------------------------------------------------------\u001b[0m",
      "\u001b[0;31mKeyError\u001b[0m                                  Traceback (most recent call last)",
      "\u001b[0;32m/var/folders/yl/ftfrcz0s4nd_pncmmknzn7440000gn/T/ipykernel_88213/3390390248.py\u001b[0m in \u001b[0;36m<module>\u001b[0;34m\u001b[0m\n\u001b[0;32m----> 1\u001b[0;31m \u001b[0mx\u001b[0m\u001b[0;34m.\u001b[0m\u001b[0mpop\u001b[0m\u001b[0;34m(\u001b[0m\u001b[0;34m)\u001b[0m\u001b[0;34m\u001b[0m\u001b[0;34m\u001b[0m\u001b[0m\n\u001b[0m",
      "\u001b[0;31mKeyError\u001b[0m: 'pop from an empty set'"
     ]
    }
   ],
   "source": [
    "x.pop()"
   ]
  },
  {
   "cell_type": "markdown",
   "id": "ae258df5-154c-4ef9-9518-450a52d12fab",
   "metadata": {},
   "source": [
    "***"
   ]
  },
  {
   "cell_type": "markdown",
   "id": "5f22a66d-1e9c-47aa-ba61-99798ba2e8f0",
   "metadata": {
    "jp-MarkdownHeadingCollapsed": true,
    "tags": []
   },
   "source": [
    "### x.clear()\n",
    "Clears a set"
   ]
  },
  {
   "cell_type": "code",
   "execution_count": 98,
   "id": "5cbc0bb1-c498-46fc-ae48-102544a17e50",
   "metadata": {},
   "outputs": [
    {
     "data": {
      "text/plain": [
       "{'bar', 'baz', 'foo'}"
      ]
     },
     "execution_count": 98,
     "metadata": {},
     "output_type": "execute_result"
    }
   ],
   "source": [
    "x = {'foo', 'bar', 'baz'}\n",
    "x"
   ]
  },
  {
   "cell_type": "code",
   "execution_count": 99,
   "id": "0785800b-39e6-47a0-b443-be96eaf4c1cb",
   "metadata": {},
   "outputs": [
    {
     "data": {
      "text/plain": [
       "set()"
      ]
     },
     "execution_count": 99,
     "metadata": {},
     "output_type": "execute_result"
    }
   ],
   "source": [
    "x.clear()\n",
    "x"
   ]
  },
  {
   "cell_type": "markdown",
   "id": "49fe586d-2e68-4ccb-98f7-b2612b7c6f9c",
   "metadata": {},
   "source": [
    "## Frozen Sets\n",
    "Like a set, except that a frozenset is immutable.  \n",
    "Can still perform non-modifying operations on a frozenset"
   ]
  },
  {
   "cell_type": "code",
   "execution_count": 100,
   "id": "5b211a87-51b3-4ace-ae44-fbd43c6993ff",
   "metadata": {},
   "outputs": [
    {
     "data": {
      "text/plain": [
       "frozenset({'bar', 'baz', 'foo'})"
      ]
     },
     "execution_count": 100,
     "metadata": {},
     "output_type": "execute_result"
    }
   ],
   "source": [
    "x = frozenset(['foo', 'bar', 'baz'])\n",
    "x"
   ]
  },
  {
   "cell_type": "code",
   "execution_count": 101,
   "id": "aaa961fd-3a4d-4aba-99c1-3a5d963122f0",
   "metadata": {},
   "outputs": [
    {
     "data": {
      "text/plain": [
       "3"
      ]
     },
     "execution_count": 101,
     "metadata": {},
     "output_type": "execute_result"
    }
   ],
   "source": [
    "len(x)"
   ]
  },
  {
   "cell_type": "code",
   "execution_count": 102,
   "id": "dcc794c2-4007-4fea-ba42-ec4b1171582f",
   "metadata": {},
   "outputs": [
    {
     "data": {
      "text/plain": [
       "frozenset({'baz'})"
      ]
     },
     "execution_count": 102,
     "metadata": {},
     "output_type": "execute_result"
    }
   ],
   "source": [
    "x & {'baz', 'qux', 'quux'}"
   ]
  },
  {
   "cell_type": "code",
   "execution_count": null,
   "id": "6fd44e9a-605f-426c-8d2f-c0c4b471e1ff",
   "metadata": {},
   "outputs": [],
   "source": []
  }
 ],
 "metadata": {
  "kernelspec": {
   "display_name": "ds_env",
   "language": "python",
   "name": "ds_env"
  },
  "language_info": {
   "codemirror_mode": {
    "name": "ipython",
    "version": 3
   },
   "file_extension": ".py",
   "mimetype": "text/x-python",
   "name": "python",
   "nbconvert_exporter": "python",
   "pygments_lexer": "ipython3",
   "version": "3.8.12"
  }
 },
 "nbformat": 4,
 "nbformat_minor": 5
}
