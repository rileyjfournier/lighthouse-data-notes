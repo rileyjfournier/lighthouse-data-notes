{
 "cells": [
  {
   "cell_type": "markdown",
   "id": "bcfc9d98-60b0-4a7b-a3d1-7294af94059e",
   "metadata": {},
   "source": [
    "## Exception Handling\n",
    "Python uses *try* and *except* keywords to handle exceptions.  \n",
    "We use exception handling because typically the program terminates on encountering an exception, causing damage to system resources/functionality. Hence, exceptions should be properly handled to avoid abrupt termination."
   ]
  },
  {
   "cell_type": "code",
   "execution_count": null,
   "id": "d8a4e348-2c1c-41ef-b754-aeab8cdb2406",
   "metadata": {},
   "outputs": [],
   "source": [
    "try:\n",
    "    #statements in try block\n",
    "except:\n",
    "    #executed when error in try block"
   ]
  },
  {
   "cell_type": "code",
   "execution_count": 1,
   "id": "5d6e182d-8866-498b-a0a7-aca998fac017",
   "metadata": {},
   "outputs": [
    {
     "name": "stdout",
     "output_type": "stream",
     "text": [
      "Some error occurred.\n",
      "Out of try except blocks.\n"
     ]
    }
   ],
   "source": [
    "try:\n",
    "    a = 5\n",
    "    b = '0'\n",
    "    print(a/b)\n",
    "except:\n",
    "    print('Some error occurred.')\n",
    "\n",
    "print(\"Out of try except blocks.\")"
   ]
  },
  {
   "cell_type": "code",
   "execution_count": 4,
   "id": "cd09856d-7ba4-4ae2-8cf4-3e98fbf2a693",
   "metadata": {},
   "outputs": [
    {
     "name": "stdout",
     "output_type": "stream",
     "text": [
      "Unsupported operation\n",
      "Out of try except blocks.\n"
     ]
    }
   ],
   "source": [
    "try:\n",
    "    a = 5\n",
    "    b = '0'\n",
    "    print(a/b)\n",
    "except TypeError:\n",
    "    print('Unsupported operation')\n",
    "\n",
    "print(\"Out of try except blocks.\")"
   ]
  },
  {
   "cell_type": "code",
   "execution_count": 5,
   "id": "8963654d-dea9-493f-afc5-751428385045",
   "metadata": {},
   "outputs": [
    {
     "name": "stdout",
     "output_type": "stream",
     "text": [
      "Division by zero not allowed\n",
      "Out of try except blocks.\n"
     ]
    }
   ],
   "source": [
    "try:\n",
    "    a = 5\n",
    "    b = 0\n",
    "    print(a/b)\n",
    "except TypeError:\n",
    "    print('Unsupported operation')\n",
    "except ZeroDivisionError:\n",
    "    print('Division by zero not allowed')\n",
    "\n",
    "print(\"Out of try except blocks.\")"
   ]
  },
  {
   "cell_type": "markdown",
   "id": "c24f9810-8635-4651-8172-bb01d010d561",
   "metadata": {},
   "source": [
    "***"
   ]
  },
  {
   "cell_type": "markdown",
   "id": "eff8d09d-79f4-4464-8ed3-c78c958f978e",
   "metadata": {},
   "source": [
    "The *finally* block consists of statements which should be processed regardless of an exception occurring in the try block or not."
   ]
  },
  {
   "cell_type": "code",
   "execution_count": 7,
   "id": "52cd50cb-7463-4e0a-86af-36dc7cd3d75d",
   "metadata": {},
   "outputs": [],
   "source": [
    "def finally_test():\n",
    "    try:\n",
    "        print('try block')\n",
    "        x = int(input(\"Enter a number: \"))\n",
    "        y = int(input(\"Enter another number: \"))\n",
    "        z = x / y\n",
    "    except ZeroDivisionError:\n",
    "        print(\"except ZeroDivisionError block\")\n",
    "        print(\"Division by 0 not accepted\")\n",
    "    else:\n",
    "        print(\"else block\")\n",
    "        print(\"Division = \", z)\n",
    "    finally:\n",
    "        print(\"finally block\")\n",
    "        x = 0\n",
    "        y = 0\n",
    "    print(\"Out of try, except, else, and finally blocks.\")"
   ]
  },
  {
   "cell_type": "code",
   "execution_count": 8,
   "id": "184a5947-65d6-4f9d-9a75-b1ecf1597a1b",
   "metadata": {},
   "outputs": [
    {
     "name": "stdout",
     "output_type": "stream",
     "text": [
      "try block\n"
     ]
    },
    {
     "name": "stdin",
     "output_type": "stream",
     "text": [
      "Enter a number:  10\n",
      "Enter another number:  2\n"
     ]
    },
    {
     "name": "stdout",
     "output_type": "stream",
     "text": [
      "else block\n",
      "Division =  5.0\n",
      "finally block\n",
      "Out of try, except, else, and finally blocks.\n"
     ]
    }
   ],
   "source": [
    "finally_test()"
   ]
  },
  {
   "cell_type": "code",
   "execution_count": 9,
   "id": "57d1bf0e-0545-444f-aebe-17234d7bc1e2",
   "metadata": {},
   "outputs": [
    {
     "name": "stdout",
     "output_type": "stream",
     "text": [
      "try block\n"
     ]
    },
    {
     "name": "stdin",
     "output_type": "stream",
     "text": [
      "Enter a number:  10\n",
      "Enter another number:  0\n"
     ]
    },
    {
     "name": "stdout",
     "output_type": "stream",
     "text": [
      "except ZeroDivisionError block\n",
      "Division by 0 not accepted\n",
      "finally block\n",
      "Out of try, except, else, and finally blocks.\n"
     ]
    }
   ],
   "source": [
    "finally_test()"
   ]
  },
  {
   "cell_type": "code",
   "execution_count": 10,
   "id": "623eda3e-ab09-4cd6-a131-5fc258b0af22",
   "metadata": {},
   "outputs": [
    {
     "name": "stdout",
     "output_type": "stream",
     "text": [
      "try block\n"
     ]
    },
    {
     "name": "stdin",
     "output_type": "stream",
     "text": [
      "Enter a number:  10\n",
      "Enter another number:  xyz\n"
     ]
    },
    {
     "name": "stdout",
     "output_type": "stream",
     "text": [
      "finally block\n"
     ]
    },
    {
     "ename": "ValueError",
     "evalue": "invalid literal for int() with base 10: 'xyz'",
     "output_type": "error",
     "traceback": [
      "\u001b[0;31m---------------------------------------------------------------------------\u001b[0m",
      "\u001b[0;31mValueError\u001b[0m                                Traceback (most recent call last)",
      "\u001b[0;32m/var/folders/yl/ftfrcz0s4nd_pncmmknzn7440000gn/T/ipykernel_91486/2857748166.py\u001b[0m in \u001b[0;36m<module>\u001b[0;34m\u001b[0m\n\u001b[0;32m----> 1\u001b[0;31m \u001b[0mfinally_test\u001b[0m\u001b[0;34m(\u001b[0m\u001b[0;34m)\u001b[0m\u001b[0;34m\u001b[0m\u001b[0;34m\u001b[0m\u001b[0m\n\u001b[0m",
      "\u001b[0;32m/var/folders/yl/ftfrcz0s4nd_pncmmknzn7440000gn/T/ipykernel_91486/3452184064.py\u001b[0m in \u001b[0;36mfinally_test\u001b[0;34m()\u001b[0m\n\u001b[1;32m      3\u001b[0m         \u001b[0mprint\u001b[0m\u001b[0;34m(\u001b[0m\u001b[0;34m'try block'\u001b[0m\u001b[0;34m)\u001b[0m\u001b[0;34m\u001b[0m\u001b[0;34m\u001b[0m\u001b[0m\n\u001b[1;32m      4\u001b[0m         \u001b[0mx\u001b[0m \u001b[0;34m=\u001b[0m \u001b[0mint\u001b[0m\u001b[0;34m(\u001b[0m\u001b[0minput\u001b[0m\u001b[0;34m(\u001b[0m\u001b[0;34m\"Enter a number: \"\u001b[0m\u001b[0;34m)\u001b[0m\u001b[0;34m)\u001b[0m\u001b[0;34m\u001b[0m\u001b[0;34m\u001b[0m\u001b[0m\n\u001b[0;32m----> 5\u001b[0;31m         \u001b[0my\u001b[0m \u001b[0;34m=\u001b[0m \u001b[0mint\u001b[0m\u001b[0;34m(\u001b[0m\u001b[0minput\u001b[0m\u001b[0;34m(\u001b[0m\u001b[0;34m\"Enter another number: \"\u001b[0m\u001b[0;34m)\u001b[0m\u001b[0;34m)\u001b[0m\u001b[0;34m\u001b[0m\u001b[0;34m\u001b[0m\u001b[0m\n\u001b[0m\u001b[1;32m      6\u001b[0m         \u001b[0mz\u001b[0m \u001b[0;34m=\u001b[0m \u001b[0mx\u001b[0m \u001b[0;34m/\u001b[0m \u001b[0my\u001b[0m\u001b[0;34m\u001b[0m\u001b[0;34m\u001b[0m\u001b[0m\n\u001b[1;32m      7\u001b[0m     \u001b[0;32mexcept\u001b[0m \u001b[0mZeroDivisionError\u001b[0m\u001b[0;34m:\u001b[0m\u001b[0;34m\u001b[0m\u001b[0;34m\u001b[0m\u001b[0m\n",
      "\u001b[0;31mValueError\u001b[0m: invalid literal for int() with base 10: 'xyz'"
     ]
    }
   ],
   "source": [
    "finally_test()"
   ]
  },
  {
   "cell_type": "markdown",
   "id": "37fb3f45-2cb3-4b51-936a-7e291e3ee648",
   "metadata": {},
   "source": [
    "***"
   ]
  },
  {
   "cell_type": "markdown",
   "id": "1b2e53b7-e458-45d6-bce2-baa0a8672a77",
   "metadata": {},
   "source": [
    "# Raise an Exception\n",
    "Causes an exception to be generated explicitly"
   ]
  },
  {
   "cell_type": "code",
   "execution_count": 12,
   "id": "67d28caf-e6af-495a-a3cb-fc7d3efcb1de",
   "metadata": {},
   "outputs": [],
   "source": [
    "def raise_test():\n",
    "    try:\n",
    "        x = int(input('Enter a number upto 100: '))\n",
    "        if x > 100:\n",
    "            raise ValueError(x)\n",
    "    except ValueError:\n",
    "        print(x, \"is out of allowed range\")\n",
    "    else:\n",
    "        print(x, \"is within the allowed range\")"
   ]
  },
  {
   "cell_type": "code",
   "execution_count": 13,
   "id": "1d26ab9d-9d5a-4826-8a4f-1012a4c79ef2",
   "metadata": {},
   "outputs": [
    {
     "name": "stdin",
     "output_type": "stream",
     "text": [
      "Enter a number upto 100:  200\n"
     ]
    },
    {
     "name": "stdout",
     "output_type": "stream",
     "text": [
      "200 is out of allowed range\n"
     ]
    }
   ],
   "source": [
    "raise_test()"
   ]
  },
  {
   "cell_type": "code",
   "execution_count": 14,
   "id": "16e840d3-dfd0-4802-b5c6-900edb1095af",
   "metadata": {},
   "outputs": [
    {
     "name": "stdin",
     "output_type": "stream",
     "text": [
      "Enter a number upto 100:  50\n"
     ]
    },
    {
     "name": "stdout",
     "output_type": "stream",
     "text": [
      "50 is within the allowed range\n"
     ]
    }
   ],
   "source": [
    "raise_test()"
   ]
  },
  {
   "cell_type": "code",
   "execution_count": null,
   "id": "78c1b8e2-f12d-4485-94f9-8b5d948c2388",
   "metadata": {},
   "outputs": [],
   "source": []
  }
 ],
 "metadata": {
  "kernelspec": {
   "display_name": "ds_env",
   "language": "python",
   "name": "ds_env"
  },
  "language_info": {
   "codemirror_mode": {
    "name": "ipython",
    "version": 3
   },
   "file_extension": ".py",
   "mimetype": "text/x-python",
   "name": "python",
   "nbconvert_exporter": "python",
   "pygments_lexer": "ipython3",
   "version": "3.8.12"
  }
 },
 "nbformat": 4,
 "nbformat_minor": 5
}
