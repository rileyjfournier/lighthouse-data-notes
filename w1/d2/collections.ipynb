{
 "cells": [
  {
   "cell_type": "markdown",
   "id": "270721c3-d955-48d6-a892-b477a92aa039",
   "metadata": {},
   "source": [
    "# The Collections Module\n",
    "- Counter\n",
    "- defaultdict\n",
    "- OrderedDict\n",
    "- deque\n",
    "- ChainMap\n",
    "- namedtuple()"
   ]
  },
  {
   "cell_type": "markdown",
   "id": "edbbc7ea-3b1d-40d8-9d13-8b95d7196a1f",
   "metadata": {
    "tags": []
   },
   "source": [
    "## Counter"
   ]
  },
  {
   "cell_type": "code",
   "execution_count": 1,
   "id": "79047f87-38d2-4457-87f8-6e494e69587a",
   "metadata": {},
   "outputs": [],
   "source": [
    "from collections import Counter"
   ]
  },
  {
   "cell_type": "code",
   "execution_count": 4,
   "id": "8f3ba883-cb92-4e87-a108-c2a972fa89ee",
   "metadata": {},
   "outputs": [],
   "source": [
    "cnt = Counter()"
   ]
  },
  {
   "cell_type": "code",
   "execution_count": 6,
   "id": "2cd7358a-e714-49a4-8ad1-c9fb0c97205e",
   "metadata": {},
   "outputs": [
    {
     "data": {
      "text/plain": [
       "Counter({1: 3, 2: 2, 3: 2, 4: 1, 6: 1, 7: 1, 8: 1})"
      ]
     },
     "execution_count": 6,
     "metadata": {},
     "output_type": "execute_result"
    }
   ],
   "source": [
    "some_list = [1,2,3,4,1,2,6,7,3,8,1]\n",
    "Counter(some_list)"
   ]
  },
  {
   "cell_type": "code",
   "execution_count": 7,
   "id": "7afb0670-a6eb-4953-86a0-c64ad09ad15c",
   "metadata": {},
   "outputs": [
    {
     "data": {
      "text/plain": [
       "Counter({1: 3, 2: 4})"
      ]
     },
     "execution_count": 7,
     "metadata": {},
     "output_type": "execute_result"
    }
   ],
   "source": [
    "Counter({1:3,2:4})"
   ]
  },
  {
   "cell_type": "code",
   "execution_count": 8,
   "id": "10ae83ff-aba7-4423-86db-7421531b43eb",
   "metadata": {},
   "outputs": [
    {
     "name": "stdout",
     "output_type": "stream",
     "text": [
      "3\n"
     ]
    }
   ],
   "source": [
    "some_list = [1,2,3,4,1,2,6,7,3,8,1]\n",
    "cnt = Counter(some_list)\n",
    "print(cnt[1])"
   ]
  },
  {
   "cell_type": "markdown",
   "id": "5fd850be-fe80-4bf2-bbcb-7d6ddb5e1dd2",
   "metadata": {},
   "source": [
    "***"
   ]
  },
  {
   "cell_type": "markdown",
   "id": "32854e61-c565-4ce0-874b-3cea5d444966",
   "metadata": {},
   "source": [
    "Counter has three additional functions:  \n",
    "- Elements\n",
    "- Most_common([n])\n",
    "- Subract([interable-or-mapping])"
   ]
  },
  {
   "cell_type": "markdown",
   "id": "be914f35-ec2f-4e6c-a050-53ded79b7b56",
   "metadata": {
    "tags": []
   },
   "source": [
    "### The element() function"
   ]
  },
  {
   "cell_type": "code",
   "execution_count": 9,
   "id": "ad43b7bc-7c90-4ace-806e-41ffb9249586",
   "metadata": {},
   "outputs": [
    {
     "name": "stdout",
     "output_type": "stream",
     "text": [
      "[1, 1, 1, 2, 2, 2, 2]\n"
     ]
    }
   ],
   "source": [
    "cnt = Counter({1:3,2:4})\n",
    "print(list(cnt.elements()))"
   ]
  },
  {
   "cell_type": "markdown",
   "id": "55f7fc9b-d5cf-4689-b111-8469fdd589f1",
   "metadata": {
    "tags": []
   },
   "source": [
    "### The most_common() function"
   ]
  },
  {
   "cell_type": "code",
   "execution_count": 10,
   "id": "d467e7b4-cace-4220-b173-0459c207e69d",
   "metadata": {},
   "outputs": [
    {
     "name": "stdout",
     "output_type": "stream",
     "text": [
      "[(1, 3), (2, 2), (3, 2), (4, 1), (6, 1), (7, 1), (8, 1)]\n"
     ]
    }
   ],
   "source": [
    "some_list = [1,2,3,4,1,2,6,7,3,8,1]\n",
    "cnt = Counter(some_list)\n",
    "print(cnt.most_common())"
   ]
  },
  {
   "cell_type": "markdown",
   "id": "c0eef27b-b12c-414e-9548-e0c16c67e426",
   "metadata": {
    "jp-MarkdownHeadingCollapsed": true,
    "tags": []
   },
   "source": [
    "### The subract() function"
   ]
  },
  {
   "cell_type": "code",
   "execution_count": 11,
   "id": "e481627a-835d-48b8-b7a4-62585c0e0ec7",
   "metadata": {},
   "outputs": [
    {
     "name": "stdout",
     "output_type": "stream",
     "text": [
      "Counter({1: 2, 2: 2})\n"
     ]
    }
   ],
   "source": [
    "cnt = Counter({1:3,2:4})\n",
    "deduct = {1:1, 2:2}\n",
    "cnt.subtract(deduct)\n",
    "print(cnt)"
   ]
  },
  {
   "cell_type": "markdown",
   "id": "0e45492f-a1cd-478d-8163-225a65f83c9e",
   "metadata": {
    "tags": []
   },
   "source": [
    "## Defaultdict\n",
    "Works like a python dictionary, but does not throw KeyError when trying to access a non-existent key"
   ]
  },
  {
   "cell_type": "code",
   "execution_count": 12,
   "id": "2628aaa0-aeca-419e-8b7f-4cef8594f909",
   "metadata": {},
   "outputs": [],
   "source": [
    "from collections import defaultdict"
   ]
  },
  {
   "cell_type": "code",
   "execution_count": 13,
   "id": "74f84ad4-4e4f-4cd0-95c3-6593c44280a9",
   "metadata": {},
   "outputs": [
    {
     "name": "stdout",
     "output_type": "stream",
     "text": [
      "0\n"
     ]
    }
   ],
   "source": [
    "nums = defaultdict(int)\n",
    "nums['one'] = 1\n",
    "nums['two'] = 2\n",
    "print(nums['three'])"
   ]
  },
  {
   "cell_type": "code",
   "execution_count": 14,
   "id": "d6a53b95-aa6b-4424-82c6-3aefd54b281b",
   "metadata": {},
   "outputs": [
    {
     "name": "stdout",
     "output_type": "stream",
     "text": [
      "defaultdict(<class 'int'>, {'Mike': 5, 'John': 3, 'Anna': 2, 'Britney': 1, 'Smith': 2})\n"
     ]
    }
   ],
   "source": [
    "count = defaultdict(int)\n",
    "names_list = \"Mike John Mike Anna Mike John John Mike Mike Britney Smith Anna Smith\".split()\n",
    "for names in names_list:\n",
    "    count[names] += 1\n",
    "print(count)"
   ]
  },
  {
   "cell_type": "markdown",
   "id": "9d0f7010-4c09-4fa0-a808-3adeda5a0201",
   "metadata": {
    "tags": []
   },
   "source": [
    "## OrderedDict"
   ]
  },
  {
   "cell_type": "code",
   "execution_count": 15,
   "id": "bc142063-32ed-4e23-9299-df6c2e2fc267",
   "metadata": {},
   "outputs": [],
   "source": [
    "from collections import OrderedDict"
   ]
  },
  {
   "cell_type": "code",
   "execution_count": 16,
   "id": "d8b7bc3a-9648-4261-bf68-196345d0d309",
   "metadata": {},
   "outputs": [
    {
     "name": "stdout",
     "output_type": "stream",
     "text": [
      "OrderedDict([('a', 1), ('b', 2), ('c', 3)])\n"
     ]
    }
   ],
   "source": [
    "od = OrderedDict()\n",
    "od['a'] = 1\n",
    "od['b'] = 2\n",
    "od['c'] = 3\n",
    "print(od)"
   ]
  },
  {
   "cell_type": "code",
   "execution_count": 17,
   "id": "965e5190-8a5a-4b53-8e95-5572f582a786",
   "metadata": {},
   "outputs": [
    {
     "name": "stdout",
     "output_type": "stream",
     "text": [
      "a 1\n",
      "b 2\n",
      "c 3\n"
     ]
    }
   ],
   "source": [
    "# can access each element using a loop\n",
    "for key, value in od.items():\n",
    "    print(key, value)"
   ]
  },
  {
   "cell_type": "code",
   "execution_count": 18,
   "id": "d309d34f-572d-4990-b500-f54c3adf4545",
   "metadata": {},
   "outputs": [
    {
     "name": "stdout",
     "output_type": "stream",
     "text": [
      "a 4\n",
      "c 3\n",
      "b 2\n"
     ]
    }
   ],
   "source": [
    "some_list = ['a', 'c', 'c', 'a', 'b', 'a', 'a', 'b', 'c']\n",
    "cnt = Counter(some_list)\n",
    "od = OrderedDict(cnt.most_common())\n",
    "for key, value in od.items():\n",
    "    print(key, value)"
   ]
  },
  {
   "cell_type": "markdown",
   "id": "92d0532d-ea0d-42f2-8928-9ccaf8638223",
   "metadata": {
    "tags": []
   },
   "source": [
    "## deque\n",
    "A list optimized for inserting and removing items"
   ]
  },
  {
   "cell_type": "code",
   "execution_count": 19,
   "id": "8e1cf5f0-b61d-45ea-9e63-7f9a3967ef11",
   "metadata": {},
   "outputs": [],
   "source": [
    "from collections import deque"
   ]
  },
  {
   "cell_type": "code",
   "execution_count": 23,
   "id": "bd08fb7a-3d46-483a-abc1-8850a9709c2c",
   "metadata": {},
   "outputs": [
    {
     "name": "stdout",
     "output_type": "stream",
     "text": [
      "deque(['a', 'b', 'c'])\n"
     ]
    }
   ],
   "source": [
    "some_list = ['a', 'b', 'c']\n",
    "deq = deque(some_list)\n",
    "print(deq)"
   ]
  },
  {
   "cell_type": "code",
   "execution_count": 24,
   "id": "9b35a2d4-fb3d-4922-b716-8ab47999ca38",
   "metadata": {},
   "outputs": [
    {
     "name": "stdout",
     "output_type": "stream",
     "text": [
      "deque(['e', 'a', 'b', 'c', 'd'])\n"
     ]
    }
   ],
   "source": [
    "# Adding elements\n",
    "\n",
    "deq.append('d')\n",
    "deq.appendleft('e')\n",
    "print(deq)"
   ]
  },
  {
   "cell_type": "code",
   "execution_count": 25,
   "id": "417165ae-7a5b-4374-b625-91e5d3f8efd7",
   "metadata": {},
   "outputs": [
    {
     "name": "stdout",
     "output_type": "stream",
     "text": [
      "deque(['a', 'b', 'c'])\n"
     ]
    }
   ],
   "source": [
    "# Removing elements\n",
    "\n",
    "deq.pop()\n",
    "deq.popleft()\n",
    "print(deq)"
   ]
  },
  {
   "cell_type": "code",
   "execution_count": 26,
   "id": "549e2ec4-2f1f-4e1f-aa1d-553faa9c7bd2",
   "metadata": {},
   "outputs": [
    {
     "name": "stdout",
     "output_type": "stream",
     "text": [
      "deque(['a', 'b', 'c'])\n",
      "None\n"
     ]
    }
   ],
   "source": [
    "# Clearing elements\n",
    "\n",
    "deq = deque(some_list)\n",
    "print(deq)\n",
    "print(deq.clear())"
   ]
  },
  {
   "cell_type": "code",
   "execution_count": 27,
   "id": "83b342f8-da01-49cb-af13-5d38c1534919",
   "metadata": {},
   "outputs": [
    {
     "name": "stdout",
     "output_type": "stream",
     "text": [
      "1\n"
     ]
    }
   ],
   "source": [
    "# Counting elements in a deque\n",
    "some_list = ['a', 'b', 'c']\n",
    "deq = deque(some_list)\n",
    "print(deq.count('a'))"
   ]
  },
  {
   "cell_type": "markdown",
   "id": "4be37270-c530-4151-b5a2-29932a4bf693",
   "metadata": {
    "jp-MarkdownHeadingCollapsed": true,
    "tags": []
   },
   "source": [
    "## ChainMap\n",
    "Used to combine several dictionaries or mappings. Returns a list of dictionaries"
   ]
  },
  {
   "cell_type": "code",
   "execution_count": 28,
   "id": "819b5e04-e218-4b7b-94cf-86b3e201a68a",
   "metadata": {},
   "outputs": [],
   "source": [
    "from collections import ChainMap"
   ]
  },
  {
   "cell_type": "code",
   "execution_count": 29,
   "id": "82a7a3a7-2102-42fa-9545-d4a89188eab5",
   "metadata": {},
   "outputs": [
    {
     "name": "stdout",
     "output_type": "stream",
     "text": [
      "[{'a': 1, 'b': 2}, {'c': 3, 'b': 4}]\n"
     ]
    }
   ],
   "source": [
    "dict1 = {'a': 1, 'b': 2}\n",
    "dict2 = {'c': 3, 'b': 4}\n",
    "\n",
    "chain_map = ChainMap(dict1, dict2)\n",
    "print(chain_map.maps)"
   ]
  },
  {
   "cell_type": "code",
   "execution_count": 30,
   "id": "8e5659ae-90a2-4667-afab-e3fd82d26470",
   "metadata": {},
   "outputs": [
    {
     "name": "stdout",
     "output_type": "stream",
     "text": [
      "1\n"
     ]
    }
   ],
   "source": [
    "print(chain_map['a'])"
   ]
  },
  {
   "cell_type": "code",
   "execution_count": 31,
   "id": "ef984fba-3eea-448e-afda-87cfe7da7836",
   "metadata": {},
   "outputs": [
    {
     "name": "stdout",
     "output_type": "stream",
     "text": [
      "[{'a': 1, 'b': 2}, {'c': 5, 'b': 4}]\n"
     ]
    }
   ],
   "source": [
    "# ChainMap updates its values when its \n",
    "# associated dictionaries are updated:\n",
    "\n",
    "dict2['c'] = 5\n",
    "print(chain_map.maps)"
   ]
  },
  {
   "cell_type": "code",
   "execution_count": 32,
   "id": "b639c1b3-06c9-40ee-ad19-aec2215c8fac",
   "metadata": {},
   "outputs": [
    {
     "name": "stdout",
     "output_type": "stream",
     "text": [
      "['c', 'b', 'a']\n",
      "[3, 2, 1]\n"
     ]
    }
   ],
   "source": [
    "# Getting keys and values from ChainMap\n",
    "\n",
    "dict1 = {'a': 1, 'b': 2}\n",
    "dict2 = {'c': 3, 'b': 4}\n",
    "\n",
    "chain_map = ChainMap(dict1, dict2)\n",
    "print(list(chain_map.keys()))\n",
    "print(list(chain_map.values()))"
   ]
  },
  {
   "cell_type": "markdown",
   "id": "9f07dbc8-2b4d-4183-b3ff-e14ea087893b",
   "metadata": {},
   "source": [
    "Notice the value for key 'b' is 2:  \n",
    "ChainMap takes the values for the key from the first dictionary"
   ]
  },
  {
   "cell_type": "code",
   "execution_count": 33,
   "id": "21b33928-2156-4f09-8c84-5fa7d8010e4c",
   "metadata": {},
   "outputs": [
    {
     "name": "stdout",
     "output_type": "stream",
     "text": [
      "ChainMap({'e': 5, 'f': 6}, {'a': 1, 'b': 2}, {'c': 3, 'b': 4})\n"
     ]
    }
   ],
   "source": [
    "# Adding a new dictionary to ChainMap\n",
    "# using new_child()\n",
    "\n",
    "dict3 = {'e': 5, 'f': 6}\n",
    "new_chain_map = chain_map.new_child(dict3)\n",
    "print(new_chain_map)"
   ]
  },
  {
   "cell_type": "markdown",
   "id": "1c7e903c-e437-43a7-9079-135e6e994590",
   "metadata": {},
   "source": [
    "## namedtuple()\n",
    "returns a tuple with names for each position in the tuple"
   ]
  },
  {
   "cell_type": "code",
   "execution_count": 34,
   "id": "0544edc8-97ea-48ec-a01e-9790f92d4f92",
   "metadata": {},
   "outputs": [],
   "source": [
    "from collections import namedtuple"
   ]
  },
  {
   "cell_type": "code",
   "execution_count": 35,
   "id": "98014239-e235-4cb7-9a98-ee72c54607a9",
   "metadata": {},
   "outputs": [
    {
     "name": "stdout",
     "output_type": "stream",
     "text": [
      "John\n"
     ]
    }
   ],
   "source": [
    "Student = namedtuple('Student', 'fname, lname, age')\n",
    "s1 = Student('John', 'Clarke', '13')\n",
    "print(s1.fname)"
   ]
  },
  {
   "cell_type": "code",
   "execution_count": 36,
   "id": "937cd6a7-4f9f-42a0-ba69-791a32bfb8ed",
   "metadata": {},
   "outputs": [
    {
     "name": "stdout",
     "output_type": "stream",
     "text": [
      "Student(fname='Adam', lname='Joe', age='18')\n"
     ]
    }
   ],
   "source": [
    "# created a namedtuple using list\n",
    "# using ._make()\n",
    "\n",
    "s2 = Student._make(['Adam', 'Joe', '18'])\n",
    "print(s2)"
   ]
  },
  {
   "cell_type": "code",
   "execution_count": 37,
   "id": "f3736309-d4f4-4c6e-b3e5-6bb9114f39d5",
   "metadata": {},
   "outputs": [
    {
     "name": "stdout",
     "output_type": "stream",
     "text": [
      "{'fname': 'John', 'lname': 'Clarke', 'age': '13'}\n"
     ]
    }
   ],
   "source": [
    "# create a new instance using an existing instance\n",
    "# using ._asdict()\n",
    "\n",
    "s3 = s1._asdict()\n",
    "print(s3)"
   ]
  },
  {
   "cell_type": "code",
   "execution_count": 38,
   "id": "75697be8-73d3-4ca1-9c79-4849566342fd",
   "metadata": {},
   "outputs": [
    {
     "name": "stdout",
     "output_type": "stream",
     "text": [
      "Student(fname='John', lname='Clarke', age='13')\n",
      "Student(fname='John', lname='Clarke', age='14')\n"
     ]
    }
   ],
   "source": [
    "# changing field values with ._replace() \n",
    "s4 = s1._replace(age='14')\n",
    "print(s1)\n",
    "print(s4)"
   ]
  },
  {
   "cell_type": "code",
   "execution_count": null,
   "id": "95876932-1054-4ba5-ac11-72d8944de60f",
   "metadata": {},
   "outputs": [],
   "source": []
  }
 ],
 "metadata": {
  "kernelspec": {
   "display_name": "ds_env",
   "language": "python",
   "name": "ds_env"
  },
  "language_info": {
   "codemirror_mode": {
    "name": "ipython",
    "version": 3
   },
   "file_extension": ".py",
   "mimetype": "text/x-python",
   "name": "python",
   "nbconvert_exporter": "python",
   "pygments_lexer": "ipython3",
   "version": "3.8.12"
  }
 },
 "nbformat": 4,
 "nbformat_minor": 5
}
